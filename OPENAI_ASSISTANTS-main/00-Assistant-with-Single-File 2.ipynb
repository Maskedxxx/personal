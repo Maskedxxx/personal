{
 "cells": [
  {
   "cell_type": "markdown",
   "id": "9b61ca09-df53-48a9-ae2b-b80ce5f8eea0",
   "metadata": {},
   "source": [
    "<center><a href=\"https://www.pieriantraining.com/\" ><img src=\"../PTCenteredPurple.png\" alt=\"Pierian Training Logo\" /></a></center>\n"
   ]
  },
  {
   "cell_type": "markdown",
   "id": "57d7168f-2a41-4db5-9c24-6d57327de3e4",
   "metadata": {},
   "source": [
    "# Knowledge Retrieval - один файл в сообщении\n",
    "\n",
    "Давайте разберем концепцию Knowledge Retrieval в более образовательном и объяснительном тоне:\n",
    "\n",
    "**Что такое Knowledge Retrieval?**\n",
    "Knowledge Retrieval - это функция, которая расширяет возможности AI Assistant за счет интеграции внешних источников знаний. Это может быть конкретная информация, связанная с продуктом, или документы, предоставленные пользователями.\n",
    "\n",
    "**Как это работает?**\n",
    "Когда вы загружаете документ в AI Assistant, OpenAI обрабатывает его в несколько этапов:\n",
    "\n",
    "1. **Разбивка и индексирование**: Документ делится на более мелкие чанки (\"куски\") и индексируется, то есть организуется таким образом, чтобы ИИ мог эффективно в нем искать.\n",
    "\n",
    "2. **Хранение Встраиваний**: Встраивания - это как бы сжатое представление содержимого документа, фиксирующее его важную информацию в формате, который ИИ может понять и извлечь при необходимости.\n",
    "\n",
    "3. **Внедрение векторного поиска**: Это метод, который ИИ использует для поиска наиболее релевантных частей документа на основе полученного запроса.\n",
    "\n",
    "**Включение поиска для помощника**\n",
    "При активации поиска для определенного помощника ИИ все прикрепленные файлы автоматически обрабатываются, как описано выше. Однако эта функция стоит 0,10 доллара за гигабайт в день (ДО 1 ГБ бесплатно) для каждого помощника, у которого включено извлечение.\n",
    "\n",
    "**Изменение настроек помощника**\n",
    "Вы можете включить или выключить функцию извлечения с помощью конечной точки Modify Assistant, которая является частью API Assistant.\n",
    "\n",
    "**Техника извлечения**\n",
    "ИИ-помощник выбирает один из двух методов поиска в зависимости от сообщений пользователя:\n",
    "\n",
    "1. ***Прямое включение подсказки**: Для коротких документов ИИ включает содержимое непосредственно в ответную подсказку.\n",
    "\n",
    "2. **Векторный поиск**:  Для более длинных документов он выполняет векторный поиск, чтобы найти наиболее релевантную информацию.\n",
    "\n",
    " \n",
    "В настоящее время система ставит во главу угла качество, включая весь релевантный контент в контекст модели для ответа на запросы. Однако OpenAI планирует внедрить больше стратегий поиска, позволяя разработчикам выбирать баланс между качеством поиска и стоимостью использования модели. \n",
    " "
   ]
  },
  {
   "cell_type": "code",
   "execution_count": 1,
   "id": "f898d062-1611-46d4-9d63-ebd9e8d037c6",
   "metadata": {},
   "outputs": [],
   "source": [
    "from openai import OpenAI\n",
    "import json\n",
    "client = OpenAI()"
   ]
  },
  {
   "cell_type": "markdown",
   "id": "0a5faa8d-fa70-4388-990d-1e65c01ceb73",
   "metadata": {},
   "source": [
    "----"
   ]
  },
  {
   "cell_type": "markdown",
   "id": "729aa5eb-f221-4419-a8a4-8ae3b1d5b747",
   "metadata": {},
   "source": [
    "## Uploading Files\n",
    "### 1) Загрузка файлов через прямое указание их путей"
   ]
  },
  {
   "cell_type": "code",
   "execution_count": 13,
   "id": "7566caed-8934-4b46-8edd-d18fbe734545",
   "metadata": {},
   "outputs": [],
   "source": [
    "import os\n",
    "files_to_upload = ['plan_upay.docx', 'plan_in_sign.docx', 'signs.docx']"
   ]
  },
  {
   "cell_type": "markdown",
   "id": "e716c1b7",
   "metadata": {},
   "source": [
    "## Функция загрузки файлов сначало на сервер OpenAI с указанием что эти файлы предназначены для Assistant"
   ]
  },
  {
   "cell_type": "code",
   "execution_count": 14,
   "id": "fa14312b-4025-453c-9d93-fa38c3fc24ed",
   "metadata": {},
   "outputs": [],
   "source": [
    "def upload_assistant_file(filename):\n",
    "    file = client.files.create(\n",
    "      file=open(filename, \"rb\"),\n",
    "      purpose='assistants'\n",
    "    )\n",
    "    print(file.id)"
   ]
  },
  {
   "cell_type": "markdown",
   "id": "f9c51129",
   "metadata": {},
   "source": [
    "## Запуск функции загрузки файлов на сервер. "
   ]
  },
  {
   "cell_type": "code",
   "execution_count": 15,
   "id": "b3663132-6e49-4490-a9e8-4179357c5543",
   "metadata": {},
   "outputs": [
    {
     "name": "stdout",
     "output_type": "stream",
     "text": [
      "file-8wFAh1pAqigNn8JX5c4ZNUvd\n",
      "file-ojV1fuoUcfGIeoMZLLCAViaK\n",
      "file-9nq5UX3m6hJELK6uZSsaZT6K\n"
     ]
    }
   ],
   "source": [
    "for file in files_to_upload:\n",
    "    upload_assistant_file(file)"
   ]
  },
  {
   "cell_type": "markdown",
   "id": "2cf20ea5",
   "metadata": {},
   "source": [
    "## Проверка имен файлов и их id"
   ]
  },
  {
   "cell_type": "code",
   "execution_count": 16,
   "id": "b2d09fcb",
   "metadata": {},
   "outputs": [
    {
     "name": "stdout",
     "output_type": "stream",
     "text": [
      "Имя файла: signs.docx, ID файла: file-9nq5UX3m6hJELK6uZSsaZT6K\n",
      "Имя файла: plan_in_sign.docx, ID файла: file-ojV1fuoUcfGIeoMZLLCAViaK\n",
      "Имя файла: plan_upay.docx, ID файла: file-8wFAh1pAqigNn8JX5c4ZNUvd\n"
     ]
    }
   ],
   "source": [
    "response = client.files.list()\n",
    "for file in response.data:\n",
    "    print(f\"Имя файла: {file.filename}, ID файла: {file.id}\")"
   ]
  },
  {
   "cell_type": "markdown",
   "id": "7cf42f9d",
   "metadata": {},
   "source": [
    "## Далее создаем векторную базу и помещаем в нее файлы которые мы загрузили"
   ]
  },
  {
   "cell_type": "markdown",
   "id": "220ebea9",
   "metadata": {},
   "source": [
    "## СОздали ВекБД"
   ]
  },
  {
   "cell_type": "code",
   "execution_count": 29,
   "id": "fb3f4100",
   "metadata": {},
   "outputs": [],
   "source": [
    "vector_store = client.beta.vector_stores.create(\n",
    "  name=\"Астрологические интерпритации\"\n",
    ")"
   ]
  },
  {
   "cell_type": "markdown",
   "id": "6706f5ae",
   "metadata": {},
   "source": [
    "## Вспомогательная функция которая выводит список id ВекБД и имя ВекБД"
   ]
  },
  {
   "cell_type": "code",
   "execution_count": 29,
   "id": "020dde75",
   "metadata": {},
   "outputs": [],
   "source": [
    "def get_vector_store_ids_and_names(vector_stores_response):\n",
    "    \"\"\"\n",
    "    Извлекает список ID и имен хранилищ векторов из SyncCursorPage.\n",
    "\n",
    "    Args:\n",
    "        vector_stores_response: Объект SyncCursorPage возвращаемый API-вызовом vector_stores.list().\n",
    "\n",
    "    Returns:\n",
    "        Список словарей, где каждый словарь содержит ID и имя хранилища векторов.\n",
    "    \"\"\"\n",
    "\n",
    "    vector_store_info = []\n",
    "    for store in vector_stores_response.data:\n",
    "        vector_store_info.append({\"id\": store.id, \"name\": store.name})\n",
    "    return vector_store_info\n"
   ]
  },
  {
   "cell_type": "markdown",
   "id": "c6a42ecf",
   "metadata": {},
   "source": [
    "## Вызов вспомогательной функции"
   ]
  },
  {
   "cell_type": "code",
   "execution_count": 30,
   "id": "e7ad5cb9",
   "metadata": {},
   "outputs": [
    {
     "name": "stdout",
     "output_type": "stream",
     "text": [
      "[{'id': 'vs_tKHpFBZxd6x7lPX8WkiykuCO', 'name': 'Астрологические интерпритации'}]\n"
     ]
    }
   ],
   "source": [
    "vector_stores = client.beta.vector_stores.list()\n",
    "vector_store_ids = get_vector_store_ids_and_names(vector_stores)\n",
    "print(vector_store_ids)"
   ]
  },
  {
   "cell_type": "markdown",
   "id": "f163c4d9",
   "metadata": {},
   "source": [
    "## Удаление выбранной ВекБД по id"
   ]
  },
  {
   "cell_type": "code",
   "execution_count": 27,
   "id": "c1bcf5b7",
   "metadata": {},
   "outputs": [
    {
     "name": "stdout",
     "output_type": "stream",
     "text": [
      "VectorStoreDeleted(id='vs_GKW6jzMv7T1ep9rAleh2cW4R', deleted=True, object='vector_store.deleted')\n"
     ]
    }
   ],
   "source": [
    "deleted_vector_store = client.beta.vector_stores.delete(\n",
    "  vector_store_id=\"vs_GKW6jzMv7T1ep9rAleh2cW4R\"\n",
    ")\n",
    "print(deleted_vector_store)"
   ]
  },
  {
   "cell_type": "markdown",
   "id": "b739016c",
   "metadata": {},
   "source": [
    "## Загрузка файлов пакетом, из уже загруженных файлов на сервере OpenA, где далее мы помещаем их в уже созданную век.бд файлы пакетом. То есть мы загрузили какие то файлы на OpenAI, далее мы взяли id определенных файлов, сформировали пакет и загрузили в ВекБД"
   ]
  },
  {
   "cell_type": "markdown",
   "id": "3e4907c9",
   "metadata": {},
   "source": [
    "## Вспомогательная функция для загрузки файлов пакетом в ВЕКБД"
   ]
  },
  {
   "cell_type": "code",
   "execution_count": 10,
   "id": "91561957",
   "metadata": {},
   "outputs": [],
   "source": [
    "from datetime import datetime\n",
    "\n",
    "def load_files_to_vector_store(vector_store_id, file_ids):\n",
    "    \"\"\"\n",
    "    Загружает файлы в хранилище векторов.\n",
    "\n",
    "    Args:\n",
    "        vector_store_id: ID хранилища векторов.\n",
    "        file_ids: Список ID файлов.\n",
    "\n",
    "    Returns:\n",
    "        Объект ответа от API 'vector_stores.file_batches.create'.\n",
    "    \"\"\"\n",
    "    batch_name = f\"Загрузка файлов - {datetime.now().isoformat()}\"\n",
    "    print(f\"Начинаем загрузку файлов в хранилище векторов '{vector_store_id}' под названием '{batch_name}'.\")\n",
    "\n",
    "    batch = client.beta.vector_stores.file_batches.create(\n",
    "        vector_store_id=vector_store_id,\n",
    "        file_ids=file_ids\n",
    "    )\n",
    "\n",
    "    print(batch_name)\n",
    "    print(f\"Статус загрузки: {batch.status}\")\n",
    "    print(f\"Количество файлов в пакете: {batch.file_counts.total}\")\n",
    "    return batch\n"
   ]
  },
  {
   "cell_type": "markdown",
   "id": "03d5a8b2",
   "metadata": {},
   "source": [
    "## Здесь Запускаем вспомогательную функцию, и определяем id ВекБД и id файлов которые будут в пакете"
   ]
  },
  {
   "cell_type": "code",
   "execution_count": 17,
   "id": "cad6f3b5",
   "metadata": {},
   "outputs": [
    {
     "name": "stdout",
     "output_type": "stream",
     "text": [
      "Начинаем загрузку файлов в хранилище векторов 'vs_tKHpFBZxd6x7lPX8WkiykuCO' под названием 'Загрузка файлов - 2024-05-05T12:09:33.013091'.\n"
     ]
    },
    {
     "name": "stdout",
     "output_type": "stream",
     "text": [
      "Загрузка файлов - 2024-05-05T12:09:33.013091\n",
      "Статус загрузки: in_progress\n",
      "Количество файлов в пакете: 3\n",
      "Ошибка загрузки: in_progress\n"
     ]
    }
   ],
   "source": [
    "vector_store_id = \"vs_tKHpFBZxd6x7lPX8WkiykuCO\"  # Замените на ID вашего хранилища векторов\n",
    "file_ids = [\n",
    "    \"file-8wFAh1pAqigNn8JX5c4ZNUvd\",\n",
    "    \"file-ojV1fuoUcfGIeoMZLLCAViaK\",\n",
    "    \"file-9nq5UX3m6hJELK6uZSsaZT6K\"\n",
    "]\n",
    "batch = load_files_to_vector_store(vector_store_id, file_ids)"
   ]
  },
  {
   "cell_type": "markdown",
   "id": "db2c507d",
   "metadata": {},
   "source": [
    "## Вспомогательная функция для проверки для проверки выполнения загрузки пакета файлов в векБД"
   ]
  },
  {
   "cell_type": "code",
   "execution_count": 38,
   "id": "a79deba2",
   "metadata": {},
   "outputs": [
    {
     "name": "stdout",
     "output_type": "stream",
     "text": [
      "Файлы успешно загружены!\n"
     ]
    }
   ],
   "source": [
    "def check_file_batch_status(vector_store_id, batch_id):\n",
    "  \"\"\"\n",
    "  Проверяет статус загрузки файлов в хранилище векторов.\n",
    "\n",
    "  Args:\n",
    "    vector_store_id: ID хранилища векторов.\n",
    "    batch_id: ID пакета загрузки файлов.\n",
    "\n",
    "  Returns:\n",
    "    Статус загрузки (например, \"completed\", \"in_progress\", \"failed\").\n",
    "  \"\"\"\n",
    "\n",
    "  vector_store_retrieve_file_batch = client.beta.vector_stores.file_batches.retrieve(\n",
    "      vector_store_id=vector_store_id,\n",
    "      batch_id=batch_id\n",
    "  )\n",
    "\n",
    "  return vector_store_retrieve_file_batch.status\n",
    "\n",
    "# Пример использования\n",
    "vector_store_id = \"vs_tKHpFBZxd6x7lPX8WkiykuCO\"\n",
    "batch_id = \"vsfb_59c289e2cfac44f0a2861accf947e44c\"\n",
    "\n",
    "status = check_file_batch_status(vector_store_id, batch_id)\n",
    "\n",
    "if status == \"completed\":\n",
    "  print(\"Файлы успешно загружены!\")\n",
    "else:\n",
    "  print(f\"Результат: {status}\")"
   ]
  },
  {
   "cell_type": "markdown",
   "id": "430dc85a-e245-42aa-82b5-bed2ad84c2f5",
   "metadata": {},
   "source": [
    "## Adding Files for the Assistant (or in a message)\n",
    "\n",
    "Let's explain the process of uploading files for retrieval in a more educational and explanatory way:\n",
    "\n",
    "**Uploading Files for Retrieval: An Overview**\n",
    "When you want to use external documents to enhance the AI Assistant's responses, you can upload these files for retrieval. This process is somewhat similar to how the Code Interpreter works.\n",
    "\n",
    "**Two Levels of Attachment**\n",
    "\n",
    "1. **Assistant-Level Attachment**: When you attach a file at this level, it becomes a part of the Assistant's general knowledge base. This means the Assistant can access this information when responding to any query.\n",
    "\n",
    "2. **Message-Level Attachment**: In contrast, when you attach a file at the Message-level, it's only accessible for the specific conversation thread (or 'Thread') that the message is a part of. This is more targeted, as the file's content will only be used to respond to queries within that particular thread.\n",
    "\n",
    "**How to Attach a File to a Message**\n",
    "After uploading a file, you will receive a unique ID for that file. You can then use this ID to attach the file to a specific message. This way, the AI knows which document to refer to when crafting its response.\n",
    "\n",
    "**Charges for File Usage**\n",
    "It's important to note that the cost isn't based on the size of the files you upload. Instead, the charges are based on which files you attach to an Assistant or a Message that then get indexed (processed and made searchable by the AI).\n",
    "\n",
    "**File Size and Format Limitations**\n",
    "There are some limits on what you can upload:\n",
    "\n",
    "- **Maximum File Size**: Each file can be up to 512 MB.\n",
    "- **Token Limit**: The content of the file should not exceed 2,000,000 tokens (a token is roughly a word or a piece of a word, and this limit is calculated automatically when you attach the file).\n",
    "- **Supported Formats**: The retrieval system is compatible with various file formats, including popular ones like PDF (.pdf), Markdown (.md), and Word documents (.docx).\n",
    "\n",
    "In summary, by uploading files at either the Assistant-level or Message-level, you can significantly enhance the AI Assistant's ability to provide detailed and relevant responses based on the content of these documents. This feature supports various file formats and sizes, with costs incurred based on the indexing of attached files."
   ]
  },
  {
   "cell_type": "code",
   "execution_count": 40,
   "id": "5fe984b7-7897-473f-b31b-6dd2e3ed4f1c",
   "metadata": {},
   "outputs": [],
   "source": [
    "# Add the file to the assistant\n",
    "assistant = client.beta.assistants.create(\n",
    "  name='Бот ведической астрологии',\n",
    "  instructions=\"Вы отвечаете развернуто по вопросам ведической астрологии, ваш ответ строиться строго на предоставленных вам текстовых документах\",\n",
    "  model=\"gpt-3.5-turbo-0125\", \n",
    "  tools=[{\"type\": \"file_search\"}], # Список инстументов которые может использовать помощник\n",
    "  tool_resources={\"file_search\": {\"vector_store_ids\": [vector_store_id]}} \n",
    "  \"\"\"\n",
    "  tool_resources -->\n",
    "  Ресурсы которые помощник будет использовать в своих инструментах (То есть мы можем \n",
    "  определять не только инструменты, но и ресурсы которые будут в этих инструментах. Конктретно в нашем примере мы\n",
    "  четко задали что бы помощник использовал)\n",
    "  \"\"\"\n",
    ")"
   ]
  },
  {
   "cell_type": "markdown",
   "id": "10ca2ee1-5f5a-4de1-a4e3-8aec5a3b569b",
   "metadata": {},
   "source": [
    "## Run a Thread and Add a File to Message\n",
    "\n",
    "When a file is attached at the Message-level, it is only accessible within the specific Thread the Message is attached to. After having uploaded a file, you can pass the ID of this File when creating the Message. Note that you are not charged based on the size of the files you upload via the Files API but rather based on which files you attach to a specific Assistant or Message that get indexed."
   ]
  },
  {
   "cell_type": "code",
   "execution_count": 41,
   "id": "b7de7048-854a-4123-9982-d16284061f98",
   "metadata": {},
   "outputs": [],
   "source": [
    "thread = client.beta.threads.create(\n",
    "    messages=[\n",
    "    {\n",
    "      \"role\": \"user\",\n",
    "      \"content\": \"Здравстуйте, вам сейчас будут заданы вопросы об астрологии.\",\n",
    "    }\n",
    "  ]\n",
    ")"
   ]
  },
  {
   "cell_type": "code",
   "execution_count": 81,
   "id": "cc836633",
   "metadata": {},
   "outputs": [],
   "source": [
    "thread_1 = client.beta.threads.update(\n",
    "  thread_id=thread.id,\n",
    "  metadata={\n",
    "    \"Предназначение\": \"Астрология\",\n",
    "    \"user\": \"maks\"\n",
    "  }\n",
    ")"
   ]
  },
  {
   "cell_type": "code",
   "execution_count": 87,
   "id": "fa68bcf8",
   "metadata": {},
   "outputs": [
    {
     "name": "stdout",
     "output_type": "stream",
     "text": [
      "{\n",
      "  \"id\": \"thread_jqhZgocR7vbvLXajrtiesqj0\",\n",
      "  \"created_at\": 1714903923,\n",
      "  \"metadata\": {\n",
      "    \"Предназначение\": \"Астрология\",\n",
      "    \"user\": \"maks\"\n",
      "  },\n",
      "  \"object\": \"thread\",\n",
      "  \"tool_resources\": {}\n",
      "}\n"
     ]
    }
   ],
   "source": [
    "print(json.dumps(thread_1.to_dict(), indent=2, ensure_ascii=False))"
   ]
  },
  {
   "cell_type": "code",
   "execution_count": 42,
   "id": "7b90ac64-4779-4182-a4eb-0b471b820e47",
   "metadata": {},
   "outputs": [],
   "source": [
    "message = client.beta.threads.messages.create(\n",
    "    thread_id=thread.id,\n",
    "    role=\"user\",\n",
    "    content=\"Какие упайи нужны для Солнца?\"\n",
    "    \n",
    ")"
   ]
  },
  {
   "cell_type": "code",
   "execution_count": 43,
   "id": "738b29c1-1008-4bdf-9f36-eac0cd36d427",
   "metadata": {},
   "outputs": [],
   "source": [
    "run = client.beta.threads.runs.create(\n",
    "  thread_id=thread.id,\n",
    "  assistant_id=assistant.id,\n",
    "  additional_instructions= \"Добавьте в конце вашего ответа (Надеюсь мой ответ помог вам, если у вас есть дполнительные вопросы то задавайте)\",\n",
    "  tool_choice= \"required\" # Команда required Указывает модели то что она обязательно должны воспользоваться инструментом\n",
    "  # которые мы определили при создании assistant. \n",
    ")"
   ]
  },
  {
   "cell_type": "code",
   "execution_count": 56,
   "id": "d79a38c3-9d2f-42d0-8bd3-7808b8599910",
   "metadata": {},
   "outputs": [
    {
     "data": {
      "text/plain": [
       "'completed'"
      ]
     },
     "execution_count": 56,
     "metadata": {},
     "output_type": "execute_result"
    }
   ],
   "source": [
    "run.status"
   ]
  },
  {
   "cell_type": "code",
   "execution_count": 57,
   "id": "2a6c3091-4d57-44a8-950e-cb728eac186a",
   "metadata": {},
   "outputs": [
    {
     "name": "stdout",
     "output_type": "stream",
     "text": [
      "completed\n"
     ]
    }
   ],
   "source": [
    "run = client.beta.threads.runs.retrieve(\n",
    "          thread_id=thread.id,\n",
    "          run_id=run.id\n",
    "        )\n",
    "    \n",
    "print(run.status)"
   ]
  },
  {
   "cell_type": "markdown",
   "id": "1e4109fa-134b-4212-8064-e5b68d3e56b4",
   "metadata": {},
   "source": [
    "Once the run is completed, let's get the messages"
   ]
  },
  {
   "cell_type": "code",
   "execution_count": 58,
   "id": "efff742f-baaf-4881-8d4e-2020deed8811",
   "metadata": {},
   "outputs": [],
   "source": [
    "messages = client.beta.threads.messages.list(\n",
    "    thread_id=thread.id, order=\"asc\",\n",
    ")"
   ]
  },
  {
   "cell_type": "code",
   "execution_count": null,
   "id": "1826b886",
   "metadata": {},
   "outputs": [],
   "source": [
    "print(json.dumps(messages.to_dict(), indent=2, ensure_ascii=False))"
   ]
  },
  {
   "cell_type": "code",
   "execution_count": 63,
   "id": "7e466f1c-0bbe-4838-8f9b-39c21801cc9d",
   "metadata": {},
   "outputs": [],
   "source": [
    "def display_thread_messages(messages):\n",
    "    # EXPECTS MESSAGES IN ASC ORDER!\n",
    "    for thread_message in messages.data:\n",
    "        print(thread_message.content[0].text.value)\n",
    "        print('\\n')"
   ]
  },
  {
   "cell_type": "code",
   "execution_count": 64,
   "id": "b861eb4b-5f86-4eb8-b11f-04a802078ed9",
   "metadata": {},
   "outputs": [
    {
     "name": "stdout",
     "output_type": "stream",
     "text": [
      "Здравстуйте, вам сейчас будут заданы вопросы об астрологии.\n",
      "\n",
      "\n",
      "Какие упайи нужны для Солнца?\n",
      "\n",
      "\n",
      "Для усиления и улучшения позиции Солнца, рекомендуется выполнять следующие упайи:\n",
      "\n",
      "1. Чтение мантры \"ом намо бхагавате раманачандрайя\" 108 раз с утра по воскресеньям.\n",
      "2. Вставать до восхода солнца.\n",
      "3. Употребление масла гхи.\n",
      "4. Пост в воскресенье.\n",
      "5. Выполнение комплекса упражнений сурья намаскар.\n",
      "6. Ухаживать за отцом и показывать уважение к нему.\n",
      "7. Почитание и уважение отца, начальника, правителя【5:0†source】.\n",
      "\n",
      "Надеюсь мой ответ помог вам, если у вас есть дополнительные вопросы, не стесняйтесь их задавать!\n",
      "\n",
      "\n"
     ]
    }
   ],
   "source": [
    "display_thread_messages(messages)"
   ]
  },
  {
   "cell_type": "code",
   "execution_count": 67,
   "id": "0bdf84b4",
   "metadata": {},
   "outputs": [],
   "source": [
    "run_steps = client.beta.threads.runs.steps.list(\n",
    "    thread_id=thread.id,\n",
    "    run_id=run.id\n",
    ")"
   ]
  },
  {
   "cell_type": "code",
   "execution_count": 91,
   "id": "b49712b2",
   "metadata": {},
   "outputs": [
    {
     "name": "stdout",
     "output_type": "stream",
     "text": [
      "{\n",
      "  \"data\": [\n",
      "    {\n",
      "      \"id\": \"step_D098Ky4a1A2uXsUkAbgNpo6V\",\n",
      "      \"assistant_id\": \"asst_yOEj5bDErckIQmWM0zgMdSVj\",\n",
      "      \"cancelled_at\": null,\n",
      "      \"completed_at\": 1714906321,\n",
      "      \"created_at\": 1714906317,\n",
      "      \"failed_at\": null,\n",
      "      \"last_error\": null,\n",
      "      \"object\": \"thread.run.step\",\n",
      "      \"run_id\": \"run_LsLvhchvbkc3PgR8R662hmJn\",\n",
      "      \"status\": \"completed\",\n",
      "      \"step_details\": {\n",
      "        \"message_creation\": {\n",
      "          \"message_id\": \"msg_kANy1vY18MleOSqMQ0bAojp1\"\n",
      "        },\n",
      "        \"type\": \"message_creation\"\n",
      "      },\n",
      "      \"thread_id\": \"thread_jqhZgocR7vbvLXajrtiesqj0\",\n",
      "      \"type\": \"message_creation\",\n",
      "      \"usage\": {\n",
      "        \"completion_tokens\": 252,\n",
      "        \"prompt_tokens\": 4993,\n",
      "        \"total_tokens\": 5245\n",
      "      },\n",
      "      \"expires_at\": null\n",
      "    },\n",
      "    {\n",
      "      \"id\": \"step_kmRtEagY4DveUmXbbjpkhq7z\",\n",
      "      \"assistant_id\": \"asst_yOEj5bDErckIQmWM0zgMdSVj\",\n",
      "      \"cancelled_at\": null,\n",
      "      \"completed_at\": 1714906317,\n",
      "      \"created_at\": 1714906316,\n",
      "      \"failed_at\": null,\n",
      "      \"last_error\": null,\n",
      "      \"object\": \"thread.run.step\",\n",
      "      \"run_id\": \"run_LsLvhchvbkc3PgR8R662hmJn\",\n",
      "      \"status\": \"completed\",\n",
      "      \"step_details\": {\n",
      "        \"tool_calls\": [\n",
      "          {\n",
      "            \"id\": \"call_5SWIcGsjjpN5pK7qSHZeV1Us\",\n",
      "            \"file_search\": {},\n",
      "            \"type\": \"file_search\"\n",
      "          }\n",
      "        ],\n",
      "        \"type\": \"tool_calls\"\n",
      "      },\n",
      "      \"thread_id\": \"thread_jqhZgocR7vbvLXajrtiesqj0\",\n",
      "      \"type\": \"tool_calls\",\n",
      "      \"usage\": {\n",
      "        \"completion_tokens\": 17,\n",
      "        \"prompt_tokens\": 737,\n",
      "        \"total_tokens\": 754\n",
      "      },\n",
      "      \"expires_at\": null\n",
      "    }\n",
      "  ],\n",
      "  \"object\": \"list\",\n",
      "  \"first_id\": \"step_D098Ky4a1A2uXsUkAbgNpo6V\",\n",
      "  \"last_id\": \"step_kmRtEagY4DveUmXbbjpkhq7z\",\n",
      "  \"has_more\": false\n",
      "}\n"
     ]
    }
   ],
   "source": [
    "print(json.dumps(run_steps.to_dict(), indent=2))"
   ]
  },
  {
   "cell_type": "code",
   "execution_count": 69,
   "id": "ac118b72",
   "metadata": {},
   "outputs": [],
   "source": [
    "run_step = client.beta.threads.runs.steps.retrieve(\n",
    "    thread_id=thread.id,\n",
    "    run_id=run.id,\n",
    "    step_id=\"step_D098Ky4a1A2uXsUkAbgNpo6V\"\n",
    ")"
   ]
  },
  {
   "cell_type": "code",
   "execution_count": null,
   "id": "af9e9c05",
   "metadata": {},
   "outputs": [],
   "source": [
    "print(json.dumps(run_step.to_dict(), indent=2))"
   ]
  },
  {
   "cell_type": "markdown",
   "id": "030c45fc",
   "metadata": {},
   "source": [
    "## Вспомогающая функция которая выдает списки"
   ]
  },
  {
   "cell_type": "code",
   "execution_count": 4,
   "id": "d37ca641",
   "metadata": {},
   "outputs": [],
   "source": [
    "def print_object_info(thread_id, run_id):\n",
    "    my_assistants = client.beta.assistants.list(\n",
    "        order=\"asc\"\n",
    "    )\n",
    "    thread_messages = client.beta.threads.messages.list(thread_id)\n",
    "    runs = client.beta.threads.runs.list(thread_id)\n",
    "    run_steps = client.beta.threads.runs.steps.list(\n",
    "        thread_id=thread_id,\n",
    "        run_id=run_id\n",
    "    )\n",
    "    vector_stores = client.beta.vector_stores.list()\n",
    "    files = client.files.list()\n",
    "\n",
    "    print(\"Assistants:\")\n",
    "    for assistant in my_assistants.data:\n",
    "        print(f\"ID: {assistant.id}, Name: {assistant.name}\")\n",
    "    \n",
    "    print(\"\\nThread Messages:\")\n",
    "    for message in thread_messages.data:\n",
    "        print(f\"ID: {message.id}, Thread ID: {message.thread_id}\")\n",
    "    \n",
    "    print(\"\\nRuns:\")\n",
    "    for run in runs.data:\n",
    "        print(f\"ID: {run.id}, Thread ID: {run.thread_id}\")\n",
    "    \n",
    "    print(\"\\nRun Steps:\")\n",
    "    for step in run_steps.data:\n",
    "        print(f\"ID: {step.id}, Thread ID: {step.thread_id}\")\n",
    "        \n",
    "    print(\"\\nVector stores:\")\n",
    "    for vector in vector_stores.data:\n",
    "        print(f\"ID: {vector.id}, Name: {vector.name}, Files: {vector.file_counts}\")\n",
    "        \n",
    "    print(\"\\nFiles:\")\n",
    "    for file in files.data:\n",
    "        print(f\"ID: {file.id}, File name: {file.filename}, Purpose: {file.purpose}\")\n",
    "        \n",
    "    "
   ]
  },
  {
   "cell_type": "code",
   "execution_count": null,
   "metadata": {},
   "outputs": [],
   "source": [
    "# Вызов функции с соответствующими аргументами\n",
    "print_object_info(thread_id=thread.id, run_id=run.id)"
   ]
  },
  {
   "cell_type": "code",
   "execution_count": 7,
   "id": "8bff5fe5",
   "metadata": {},
   "outputs": [
    {
     "name": "stdout",
     "output_type": "stream",
     "text": [
      "Assistants:\n",
      "ID: asst_yOEj5bDErckIQmWM0zgMdSVj, Name: Бот ведической астрологии\n",
      "ID: asst_id9UIqBRt68Ucthq2VJ7J80s, Name: Stock Visualizer\n",
      "ID: asst_5wao97wKjIYCw2l0g0nS4cxI, Name: помощник\n",
      "ID: asst_OywtDLNTG9xNIr9uzgBqIxdo, Name: Stock Visualizer\n"
     ]
    }
   ],
   "source": [
    "my_assistants = client.beta.assistants.list(\n",
    "        order=\"asc\"\n",
    "    )\n",
    "print(\"Assistants:\")\n",
    "for assistant in my_assistants.data:\n",
    "    print(f\"ID: {assistant.id}, Name: {assistant.name}\")"
   ]
  },
  {
   "cell_type": "markdown",
   "id": "9a4e3440-0c06-42c4-93fc-c5f568455ae2",
   "metadata": {},
   "source": [
    "# Optional: Delete Assistant and All Files"
   ]
  },
  {
   "cell_type": "code",
   "execution_count": 94,
   "id": "bd6596db",
   "metadata": {},
   "outputs": [],
   "source": [
    "def delete_resource(resource_type, resource_id, vector_store_id=None):\n",
    "    try:\n",
    "        if resource_type == \"assistant\":\n",
    "            response = client.beta.assistants.delete(resource_id)\n",
    "            print(f\"Assistant '{resource_id}' успешно удален.\")\n",
    "        elif resource_type == \"thread\":\n",
    "            response = client.beta.threads.delete(resource_id)\n",
    "            print(f\"Thread '{resource_id}' успешно удален.\")\n",
    "        elif resource_type == \"vector_store\":\n",
    "            deleted_vector_store = client.beta.vector_stores.delete(vector_store_id=resource_id)\n",
    "            print(f\"Vector Store '{resource_id}' успешно удален.\")\n",
    "        elif resource_type == \"vector_store_file\":\n",
    "            if vector_store_id is None:\n",
    "                raise ValueError(\"Для удаления Vector Store File необходимо указать 'vector_store_id'.\")\n",
    "            deleted_vector_store_file = client.beta.vector_stores.files.delete(\n",
    "                vector_store_id=vector_store_id,\n",
    "                file_id=resource_id\n",
    "            )\n",
    "            print(f\"Vector Store File '{resource_id}' успешно удален из Vector Store '{vector_store_id}'.\")\n",
    "        else:\n",
    "            raise ValueError(f\"Неверный тип ресурса: {resource_type}. Допустимые значения: 'assistant', 'thread', 'vector_store', 'vector_store_file'.\")\n",
    "    except Exception as e:\n",
    "        print(f\"Ошибка при удалении ресурса: {str(e)}\")"
   ]
  },
  {
   "cell_type": "code",
   "execution_count": 8,
   "id": "734ec560",
   "metadata": {},
   "outputs": [
    {
     "name": "stdout",
     "output_type": "stream",
     "text": [
      "Имя файла: Corporate Travel Policy.pdf, ID файла: file-UDDeMWox3gSsXhI6PCYcPpzv\n",
      "Имя файла: ACME_Dog_Food_Ingredients.pdf, ID файла: file-J6Bb1Sff4EawtGOcSWwnS1da\n",
      "Имя файла: ACME Advertising Policy.pdf, ID файла: file-1usqsdyqYKodrqyLGG8zibzk\n",
      "Имя файла: 065cfd7c-1ca5-498b-9bff-6127a39b1d23, ID файла: file-Daq3frspraqVsXRw0OyRQb0k\n",
      "Имя файла: SP500_Prices_5Year.csv, ID файла: file-VYCIXgLhrqdn5sOuBRd1tMHD\n",
      "Имя файла: signs.docx, ID файла: file-9nq5UX3m6hJELK6uZSsaZT6K\n",
      "Имя файла: plan_in_sign.docx, ID файла: file-ojV1fuoUcfGIeoMZLLCAViaK\n",
      "Имя файла: plan_upay.docx, ID файла: file-8wFAh1pAqigNn8JX5c4ZNUvd\n"
     ]
    }
   ],
   "source": [
    "response = client.files.list()\n",
    "for file in response.data:\n",
    "    print(f\"Имя файла: {file.filename}, ID файла: {file.id}\")"
   ]
  },
  {
   "cell_type": "code",
   "execution_count": null,
   "id": "d8a46343",
   "metadata": {},
   "outputs": [],
   "source": [
    "# Удаление Assistant\n",
    "delete_resource(resource_type=\"assistant\", resource_id=\"asst_abc123\")"
   ]
  },
  {
   "cell_type": "code",
   "execution_count": null,
   "id": "3e1345e8",
   "metadata": {},
   "outputs": [],
   "source": [
    "# Удаление Thread\n",
    "delete_resource(resource_type=\"thread\", resource_id=\"thread_abc123\")"
   ]
  },
  {
   "cell_type": "code",
   "execution_count": 98,
   "id": "a1e77cc9",
   "metadata": {},
   "outputs": [
    {
     "name": "stdout",
     "output_type": "stream",
     "text": [
      "Vector Store 'vs_tKHpFBZxd6x7lPX8WkiykuCO' успешно удален.\n"
     ]
    }
   ],
   "source": [
    "# Удаление Vector Store\n",
    "delete_resource(resource_type=\"vector_store\", resource_id=\"vs_tKHpFBZxd6x7lPX8WkiykuCO\")"
   ]
  },
  {
   "cell_type": "code",
   "execution_count": null,
   "id": "075c7f44",
   "metadata": {},
   "outputs": [],
   "source": [
    "# Удаление Vector Store File\n",
    "delete_resource(resource_type=\"vector_store_file\", resource_id=\"file-abc123\", vector_store_id=\"vs_abc123\")"
   ]
  },
  {
   "cell_type": "code",
   "execution_count": null,
   "id": "896b7c1d",
   "metadata": {},
   "outputs": [],
   "source": []
  }
 ],
 "metadata": {
  "kernelspec": {
   "display_name": "Python 3 (ipykernel)",
   "language": "python",
   "name": "python3"
  },
  "language_info": {
   "codemirror_mode": {
    "name": "ipython",
    "version": 3
   },
   "file_extension": ".py",
   "mimetype": "text/x-python",
   "name": "python",
   "nbconvert_exporter": "python",
   "pygments_lexer": "ipython3",
   "version": "3.11.4"
  }
 },
 "nbformat": 4,
 "nbformat_minor": 5
}
