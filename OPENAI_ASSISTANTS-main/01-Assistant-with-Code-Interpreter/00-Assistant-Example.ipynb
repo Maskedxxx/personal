{
 "cells": [
  {
   "cell_type": "markdown",
   "id": "9b61ca09-df53-48a9-ae2b-b80ce5f8eea0",
   "metadata": {},
   "source": [
    "<center><a href=\"https://www.pieriantraining.com/\" ><img src=\"../PTCenteredPurple.png\" alt=\"Pierian Training Logo\" /></a></center>\n"
   ]
  },
  {
   "cell_type": "code",
   "execution_count": 43,
   "id": "c3eff5f5-eafc-42b8-8c56-f5cd28215311",
   "metadata": {},
   "outputs": [],
   "source": [
    "from openai import OpenAI\n",
    "from pprint import pprint"
   ]
  },
  {
   "cell_type": "code",
   "execution_count": 2,
   "id": "8f0743f6-f1ba-41f2-ac59-8c257a82eeb7",
   "metadata": {},
   "outputs": [],
   "source": [
    "client = OpenAI()"
   ]
  },
  {
   "cell_type": "markdown",
   "id": "9771dcf6-7eae-426e-9f0d-d404d9369324",
   "metadata": {},
   "source": [
    "### Могут ли LLM заниматься математикой?\n",
    "\n",
    "Если LLM просто предсказывают следующие наиболее вероятные жетоны, могут ли они на самом деле решать математические задачи? Или они будут галлюцинировать ответ?"
   ]
  },
  {
   "cell_type": "code",
   "execution_count": 3,
   "id": "fe547900-bf6d-443a-a83c-1dd9984bbedc",
   "metadata": {},
   "outputs": [],
   "source": [
    "answer = 123456 * 456789"
   ]
  },
  {
   "cell_type": "code",
   "execution_count": 4,
   "id": "823765c3-66d8-47e9-9b2f-5457c34df8f2",
   "metadata": {},
   "outputs": [
    {
     "data": {
      "text/plain": [
       "56393342784"
      ]
     },
     "execution_count": 4,
     "metadata": {},
     "output_type": "execute_result"
    }
   ],
   "source": [
    "answer"
   ]
  },
  {
   "cell_type": "code",
   "execution_count": 5,
   "id": "98dbcba2-5bf1-4d51-870e-87aa6648c6c5",
   "metadata": {},
   "outputs": [],
   "source": [
    "response = client.chat.completions.create(\n",
    "    model = 'gpt-3.5-turbo',\n",
    "    messages = [\n",
    "    {'role':'system','content':'You help solve math problems'},\n",
    "    {'role':'user','content':'What is 123456 times 456789?'}\n",
    "    ]\n",
    "\n",
    ")"
   ]
  },
  {
   "cell_type": "code",
   "execution_count": 6,
   "id": "8fda0e30-4365-464a-a539-2310935dc06c",
   "metadata": {},
   "outputs": [
    {
     "name": "stdout",
     "output_type": "stream",
     "text": [
      "123456 times 456789 equals 56,365,995,584.\n"
     ]
    }
   ],
   "source": [
    "print(response.choices[0].message.content)"
   ]
  },
  {
   "cell_type": "code",
   "execution_count": 7,
   "id": "983b74d7-3e55-41bc-806a-eaa0a1643ce5",
   "metadata": {},
   "outputs": [
    {
     "name": "stdout",
     "output_type": "stream",
     "text": [
      "123456 multiplied by 456789 equals 56394002424.\n"
     ]
    }
   ],
   "source": [
    "response = client.chat.completions.create(\n",
    "    model = 'gpt-3.5-turbo',\n",
    "    messages = [\n",
    "    {'role':'system','content':'You help solve math problems'},\n",
    "    {'role':'user','content':'What is 123456 * 456789?'}\n",
    "    ]\n",
    "\n",
    ")\n",
    "\n",
    "print(response.choices[0].message.content)"
   ]
  },
  {
   "cell_type": "markdown",
   "id": "d6d4fce0-04f8-4eb9-a055-f9d402215fbb",
   "metadata": {},
   "source": [
    "### Asking for code instead, and then running that code!"
   ]
  },
  {
   "cell_type": "code",
   "execution_count": 11,
   "id": "4004e0ed-102f-412a-b1c2-b026fb7a3c0e",
   "metadata": {},
   "outputs": [],
   "source": [
    "response = client.chat.completions.create(\n",
    "    model = 'gpt-3.5-turbo-0125',\n",
    "    messages = [\n",
    "    {'role':'system','content':'You convert word problems into Python code. Only return the python code equivalent, no other commentary.'},\n",
    "    {'role':'user','content':'Return the python code for: What is 123456 times 456789?'}\n",
    "    ],\n",
    "    temperature = 0\n",
    "\n",
    ")"
   ]
  },
  {
   "cell_type": "code",
   "execution_count": 13,
   "id": "d636c245-634a-4086-82e3-d3368e8b73c3",
   "metadata": {},
   "outputs": [
    {
     "data": {
      "text/plain": [
       "'result = 123456 * 456789\\nprint(result)'"
      ]
     },
     "execution_count": 13,
     "metadata": {},
     "output_type": "execute_result"
    }
   ],
   "source": [
    "response.choices[0].message.content"
   ]
  },
  {
   "cell_type": "code",
   "execution_count": 10,
   "id": "547c553b-2efd-474e-b716-e20c508d44fd",
   "metadata": {},
   "outputs": [
    {
     "ename": "SyntaxError",
     "evalue": "invalid syntax (<string>, line 1)",
     "output_type": "error",
     "traceback": [
      "Traceback \u001b[0;36m(most recent call last)\u001b[0m:\n",
      "\u001b[0m  File \u001b[1;32m~/Documents/Проекты_2023/OpenAI Assistant (test notebooks))/venv/lib/python3.11/site-packages/IPython/core/interactiveshell.py:3577\u001b[0m in \u001b[1;35mrun_code\u001b[0m\n    exec(code_obj, self.user_global_ns, self.user_ns)\u001b[0m\n",
      "\u001b[0;36m  Cell \u001b[0;32mIn[10], line 2\u001b[0;36m\n\u001b[0;31m    eval(response.choices[0].message.content)\u001b[0;36m\n",
      "\u001b[0;36m  File \u001b[0;32m<string>:1\u001b[0;36m\u001b[0m\n\u001b[0;31m    result = 123456 * 456789\u001b[0m\n\u001b[0m           ^\u001b[0m\n\u001b[0;31mSyntaxError\u001b[0m\u001b[0;31m:\u001b[0m invalid syntax\n"
     ]
    }
   ],
   "source": [
    "# We could then just run the code!\n",
    "eval(response.choices[0].message.content)"
   ]
  },
  {
   "cell_type": "markdown",
   "id": "daab168f-a98c-43e8-95dc-9b52b0ac7fe3",
   "metadata": {},
   "source": [
    "# Assistant с Code Interpreter\n",
    "\n",
    "Очевидно, что мы можем расширить эту идею! Здесь мы показываем использование LLM для преобразования словесных задач в простые математические формулы Python, но в теории LLM может превратить любое словесное описание на естественном языке в код Python, а затем просто запустить сам код! Это ключевая идея, лежащая в основе интерпретатора кода! Ассистенты OpenAI позволяют нам подключить LLM к инструменту-интерпретатору кода. Давайте изучим это подробнее!\n"
   ]
  },
  {
   "cell_type": "markdown",
   "id": "44addd3b-ea43-4854-9398-71d4e307a5b2",
   "metadata": {},
   "source": [
    "При создании помощника вам нужно учесть несколько параметров:\n",
    "\n",
    "* Инструкции: Здесь вы можете определить, как должен вести себя или отвечать помощник. Эти инструкции определяют общий тон, стиль и тип ответов помощника.\n",
    "\n",
    "* Выбор модели: Вы можете выбрать одну из различных моделей GPT-3.5 или GPT-4, включая те, которые специально настроены для выполнения конкретных задач. Если вы планируете использовать такие инструменты, как инструмент Retrieval, вам понадобятся специальные модели, например gpt-3.5-turbo-1106 или gpt-4-1106-preview.\n",
    "\n",
    "* Интеграция с инструментами: API поддерживает интеграцию с такими инструментами, как Code Interpreter и Retrieval, которые разрабатываются и поддерживаются OpenAI. Эти инструменты расширяют возможности вашего помощника, позволяя ему интерпретировать код или извлекать информацию более эффективно.\n",
    "\n",
    "* Пользовательские функции: Еще одна мощная особенность API - возможность определять подписи пользовательских функций. Эта функция повторяет функцию вызова функций API, позволяя вашему помощнику выполнять определенные задачи или операции в соответствии с вашими требованиями.\n",
    "\n",
    "Давайте начнем с очень простого помощника, который имеет доступ к инструменту интерпретатора кода:"
   ]
  },
  {
   "cell_type": "code",
   "execution_count": 15,
   "id": "0b13a477-434d-421d-8b7e-51dce92f5c9d",
   "metadata": {},
   "outputs": [],
   "source": [
    "assistant = client.beta.assistants.create(\n",
    "    name=\"Math Tutor\",\n",
    "    instructions=\"Вы преобразуете математические задачи в код Python, а затем запускаете код, чтобы показать ответ.\",\n",
    "    tools=[{\"type\": \"code_interpreter\"}],\n",
    "    model=\"gpt-3.5-turbo\" # Check the docs for the latest models\n",
    ")"
   ]
  },
  {
   "cell_type": "markdown",
   "id": "a7d04409-ed9b-4a23-91a2-55e1ca4d8724",
   "metadata": {},
   "source": [
    "### Потоки\n",
    "\n",
    "#### Создать Поток\n",
    "\n",
    "Давайте разберем концепцию создания нити в контексте использования API Assistants с OpenAI, сосредоточившись на том, чтобы сделать ее более понятной и образовательной.\n",
    "\n",
    "#### Понимание Потока\n",
    "\n",
    "Думайте о Потоке как о цифровом разговоре или чате. В реальной жизни, когда вы начинаете разговаривать с кем-то, у вас происходит ряд обменов мнениями, которые и составляют разговор. Точно так же и в цифровом мире, когда пользователь начинает взаимодействовать с API (например, с API OpenAI Assistants), это взаимодействие группируется в то, что мы называем \"поток\".\n",
    "\n",
    "#### Зачем создавать поток?\n",
    "\n",
    "1. **Организация**: Каждый пользователь получает свою собственную \"Поток\", как персональный чат. Таким образом, разговоры упорядочиваются и отделяются друг от друга.\n",
    "2. **Управление контекстом**:  В этой \"Потоке\" вы можете передавать определенную информацию или файлы, которые относятся к конкретному пользователю. Это как личная папка для беседы каждого пользователя, в которой хранятся все его данные и история в одном месте.\n",
    "\n",
    "#### Как работаеют потоки?\n",
    "\n",
    "- **Нет ограничений по размеру**: Вы можете представить себе Нить как бесконечный разговор. Нет предела тому, сколько вы можете в нее добавить. Вы можете продолжать разговор, добавляя столько сообщений (или взаимодействий), сколько необходимо.\n",
    "- **Оптимизация разговоров**: Помощник (в данном случае модель искусственного интеллекта, с которой вы взаимодействуете) довольно умен. Он эффективно управляет беседой, используя специальные приемы, такие как усечение. Это означает, что если разговор становится слишком длинным, помощник сосредоточится на наиболее важных частях, чтобы сохранить плавность взаимодействия.\n",
    "- **Упрощение сложности**: Когда вы используете эту систему, вы, по сути, передаете бразды правления помощнику. Он сам решает, какой объем информации (или сколько входных маркеров) учитывать для каждого ответа. Это облегчает вам задачу, поскольку вам не нужно беспокоиться о технических аспектах управления ходом беседы.\n",
    "\n",
    "#### Что это значит для вас?\n",
    "\n",
    "- **Простота использования**: Вы сосредотачиваетесь на том, что хотите спросить или сказать, а система делает все остальное. Она создана для того, чтобы поддерживать беседу, не отвлекаясь на технические детали.\n",
    "- **Учет затрат**: Хотя это значительно упрощает работу, это также означает, что у вас меньше прямого контроля над потенциальными расходами, поскольку помощник сам решает, сколько данных обрабатывать при каждом взаимодействии.\n",
    "\n",
    "В целом, создание потока с помощью API Assistants - это как начало цифрового разговора с искусственным интеллектом, в котором каждый пользователь получает свою собственную персональную чат-комнату. Такая система делает управление взаимодействием более простым и эффективным, хотя и означает, что вы не имеете прямого контроля над техническими аспектами разговора."
   ]
  },
  {
   "cell_type": "code",
   "execution_count": 16,
   "id": "235d78a6-a5c6-49bb-8c42-b1f65a97fe34",
   "metadata": {},
   "outputs": [],
   "source": [
    "thread = client.beta.threads.create()"
   ]
  },
  {
   "cell_type": "code",
   "execution_count": 17,
   "id": "6b2e3b02-ea47-48d2-ae71-21aa5022804c",
   "metadata": {},
   "outputs": [],
   "source": [
    "message = client.beta.threads.messages.create(\n",
    "    thread_id=thread.id,\n",
    "    role=\"user\",\n",
    "    content=\"What is 123456 times 456789?\"\n",
    ")"
   ]
  },
  {
   "cell_type": "code",
   "execution_count": 18,
   "id": "e60cd3bc-8c71-401f-b95d-3a6fd3334ee2",
   "metadata": {},
   "outputs": [
    {
     "data": {
      "text/plain": [
       "Message(id='msg_staFFKB7enF0dfrZsIDb0MCn', assistant_id=None, attachments=[], completed_at=None, content=[TextContentBlock(text=Text(annotations=[], value='What is 123456 times 456789?'), type='text')], created_at=1714546275, incomplete_at=None, incomplete_details=None, metadata={}, object='thread.message', role='user', run_id=None, status=None, thread_id='thread_ywlT5eCcQkmWIAODlwpducDv')"
      ]
     },
     "execution_count": 18,
     "metadata": {},
     "output_type": "execute_result"
    }
   ],
   "source": [
    "message"
   ]
  },
  {
   "cell_type": "code",
   "execution_count": 20,
   "id": "58ab0867-770c-4d34-be5a-7b05df76c6a8",
   "metadata": {},
   "outputs": [
    {
     "data": {
      "text/plain": [
       "SyncCursorPage[Message](data=[Message(id='msg_staFFKB7enF0dfrZsIDb0MCn', assistant_id=None, attachments=[], completed_at=None, content=[TextContentBlock(text=Text(annotations=[], value='What is 123456 times 456789?'), type='text')], created_at=1714546275, incomplete_at=None, incomplete_details=None, metadata={}, object='thread.message', role='user', run_id=None, status=None, thread_id='thread_ywlT5eCcQkmWIAODlwpducDv')], object='list', first_id='msg_staFFKB7enF0dfrZsIDb0MCn', last_id='msg_staFFKB7enF0dfrZsIDb0MCn', has_more=False)"
      ]
     },
     "execution_count": 20,
     "metadata": {},
     "output_type": "execute_result"
    }
   ],
   "source": [
    "client.beta.threads.messages.list(thread_id='thread_ywlT5eCcQkmWIAODlwpducDv')"
   ]
  },
  {
   "cell_type": "markdown",
   "id": "b11faecc-4d87-429b-a0a5-7939c3cc8d36",
   "metadata": {},
   "source": [
    "## Запуск помощника\n",
    "\n",
    "### Что означает \"управлять помощником\"?\n",
    "\n",
    "Представьте себе помощника (например, ChatGPT) в виде полезного робота, готового ответить на вопросы или выполнить задания. Когда вы \"запускаете помощника\", вы, по сути, будите этого робота и говорите: \"Эй, мне нужно кое-что для тебя сделать\".\n",
    "\n",
    "### Как это работает?\n",
    "\n",
    "1. **Начало процесса**: Вы начинаете с создания так называемого \"Запуска\". Это похоже на нажатие кнопки \"Пуск\" на машине. Это дает команду помощнику начать обращать внимание на разговор, или \"Нить\", который происходит.\n",
    "\n",
    "2. **Чтение потока**: После запуска запуска Помощник начинает читать Поток. Это как бы дает роботу историю того, что обсуждалось до сих пор, чтобы он мог понять контекст и то, что нужно ответить или сделать дальше.\n",
    "\n",
    "3. **Реагирование на сообщения**: По мере выполнения задания помощник добавляет свои ответы в поток. Это сообщения с ролью \"помощник\", показывающие, что это ответы ИИ, а не пользователя.\n",
    "\n",
    "4. **Умное управление контекстом**: Ассистент призван автоматически выбирать, какие предыдущие сообщения ему следует учитывать при ответе. Это важно, потому что он должен знать, что относится к текущему вопросу или задаче. Считайте, что помощник делает быстрые заметки о наиболее важных моментах разговора, чтобы не сбиться с пути.\n",
    "\n",
    "### Что вы должны знать?\n",
    "\n",
    "- **Влияние на ценообразование и производительность**: То, как помощник выбирает контекст (или решает, на каких частях разговора сосредоточиться), влияет на две вещи: сколько стоит работа помощника (поскольку обработка большого количества данных может быть дороже) и насколько хорошо помощник работает (поскольку сосредоточение на правильном контексте может привести к лучшим, более точным ответам).\n",
    "- **Оптимизация и эволюция**: Весь этот процесс был отлажен на основе опыта OpenAI по созданию таких систем, как ChatGPT. Однако он постоянно развивается. Это означает, что то, как Ассистент работает сегодня, может быть улучшено или немного изменено в будущем, чтобы сделать его еще лучше.\n",
    "\n",
    "### Дополнительные инструкции\n",
    "\n",
    "- **Настройка запуска**: Вы можете дать Помощнику особые инструкции для каждого Запуска. Это все равно что сказать роботу: \"В этот раз сосредоточься на этой конкретной задаче или ответь таким-то способом\". Но помните, что эти инструкции отменяют стандартный способ реагирования Помощника, поэтому используйте эту функцию обдуманно.\n",
    "\n",
    "В общем, \"Запуск помощника\" - это этап, на котором вы активируете ИИ, чтобы он начал обрабатывать и отвечать на сообщения пользователя в беседе. Он включает в себя чтение \"Потоков\", соответствующее реагирование и управление контекстом разговора с учетом затрат и производительности. Этот процесс постоянно развивается и может быть настроен с помощью специальных инструкций для каждого Запуска."
   ]
  },
  {
   "cell_type": "code",
   "execution_count": 30,
   "id": "36456483-4e7c-4071-a78e-625831f05fc0",
   "metadata": {},
   "outputs": [],
   "source": [
    "run = client.beta.threads.runs.create(\n",
    "  thread_id=thread.id,\n",
    "  assistant_id=assistant.id,\n",
    "  instructions=\"Будьте очень вежливы в своем ответе и признайте, что заниматься математикой - это весело. (Отвечайте на русском языке)\"\n",
    ")"
   ]
  },
  {
   "cell_type": "code",
   "execution_count": 31,
   "id": "32d7c291-8109-45e3-bef4-34dfa461ac43",
   "metadata": {},
   "outputs": [],
   "source": [
    "run = client.beta.threads.runs.retrieve(\n",
    "  thread_id=thread.id,\n",
    "  run_id=run.id\n",
    ")"
   ]
  },
  {
   "cell_type": "code",
   "execution_count": 32,
   "id": "28b0c8dd-67ae-4ea6-99c3-b0e168fae960",
   "metadata": {},
   "outputs": [
    {
     "data": {
      "text/plain": [
       "'completed'"
      ]
     },
     "execution_count": 32,
     "metadata": {},
     "output_type": "execute_result"
    }
   ],
   "source": [
    "run.status"
   ]
  },
  {
   "cell_type": "code",
   "execution_count": 33,
   "id": "5d7af8dc-9854-498a-8214-763e0d420812",
   "metadata": {},
   "outputs": [],
   "source": [
    "messages = client.beta.threads.messages.list(\n",
    "  thread_id=thread.id\n",
    ")"
   ]
  },
  {
   "cell_type": "code",
   "execution_count": 36,
   "id": "b711c534-e946-483f-8b86-e563dd373d30",
   "metadata": {},
   "outputs": [
    {
     "data": {
      "text/plain": [
       "SyncCursorPage[Message](data=[Message(id='msg_TjM5TPzZHc8d2QmStHvr82F9', assistant_id='asst_kCHX8rGZcgXJE16aX08fQIGz', attachments=[], completed_at=None, content=[TextContentBlock(text=Text(annotations=[], value='Результат умножения 123456 на 456789 равен 56,393,342,784.\\n\\nЗаниматься математикой может быть весело, не так ли? 😄'), type='text')], created_at=1714549407, incomplete_at=None, incomplete_details=None, metadata={}, object='thread.message', role='assistant', run_id='run_anZX7Qjk3lixOWDVAvvtyGuI', status=None, thread_id='thread_ywlT5eCcQkmWIAODlwpducDv'), Message(id='msg_xAs53H2jRdmi73Vsb3p0165d', assistant_id='asst_kCHX8rGZcgXJE16aX08fQIGz', attachments=[], completed_at=None, content=[TextContentBlock(text=Text(annotations=[], value=\"The result of multiplying 123456 by 456789 is 56,393,342,784. \\n\\nMath can be fun, don't you think? 😄\"), type='text')], created_at=1714549248, incomplete_at=None, incomplete_details=None, metadata={}, object='thread.message', role='assistant', run_id='run_Z4glJyQyuTZ8Q2nsB3bKmvKT', status=None, thread_id='thread_ywlT5eCcQkmWIAODlwpducDv'), Message(id='msg_staFFKB7enF0dfrZsIDb0MCn', assistant_id=None, attachments=[], completed_at=None, content=[TextContentBlock(text=Text(annotations=[], value='What is 123456 times 456789?'), type='text')], created_at=1714546275, incomplete_at=None, incomplete_details=None, metadata={}, object='thread.message', role='user', run_id=None, status=None, thread_id='thread_ywlT5eCcQkmWIAODlwpducDv')], object='list', first_id='msg_TjM5TPzZHc8d2QmStHvr82F9', last_id='msg_staFFKB7enF0dfrZsIDb0MCn', has_more=False)"
      ]
     },
     "execution_count": 36,
     "metadata": {},
     "output_type": "execute_result"
    }
   ],
   "source": [
    "messages"
   ]
  },
  {
   "cell_type": "code",
   "execution_count": 35,
   "id": "65e2aa48-8cb3-4fd7-9519-0ee52c3e57d5",
   "metadata": {},
   "outputs": [
    {
     "name": "stdout",
     "output_type": "stream",
     "text": [
      "Результат умножения 123456 на 456789 равен 56,393,342,784.\n",
      "\n",
      "Заниматься математикой может быть весело, не так ли? 😄\n"
     ]
    }
   ],
   "source": [
    "print(messages.data[0].content[0].text.value)"
   ]
  },
  {
   "cell_type": "code",
   "execution_count": 37,
   "id": "7720704c-3ddb-4a97-9fa1-b1f61b2a1650",
   "metadata": {},
   "outputs": [
    {
     "data": {
      "text/plain": [
       "[Message(id='msg_TjM5TPzZHc8d2QmStHvr82F9', assistant_id='asst_kCHX8rGZcgXJE16aX08fQIGz', attachments=[], completed_at=None, content=[TextContentBlock(text=Text(annotations=[], value='Результат умножения 123456 на 456789 равен 56,393,342,784.\\n\\nЗаниматься математикой может быть весело, не так ли? 😄'), type='text')], created_at=1714549407, incomplete_at=None, incomplete_details=None, metadata={}, object='thread.message', role='assistant', run_id='run_anZX7Qjk3lixOWDVAvvtyGuI', status=None, thread_id='thread_ywlT5eCcQkmWIAODlwpducDv'),\n",
       " Message(id='msg_xAs53H2jRdmi73Vsb3p0165d', assistant_id='asst_kCHX8rGZcgXJE16aX08fQIGz', attachments=[], completed_at=None, content=[TextContentBlock(text=Text(annotations=[], value=\"The result of multiplying 123456 by 456789 is 56,393,342,784. \\n\\nMath can be fun, don't you think? 😄\"), type='text')], created_at=1714549248, incomplete_at=None, incomplete_details=None, metadata={}, object='thread.message', role='assistant', run_id='run_Z4glJyQyuTZ8Q2nsB3bKmvKT', status=None, thread_id='thread_ywlT5eCcQkmWIAODlwpducDv'),\n",
       " Message(id='msg_staFFKB7enF0dfrZsIDb0MCn', assistant_id=None, attachments=[], completed_at=None, content=[TextContentBlock(text=Text(annotations=[], value='What is 123456 times 456789?'), type='text')], created_at=1714546275, incomplete_at=None, incomplete_details=None, metadata={}, object='thread.message', role='user', run_id=None, status=None, thread_id='thread_ywlT5eCcQkmWIAODlwpducDv')]"
      ]
     },
     "execution_count": 37,
     "metadata": {},
     "output_type": "execute_result"
    }
   ],
   "source": [
    "messages.data"
   ]
  },
  {
   "cell_type": "code",
   "execution_count": 38,
   "id": "7641d14f-59ab-4985-8e52-fd908651f7ef",
   "metadata": {},
   "outputs": [
    {
     "name": "stdout",
     "output_type": "stream",
     "text": [
      "Результат умножения 123456 на 456789 равен 56,393,342,784.\n",
      "\n",
      "Заниматься математикой может быть весело, не так ли? 😄\n",
      "The result of multiplying 123456 by 456789 is 56,393,342,784. \n",
      "\n",
      "Math can be fun, don't you think? 😄\n",
      "What is 123456 times 456789?\n"
     ]
    }
   ],
   "source": [
    "# Это показывает их в порядке убывания последнего сообщения\n",
    "for thread_message in messages.data:\n",
    "    print(thread_message.content[0].text.value)"
   ]
  },
  {
   "cell_type": "code",
   "execution_count": 39,
   "id": "5fd0e2ee-3f15-4a86-9961-6a6cca4e4a33",
   "metadata": {},
   "outputs": [
    {
     "name": "stdout",
     "output_type": "stream",
     "text": [
      "What is 123456 times 456789?\n",
      "\n",
      "\n",
      "The result of multiplying 123456 by 456789 is 56,393,342,784. \n",
      "\n",
      "Math can be fun, don't you think? 😄\n",
      "\n",
      "\n",
      "Результат умножения 123456 на 456789 равен 56,393,342,784.\n",
      "\n",
      "Заниматься математикой может быть весело, не так ли? 😄\n",
      "\n",
      "\n"
     ]
    }
   ],
   "source": [
    "# Это покажет их в порядке возрастания запроса\n",
    "for thread_message in messages.data[::-1]:\n",
    "    print(thread_message.content[0].text.value)\n",
    "    print('\\n')"
   ]
  },
  {
   "cell_type": "markdown",
   "id": "dd058cc8-bf79-48f4-a40b-6256e4e1e9f4",
   "metadata": {},
   "source": [
    "### Подробная информация о работе:"
   ]
  },
  {
   "cell_type": "markdown",
   "id": "92766552-6cd0-4a00-97b8-de98e12dbd55",
   "metadata": {},
   "source": [
    "Мы можем увидеть, какие шаги предпринял помощник, чтобы создать ответ:"
   ]
  },
  {
   "cell_type": "code",
   "execution_count": 40,
   "id": "fe51c414-6444-48ab-89fa-23520d2728b2",
   "metadata": {},
   "outputs": [
    {
     "name": "stdout",
     "output_type": "stream",
     "text": [
      "SyncCursorPage[RunStep](data=[RunStep(id='step_XKXZyhd79FmB02gIBblUGctj', assistant_id='asst_kCHX8rGZcgXJE16aX08fQIGz', cancelled_at=None, completed_at=1714549408, created_at=1714549407, expired_at=None, failed_at=None, last_error=None, metadata=None, object='thread.run.step', run_id='run_anZX7Qjk3lixOWDVAvvtyGuI', status='completed', step_details=MessageCreationStepDetails(message_creation=MessageCreation(message_id='msg_TjM5TPzZHc8d2QmStHvr82F9'), type='message_creation'), thread_id='thread_ywlT5eCcQkmWIAODlwpducDv', type='message_creation', usage=Usage(completion_tokens=50, prompt_tokens=234, total_tokens=284), expires_at=None)], object='list', first_id='step_XKXZyhd79FmB02gIBblUGctj', last_id='step_XKXZyhd79FmB02gIBblUGctj', has_more=False)\n"
     ]
    }
   ],
   "source": [
    "from openai import OpenAI\n",
    "client = OpenAI()\n",
    "\n",
    "run_steps = client.beta.threads.runs.steps.list(\n",
    "    thread_id=thread.id,\n",
    "    run_id=run.id\n",
    ")\n",
    "print(run_steps)\n"
   ]
  },
  {
   "cell_type": "code",
   "execution_count": 41,
   "id": "beef1aeb-71eb-4b64-8928-75e4346be557",
   "metadata": {},
   "outputs": [
    {
     "name": "stdout",
     "output_type": "stream",
     "text": [
      "MessageCreationStepDetails(message_creation=MessageCreation(message_id='msg_TjM5TPzZHc8d2QmStHvr82F9'), type='message_creation')\n",
      "\n",
      "\n"
     ]
    }
   ],
   "source": [
    "for step in run_steps:\n",
    "    print(step.step_details)\n",
    "    print('\\n')"
   ]
  },
  {
   "cell_type": "markdown",
   "id": "c78c5c10-f301-422c-beb9-3655822e37d2",
   "metadata": {},
   "source": [
    "## Listing and Deleting Assistants"
   ]
  },
  {
   "cell_type": "code",
   "execution_count": 44,
   "id": "11352321-488b-4616-8b02-37578abe6ea5",
   "metadata": {},
   "outputs": [
    {
     "name": "stdout",
     "output_type": "stream",
     "text": [
      "[Assistant(id='asst_kCHX8rGZcgXJE16aX08fQIGz', created_at=1714546267, description=None, instructions='You convert math problems into Python code and then run the code to show the answer', metadata={}, model='gpt-3.5-turbo', name='Math Tutor', object='assistant', tools=[CodeInterpreterTool(type='code_interpreter')], response_format='auto', temperature=1.0, tool_resources=ToolResources(code_interpreter=ToolResourcesCodeInterpreter(file_ids=[]), file_search=None), top_p=1.0),\n",
      " Assistant(id='asst_aysepRQBwzvxUtnvJjbkHdMh', created_at=1714205542, description=None, instructions='You are an expert in the field of astrological counseling. Use your knowledge base to answer questions related to astrology and its explanations.', metadata={}, model='gpt-4-turbo-2024-04-09', name=\"You're an astrological assistant\", object='assistant', tools=[FileSearchTool(type='file_search')], response_format='auto', temperature=1.0, tool_resources=ToolResources(code_interpreter=None, file_search=ToolResourcesFileSearch(vector_store_ids=['vs_otuZq5aewyJ1I2uImSApDrhU'])), top_p=1.0),\n",
      " Assistant(id='asst_tyaVIKZXK2Qgu0tSj0l6rSrQ', created_at=1709554453, description=None, instructions='You are a bot designed to answer questions about Vedic astrology', metadata={}, model='gpt-4-1106-preview', name='QA bot', object='assistant', tools=[FunctionTool(function=FunctionDefinition(name='summary_tool', description='Will be required for summarization questions related to general descriptions of astrological signs, and general astrological concepts.', parameters={'type': 'object', 'properties': {'input': {'title': 'Input', 'type': 'string'}}, 'required': ['input']}), type='function'), FunctionTool(function=FunctionDefinition(name='vector_tool', description='Subreddit to find a specific accurate context to answer specific questions about Vedic astrology.', parameters={'type': 'object', 'properties': {'input': {'title': 'Input', 'type': 'string'}}, 'required': ['input']}), type='function')], response_format='auto', temperature=1.0, tool_resources=ToolResources(code_interpreter=None, file_search=None), top_p=1.0),\n",
      " Assistant(id='asst_8QgWXbvUY6GdxEWfxWkR9T8Z', created_at=1709553516, description=None, instructions='You are a bot designed to answer questions about Vedic astrology', metadata={}, model='gpt-4-1106-preview', name='QA bot', object='assistant', tools=[FunctionTool(function=FunctionDefinition(name='summary_tool', description='Will be required for summarization questions related to general descriptions of astrological signs, and general astrological concepts.', parameters={'type': 'object', 'properties': {'input': {'title': 'Input', 'type': 'string'}}, 'required': ['input']}), type='function'), FunctionTool(function=FunctionDefinition(name='vector_tool', description='Subreddit to find a specific accurate context to answer specific questions about Vedic astrology.', parameters={'type': 'object', 'properties': {'input': {'title': 'Input', 'type': 'string'}}, 'required': ['input']}), type='function')], response_format='auto', temperature=1.0, tool_resources=ToolResources(code_interpreter=None, file_search=None), top_p=1.0),\n",
      " Assistant(id='asst_HdDKSRCO5N2KjTeQFgR7wO9z', created_at=1701955487, description=None, instructions='I am new to programming, I am currently writing a project and I need your help as a mentor. I will send you code and ask you questions about it and perform writing some code related to my project. Please note that I am a beginner and I need to explain and help, please do not shorten the code. And try before you write the code, write a text description of what this piece of code will do and then write the code.\\n ', metadata={}, model='gpt-4-turbo-2024-04-09', name='qwerty', object='assistant', tools=[], response_format='auto', temperature=1.0, tool_resources=ToolResources(code_interpreter=None, file_search=None), top_p=1.0)]\n"
     ]
    }
   ],
   "source": [
    "my_assistants = client.beta.assistants.list(\n",
    "    order=\"desc\",\n",
    "    limit=\"20\",\n",
    ")\n",
    "pprint(my_assistants.data)"
   ]
  },
  {
   "cell_type": "code",
   "execution_count": 68,
   "id": "34152753-32c4-43f1-8812-925991499c06",
   "metadata": {},
   "outputs": [
    {
     "name": "stdout",
     "output_type": "stream",
     "text": [
      "AssistantDeleted(id='asst_1WSNjWGUgE6PezyHQNKkO9nT', deleted=True, object='assistant.deleted')\n"
     ]
    }
   ],
   "source": [
    "response = client.beta.assistants.delete('asst_1WSNjWGUgE6PezyHQNKkO9nT')\n",
    "print(response)"
   ]
  },
  {
   "cell_type": "code",
   "execution_count": 46,
   "id": "9f71a776-6ee4-4763-9fed-26b62b545d1d",
   "metadata": {},
   "outputs": [
    {
     "name": "stdout",
     "output_type": "stream",
     "text": [
      "[Assistant(id='asst_kCHX8rGZcgXJE16aX08fQIGz', created_at=1714546267, description=None, instructions='You convert math problems into Python code and then run the code to show the answer', metadata={}, model='gpt-3.5-turbo', name='Math Tutor', object='assistant', tools=[CodeInterpreterTool(type='code_interpreter')], response_format='auto', temperature=1.0, tool_resources=ToolResources(code_interpreter=ToolResourcesCodeInterpreter(file_ids=[]), file_search=None), top_p=1.0),\n",
      " Assistant(id='asst_aysepRQBwzvxUtnvJjbkHdMh', created_at=1714205542, description=None, instructions='You are an expert in the field of astrological counseling. Use your knowledge base to answer questions related to astrology and its explanations.', metadata={}, model='gpt-4-turbo-2024-04-09', name=\"You're an astrological assistant\", object='assistant', tools=[FileSearchTool(type='file_search')], response_format='auto', temperature=1.0, tool_resources=ToolResources(code_interpreter=None, file_search=ToolResourcesFileSearch(vector_store_ids=['vs_otuZq5aewyJ1I2uImSApDrhU'])), top_p=1.0),\n",
      " Assistant(id='asst_tyaVIKZXK2Qgu0tSj0l6rSrQ', created_at=1709554453, description=None, instructions='You are a bot designed to answer questions about Vedic astrology', metadata={}, model='gpt-4-1106-preview', name='QA bot', object='assistant', tools=[FunctionTool(function=FunctionDefinition(name='summary_tool', description='Will be required for summarization questions related to general descriptions of astrological signs, and general astrological concepts.', parameters={'type': 'object', 'properties': {'input': {'title': 'Input', 'type': 'string'}}, 'required': ['input']}), type='function'), FunctionTool(function=FunctionDefinition(name='vector_tool', description='Subreddit to find a specific accurate context to answer specific questions about Vedic astrology.', parameters={'type': 'object', 'properties': {'input': {'title': 'Input', 'type': 'string'}}, 'required': ['input']}), type='function')], response_format='auto', temperature=1.0, tool_resources=ToolResources(code_interpreter=None, file_search=None), top_p=1.0),\n",
      " Assistant(id='asst_8QgWXbvUY6GdxEWfxWkR9T8Z', created_at=1709553516, description=None, instructions='You are a bot designed to answer questions about Vedic astrology', metadata={}, model='gpt-4-1106-preview', name='QA bot', object='assistant', tools=[FunctionTool(function=FunctionDefinition(name='summary_tool', description='Will be required for summarization questions related to general descriptions of astrological signs, and general astrological concepts.', parameters={'type': 'object', 'properties': {'input': {'title': 'Input', 'type': 'string'}}, 'required': ['input']}), type='function'), FunctionTool(function=FunctionDefinition(name='vector_tool', description='Subreddit to find a specific accurate context to answer specific questions about Vedic astrology.', parameters={'type': 'object', 'properties': {'input': {'title': 'Input', 'type': 'string'}}, 'required': ['input']}), type='function')], response_format='auto', temperature=1.0, tool_resources=ToolResources(code_interpreter=None, file_search=None), top_p=1.0),\n",
      " Assistant(id='asst_HdDKSRCO5N2KjTeQFgR7wO9z', created_at=1701955487, description=None, instructions='I am new to programming, I am currently writing a project and I need your help as a mentor. I will send you code and ask you questions about it and perform writing some code related to my project. Please note that I am a beginner and I need to explain and help, please do not shorten the code. And try before you write the code, write a text description of what this piece of code will do and then write the code.\\n ', metadata={}, model='gpt-4-turbo-2024-04-09', name='qwerty', object='assistant', tools=[], response_format='auto', temperature=1.0, tool_resources=ToolResources(code_interpreter=None, file_search=None), top_p=1.0)]\n"
     ]
    }
   ],
   "source": [
    "my_assistants = client.beta.assistants.list(\n",
    "    order=\"desc\",\n",
    "    limit=\"20\",\n",
    ")\n",
    "pprint(my_assistants.data)"
   ]
  },
  {
   "cell_type": "code",
   "execution_count": null,
   "id": "bb791e61-cc4f-461f-a209-7a7edf838da9",
   "metadata": {},
   "outputs": [],
   "source": []
  }
 ],
 "metadata": {
  "kernelspec": {
   "display_name": "Python 3 (ipykernel)",
   "language": "python",
   "name": "python3"
  },
  "language_info": {
   "codemirror_mode": {
    "name": "ipython",
    "version": 3
   },
   "file_extension": ".py",
   "mimetype": "text/x-python",
   "name": "python",
   "nbconvert_exporter": "python",
   "pygments_lexer": "ipython3",
   "version": "3.11.4"
  }
 },
 "nbformat": 4,
 "nbformat_minor": 5
}
