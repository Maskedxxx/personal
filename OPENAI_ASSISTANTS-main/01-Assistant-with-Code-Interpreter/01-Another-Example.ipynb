{
 "cells": [
  {
   "cell_type": "markdown",
   "id": "9b61ca09-df53-48a9-ae2b-b80ce5f8eea0",
   "metadata": {},
   "source": [
    "<center><a href=\"https://www.pieriantraining.com/\" ><img src=\"../PTCenteredPurple.png\" alt=\"Pierian Training Logo\" /></a></center>\n"
   ]
  },
  {
   "cell_type": "markdown",
   "id": "7706bce7-09b9-4127-a485-dfa2cacf4ebb",
   "metadata": {},
   "source": [
    "## Ассистент OpenAI с интерпретатором кода\n",
    "\n",
    "Давайте рассмотрим еще один пример создания помощника с помощью инструмента интерпретатора кода!"
   ]
  },
  {
   "cell_type": "code",
   "execution_count": 13,
   "id": "d1bd7070-48e5-42e4-8c2a-23afc5ccdcbd",
   "metadata": {},
   "outputs": [],
   "source": [
    "from openai import OpenAI \n",
    "from pprint import pprint"
   ]
  },
  {
   "cell_type": "code",
   "execution_count": 5,
   "id": "f17c33b6-4535-4976-9c23-9ef51a726ea2",
   "metadata": {},
   "outputs": [],
   "source": [
    "client = OpenAI()"
   ]
  },
  {
   "cell_type": "markdown",
   "id": "881696c9-ccdb-4f68-ad7e-7b3d8a6754d0",
   "metadata": {},
   "source": [
    "### ШАГ 1: СОЗДАНИЕ ПОМОЩНИКА"
   ]
  },
  {
   "cell_type": "code",
   "execution_count": 6,
   "id": "60f0f6aa-cbd4-4360-b45a-d1af02d1b8f5",
   "metadata": {},
   "outputs": [],
   "source": [
    "assistant = client.beta.assistants.create(\n",
    "    name=\"Bot Analyst\",\n",
    "    instructions=\"You use Python and Pandas code to perform graph visualization\",\n",
    "    tools=[{\"type\": \"code_interpreter\"}],\n",
    "    model=\"gpt-3.5-turbo\"\n",
    ")"
   ]
  },
  {
   "cell_type": "markdown",
   "id": "b2f0ec2d-7c3e-4afa-9aa9-05688f7eb16f",
   "metadata": {},
   "source": [
    "### ШАГ 2: СОЗДАНИЕ ПОТОКА"
   ]
  },
  {
   "cell_type": "code",
   "execution_count": 7,
   "id": "eda0f447-01ec-4b66-9121-49ce287cbcbb",
   "metadata": {},
   "outputs": [],
   "source": [
    "thread = client.beta.threads.create()"
   ]
  },
  {
   "cell_type": "markdown",
   "id": "38febadc-8c3d-43e7-b72a-1f2ac9977e3e",
   "metadata": {},
   "source": [
    "### ШАГ 3: ДОБАВЬТЕ СООБЩЕНИЕ В ПОТОК"
   ]
  },
  {
   "cell_type": "code",
   "execution_count": 8,
   "id": "27c35f2b-3603-4b4b-8475-015d37035565",
   "metadata": {},
   "outputs": [],
   "source": [
    "message = client.beta.threads.messages.create(\n",
    "    thread_id=thread.id,\n",
    "    role=\"user\",\n",
    "    content=\"Data on how unstructured data grows by year. From 2010 (5-zettabytes) through 2024, the amount of data grows by 10 zettabytes each year\",\n",
    "    metadata={\"task\": \"generate_graph\",\"graph_type\": \"line_chart\"} \n",
    ")"
   ]
  },
  {
   "cell_type": "markdown",
   "id": "4abf4cc9-7eb9-4877-8d80-c2ba424e8d36",
   "metadata": {},
   "source": [
    "### ШАГ 4: ЗАПУСТИТЕ ПОТОК С ПОМОЩНИКОМ"
   ]
  },
  {
   "cell_type": "code",
   "execution_count": 9,
   "id": "4a7a1724-83b1-439e-86f2-7914e73b8b33",
   "metadata": {},
   "outputs": [],
   "source": [
    "run = client.beta.threads.runs.create(\n",
    "  thread_id=thread.id,\n",
    "  assistant_id=assistant.id,\n",
    "  temperature=0.3\n",
    "  instructions=\"Give detailed analysis and considerations for the user question.\"\n",
    ")"
   ]
  },
  {
   "cell_type": "code",
   "execution_count": 10,
   "id": "bbc775d6-6579-4313-909c-bd19f88aaa90",
   "metadata": {},
   "outputs": [
    {
     "name": "stdout",
     "output_type": "stream",
     "text": [
      "completed\n"
     ]
    }
   ],
   "source": [
    "import time\n",
    "\n",
    "while run.status != \"completed\":\n",
    "    run = client.beta.threads.runs.retrieve(\n",
    "          thread_id=thread.id,\n",
    "          run_id=run.id\n",
    "        )\n",
    "    \n",
    "    print(run.status)\n",
    "    \n",
    "    time.sleep(secs=5)"
   ]
  },
  {
   "cell_type": "markdown",
   "id": "ee5c32ac-c459-4012-ac7f-6ffc5f68f83d",
   "metadata": {},
   "source": [
    "### ШАГ 5: ОТОБРАЖЕНИЕ ОТВЕТА"
   ]
  },
  {
   "cell_type": "code",
   "execution_count": 11,
   "id": "53a62972-68c7-4d56-b80d-4318532f08cc",
   "metadata": {},
   "outputs": [],
   "source": [
    "messages = client.beta.threads.messages.list(\n",
    "  thread_id=thread.id\n",
    ")"
   ]
  },
  {
   "cell_type": "code",
   "execution_count": 14,
   "id": "dbb5538b-0b06-4f07-829e-a07995b6b23a",
   "metadata": {},
   "outputs": [
    {
     "name": "stdout",
     "output_type": "stream",
     "text": [
      "SyncCursorPage[Message](data=[Message(id='msg_EK6yZZiP0zNjHexzw51Vnc9f', assistant_id='asst_DCfLBgmUc6oz4ya1OfkMadAZ', attachments=[], completed_at=None, content=[TextContentBlock(text=Text(annotations=[], value='Here is the calculated amount of unstructured data (in zettabytes) for each year from 2010 to 2024, where the data grows by 10 zettabytes each year starting from an initial amount of 5 zettabytes in 2010:\\n\\n- 2010: 5 zettabytes\\n- 2011: 15 zettabytes\\n- 2012: 25 zettabytes\\n- 2013: 35 zettabytes\\n- 2014: 45 zettabytes\\n- 2015: 55 zettabytes\\n- 2016: 65 zettabytes\\n- 2017: 75 zettabytes\\n- 2018: 85 zettabytes\\n- 2019: 95 zettabytes\\n- 2020: 105 zettabytes\\n- 2021: 115 zettabytes\\n- 2022: 125 zettabytes\\n- 2023: 135 zettabytes\\n- 2024: 145 zettabytes\\n\\nIf you need any further analysis or calculations based on this data, feel free to ask!'), type='text')], created_at=1714591512, incomplete_at=None, incomplete_details=None, metadata={}, object='thread.message', role='assistant', run_id='run_l4Se54X7XxYdPgzBClMRzJdt', status=None, thread_id='thread_zImKK7Uxpzspw0lNe4Ch9RAe'), Message(id='msg_4OdzJeFvghQSr5qJBF4oiYlM', assistant_id='asst_DCfLBgmUc6oz4ya1OfkMadAZ', attachments=[], completed_at=None, content=[TextContentBlock(text=Text(annotations=[], value=\"To calculate the amount of unstructured data each year from 2010 to 2024, where the data grows by 10 zettabytes each year starting from an initial amount of 5 zettabytes in 2010, we can use a simple Python script. \\n\\nWe can create a loop that iterates over the years from 2010 to 2024, incrementing the amount of data by 10 zettabytes each year. This will allow us to calculate the total amount of unstructured data for each year.\\n\\nLet's calculate the amount of unstructured data for each year from 2010 to 2024.\"), type='text')], created_at=1714591506, incomplete_at=None, incomplete_details=None, metadata={}, object='thread.message', role='assistant', run_id='run_l4Se54X7XxYdPgzBClMRzJdt', status=None, thread_id='thread_zImKK7Uxpzspw0lNe4Ch9RAe'), Message(id='msg_DpiDiPTLqqlWIvvLJbbcplp5', assistant_id=None, attachments=[], completed_at=None, content=[TextContentBlock(text=Text(annotations=[], value='Data on how unstructured data grows by year. From 2010 (5-zettabytes) through 2024, the amount of data grows by 10 zettabytes each year'), type='text')], created_at=1714591170, incomplete_at=None, incomplete_details=None, metadata={'task': 'generate_graph', 'graph_type': 'line_chart'}, object='thread.message', role='user', run_id=None, status=None, thread_id='thread_zImKK7Uxpzspw0lNe4Ch9RAe')], object='list', first_id='msg_EK6yZZiP0zNjHexzw51Vnc9f', last_id='msg_DpiDiPTLqqlWIvvLJbbcplp5', has_more=False)\n"
     ]
    }
   ],
   "source": [
    "pprint(messages)"
   ]
  },
  {
   "cell_type": "code",
   "execution_count": 18,
   "id": "5d2a74a0-f360-474e-aa27-cf2c012db403",
   "metadata": {},
   "outputs": [
    {
     "name": "stdout",
     "output_type": "stream",
     "text": [
      "Data on how unstructured data grows by year. From 2010 (5-zettabytes) through 2024, the amount of data grows by 10 zettabytes each year\n",
      "\n",
      "\n",
      "To calculate the amount of unstructured data each year from 2010 to 2024, where the data grows by 10 zettabytes each year starting from an initial amount of 5 zettabytes in 2010, we can use a simple Python script. \n",
      "\n",
      "We can create a loop that iterates over the years from 2010 to 2024, incrementing the amount of data by 10 zettabytes each year. This will allow us to calculate the total amount of unstructured data for each year.\n",
      "\n",
      "Let's calculate the amount of unstructured data for each year from 2010 to 2024.\n",
      "\n",
      "\n",
      "Here is the calculated amount of unstructured data (in zettabytes) for each year from 2010 to 2024, where the data grows by 10 zettabytes each year starting from an initial amount of 5 zettabytes in 2010:\n",
      "\n",
      "- 2010: 5 zettabytes\n",
      "- 2011: 15 zettabytes\n",
      "- 2012: 25 zettabytes\n",
      "- 2013: 35 zettabytes\n",
      "- 2014: 45 zettabytes\n",
      "- 2015: 55 zettabytes\n",
      "- 2016: 65 zettabytes\n",
      "- 2017: 75 zettabytes\n",
      "- 2018: 85 zettabytes\n",
      "- 2019: 95 zettabytes\n",
      "- 2020: 105 zettabytes\n",
      "- 2021: 115 zettabytes\n",
      "- 2022: 125 zettabytes\n",
      "- 2023: 135 zettabytes\n",
      "- 2024: 145 zettabytes\n",
      "\n",
      "If you need any further analysis or calculations based on this data, feel free to ask!\n",
      "\n",
      "\n"
     ]
    }
   ],
   "source": [
    "for thread_message in messages.data[::-1]:\n",
    "    print(thread_message.content[0].text.value)\n",
    "    print('\\n')"
   ]
  },
  {
   "cell_type": "code",
   "execution_count": 19,
   "id": "0dc471d9-d0b8-4c12-a5b8-31dab254211e",
   "metadata": {},
   "outputs": [],
   "source": [
    "def display_thread_messages(messages):\n",
    "    # ОЖИДАЕТ СООБЩЕНИЙ В ПОРЯДКЕ ВОЗРАСТАНИЯ!\n",
    "    for thread_message in messages.data:\n",
    "        print(thread_message.content[0].text.value)\n",
    "        print('\\n')"
   ]
  },
  {
   "cell_type": "markdown",
   "id": "c0d3c2e7-51da-487e-a776-449f2f2a9640",
   "metadata": {},
   "source": [
    "### ШАГ 6: ПРОДОЛЖИТЬ РАЗГОВОР"
   ]
  },
  {
   "cell_type": "code",
   "execution_count": 20,
   "id": "9316de21-1e14-4e20-a070-5a3a3142c984",
   "metadata": {},
   "outputs": [],
   "source": [
    "def wait_on_run(run, thread):\n",
    "    '''\n",
    "    Простая функция, которая ожидает выполнения определенного потока.\n",
    "    Возвращает выполнение после того, как поток был запущен.\n",
    "    '''\n",
    "    while run.status == \"queued\" or run.status == \"in_progress\":\n",
    "        run = client.beta.threads.runs.retrieve(\n",
    "            thread_id=thread.id,\n",
    "            run_id=run.id,\n",
    "        )\n",
    "        time.sleep(0.5)\n",
    "    return run"
   ]
  },
  {
   "cell_type": "code",
   "execution_count": 21,
   "id": "ff6edb8d-d6f6-4fec-b53f-ba0ec60f902f",
   "metadata": {},
   "outputs": [
    {
     "data": {
      "text/plain": [
       "SyncCursorPage[Message](data=[Message(id='msg_EK6yZZiP0zNjHexzw51Vnc9f', assistant_id='asst_DCfLBgmUc6oz4ya1OfkMadAZ', attachments=[], completed_at=None, content=[TextContentBlock(text=Text(annotations=[], value='Here is the calculated amount of unstructured data (in zettabytes) for each year from 2010 to 2024, where the data grows by 10 zettabytes each year starting from an initial amount of 5 zettabytes in 2010:\\n\\n- 2010: 5 zettabytes\\n- 2011: 15 zettabytes\\n- 2012: 25 zettabytes\\n- 2013: 35 zettabytes\\n- 2014: 45 zettabytes\\n- 2015: 55 zettabytes\\n- 2016: 65 zettabytes\\n- 2017: 75 zettabytes\\n- 2018: 85 zettabytes\\n- 2019: 95 zettabytes\\n- 2020: 105 zettabytes\\n- 2021: 115 zettabytes\\n- 2022: 125 zettabytes\\n- 2023: 135 zettabytes\\n- 2024: 145 zettabytes\\n\\nIf you need any further analysis or calculations based on this data, feel free to ask!'), type='text')], created_at=1714591512, incomplete_at=None, incomplete_details=None, metadata={}, object='thread.message', role='assistant', run_id='run_l4Se54X7XxYdPgzBClMRzJdt', status=None, thread_id='thread_zImKK7Uxpzspw0lNe4Ch9RAe'), Message(id='msg_4OdzJeFvghQSr5qJBF4oiYlM', assistant_id='asst_DCfLBgmUc6oz4ya1OfkMadAZ', attachments=[], completed_at=None, content=[TextContentBlock(text=Text(annotations=[], value=\"To calculate the amount of unstructured data each year from 2010 to 2024, where the data grows by 10 zettabytes each year starting from an initial amount of 5 zettabytes in 2010, we can use a simple Python script. \\n\\nWe can create a loop that iterates over the years from 2010 to 2024, incrementing the amount of data by 10 zettabytes each year. This will allow us to calculate the total amount of unstructured data for each year.\\n\\nLet's calculate the amount of unstructured data for each year from 2010 to 2024.\"), type='text')], created_at=1714591506, incomplete_at=None, incomplete_details=None, metadata={}, object='thread.message', role='assistant', run_id='run_l4Se54X7XxYdPgzBClMRzJdt', status=None, thread_id='thread_zImKK7Uxpzspw0lNe4Ch9RAe'), Message(id='msg_DpiDiPTLqqlWIvvLJbbcplp5', assistant_id=None, attachments=[], completed_at=None, content=[TextContentBlock(text=Text(annotations=[], value='Data on how unstructured data grows by year. From 2010 (5-zettabytes) through 2024, the amount of data grows by 10 zettabytes each year'), type='text')], created_at=1714591170, incomplete_at=None, incomplete_details=None, metadata={'task': 'generate_graph', 'graph_type': 'line_chart'}, object='thread.message', role='user', run_id=None, status=None, thread_id='thread_zImKK7Uxpzspw0lNe4Ch9RAe')], object='list', first_id='msg_EK6yZZiP0zNjHexzw51Vnc9f', last_id='msg_DpiDiPTLqqlWIvvLJbbcplp5', has_more=False)"
      ]
     },
     "execution_count": 21,
     "metadata": {},
     "output_type": "execute_result"
    }
   ],
   "source": [
    "client.beta.threads.messages.list(thread_id=thread.id)"
   ]
  },
  {
   "cell_type": "code",
   "execution_count": 22,
   "id": "5c968326-564f-4a16-9014-5cb512cb196a",
   "metadata": {},
   "outputs": [],
   "source": [
    "message = client.beta.threads.messages.create(\n",
    "    thread_id=thread.id, role=\"user\", content=\"Теперь данные изменились, и теперь прирост составляет по 20 зеттабайт\"\n",
    ")"
   ]
  },
  {
   "cell_type": "code",
   "execution_count": 23,
   "id": "fd6c557f-4e8f-4783-881b-ea69de9821cc",
   "metadata": {},
   "outputs": [
    {
     "name": "stdout",
     "output_type": "stream",
     "text": [
      "Давайте пересчитаем количество структурных данных для каждого года с 2010 по 2024 год, учитывая, что данные увеличиваются на 20 зеттабайт каждый год, начиная с изначального количества 5 зеттабайт в 2010 году. Давайте рассчитаем это:\n",
      "\n",
      "\n",
      "Вот пересчитанное количество неструктурированных данных (в зеттабайтах) для каждого года с 2010 по 2024, учитывая, что данные увеличиваются на 20 зеттабайт каждый год начиная с изначального количества в 5 зеттабайт в 2010 году:\n",
      "\n",
      "- 2010: 5 зеттабайт\n",
      "- 2011: 25 зеттабайт\n",
      "- 2012: 45 зеттабайт\n",
      "- 2013: 65 зеттабайт\n",
      "- 2014: 85 зеттабайт\n",
      "- 2015: 105 зеттабайт\n",
      "- 2016: 125 зеттабайт\n",
      "- 2017: 145 зеттабайт\n",
      "- 2018: 165 зеттабайт\n",
      "- 2019: 185 зеттабайт\n",
      "- 2020: 205 зеттабайт\n",
      "- 2021: 225 зеттабайт\n",
      "- 2022: 245 зеттабайт\n",
      "- 2023: 265 зеттабайт\n",
      "- 2024: 285 зеттабайт\n",
      "\n",
      "Если у вас есть какие-либо дополнительные вопросы или запросы, пожалуйста, дайте знать!\n",
      "\n",
      "\n"
     ]
    }
   ],
   "source": [
    "# Выполнить наш запуск\n",
    "run = client.beta.threads.runs.create(\n",
    "    thread_id=thread.id,\n",
    "    assistant_id=assistant.id,\n",
    ")\n",
    "\n",
    "# Дождитесь завершения\n",
    "wait_on_run(run, thread)\n",
    "\n",
    "# Получите все сообщения, добавленные после последнего сообщения пользователя\n",
    "# МЫ МОЖЕМ ЗАПРОСИТЬ В ПОРЯДКЕ 'ASC'\n",
    "# МЫ ТАКЖЕ МОЖЕМ ЗАПРОСИТЬ ТОЛЬКО СООБЩЕНИЯ ПОСЛЕ ОПРЕДЕЛЕННОГО ИДЕНТИФИКАТОРА!\n",
    "messages = client.beta.threads.messages.list(\n",
    "    thread_id=thread.id, order=\"asc\", after=message.id\n",
    ")\n",
    "\n",
    "display_thread_messages(messages)"
   ]
  },
  {
   "cell_type": "markdown",
   "id": "bbe3f4c8-278c-4a40-ba12-0af374cc5ce2",
   "metadata": {},
   "source": [
    "-----"
   ]
  },
  {
   "cell_type": "markdown",
   "id": "c66b0970-8c22-42ca-ab21-f721e74bfd1d",
   "metadata": {},
   "source": [
    "### Дополнительно: Просмотрите шаги выполнения программы для получения ответа"
   ]
  },
  {
   "cell_type": "code",
   "execution_count": 26,
   "id": "82cf5d57-176c-450f-9736-1bfb100373f7",
   "metadata": {},
   "outputs": [
    {
     "data": {
      "text/plain": [
       "SyncCursorPage[Run](data=[Run(id='run_FOu7NvY5Shqd5AXwVY6NxfPE', assistant_id='asst_DCfLBgmUc6oz4ya1OfkMadAZ', cancelled_at=None, completed_at=1714592277, created_at=1714592266, expires_at=None, failed_at=None, incomplete_details=None, instructions='You use Python and Pandas code to perform graph visualization', last_error=None, max_completion_tokens=None, max_prompt_tokens=None, metadata={}, model='gpt-3.5-turbo', object='thread.run', required_action=None, response_format='auto', started_at=1714592266, status='completed', thread_id='thread_zImKK7Uxpzspw0lNe4Ch9RAe', tool_choice='auto', tools=[CodeInterpreterTool(type='code_interpreter')], truncation_strategy=TruncationStrategy(type='auto', last_messages=None), usage=Usage(completion_tokens=562, prompt_tokens=2789, total_tokens=3351), temperature=1.0, top_p=1.0, tool_resources={}), Run(id='run_l4Se54X7XxYdPgzBClMRzJdt', assistant_id='asst_DCfLBgmUc6oz4ya1OfkMadAZ', cancelled_at=None, completed_at=1714591517, created_at=1714591504, expires_at=None, failed_at=None, incomplete_details=None, instructions='Give detailed analysis and considerations for the user question.', last_error=None, max_completion_tokens=None, max_prompt_tokens=None, metadata={}, model='gpt-3.5-turbo', object='thread.run', required_action=None, response_format='auto', started_at=1714591505, status='expired', thread_id='thread_zImKK7Uxpzspw0lNe4Ch9RAe', tool_choice='auto', tools=[CodeInterpreterTool(type='code_interpreter')], truncation_strategy=TruncationStrategy(type='auto', last_messages=None), usage=Usage(completion_tokens=482, prompt_tokens=934, total_tokens=1416), temperature=0.3, top_p=1.0, tool_resources={})], object='list', first_id='run_FOu7NvY5Shqd5AXwVY6NxfPE', last_id='run_l4Se54X7XxYdPgzBClMRzJdt', has_more=False)"
      ]
     },
     "execution_count": 26,
     "metadata": {},
     "output_type": "execute_result"
    }
   ],
   "source": [
    "client.beta.threads.runs.list(thread.id)"
   ]
  },
  {
   "cell_type": "code",
   "execution_count": 27,
   "id": "946f6213-fae0-4f12-9799-9e960b24a831",
   "metadata": {},
   "outputs": [],
   "source": [
    "run_steps = client.beta.threads.runs.steps.list(\n",
    "    thread_id=thread.id,\n",
    "    run_id=run.id\n",
    ")"
   ]
  },
  {
   "cell_type": "code",
   "execution_count": 28,
   "id": "bdfb834c-1596-4eb2-8101-e7a154245443",
   "metadata": {},
   "outputs": [
    {
     "name": "stdout",
     "output_type": "stream",
     "text": [
      "MessageCreationStepDetails(message_creation=MessageCreation(message_id='msg_qHMhd2uB9Sqm1Jzqqy6WVq8R'), type='message_creation')\n",
      "\n",
      "\n",
      "ToolCallsStepDetails(tool_calls=[CodeInterpreterToolCall(id='call_HfbyVs1Z1TvAq1Lzc9Od4yH3', code_interpreter=CodeInterpreter(input='# Initial amount of unstructured data in 2010\\r\\ninitial_amount = 5  # in zettabytes\\r\\n\\r\\n# Dictionary to store the amount of unstructured data for each year\\r\\ndata_growth_updated = {}\\r\\n\\r\\n# Calculate the amount of unstructured data for each year from 2010 to 2024\\r\\nfor year in range(2010, 2025):\\r\\n    data_growth_updated[year] = initial_amount\\r\\n    initial_amount += 20  # Data grows by 20 zettabytes each year\\r\\n\\r\\ndata_growth_updated', outputs=[CodeInterpreterOutputLogs(logs='{2010: 5,\\n 2011: 25,\\n 2012: 45,\\n 2013: 65,\\n 2014: 85,\\n 2015: 105,\\n 2016: 125,\\n 2017: 145,\\n 2018: 165,\\n 2019: 185,\\n 2020: 205,\\n 2021: 225,\\n 2022: 245,\\n 2023: 265,\\n 2024: 285}', type='logs')]), type='code_interpreter')], type='tool_calls')\n",
      "\n",
      "\n",
      "MessageCreationStepDetails(message_creation=MessageCreation(message_id='msg_BYgT5xobcVrRU88ZIUKq039f'), type='message_creation')\n",
      "\n",
      "\n"
     ]
    }
   ],
   "source": [
    "for step in run_steps:\n",
    "    print(step.step_details)\n",
    "    print('\\n')"
   ]
  },
  {
   "cell_type": "markdown",
   "id": "b05318a1-f761-4aa9-95a5-3b3b0bf200c9",
   "metadata": {},
   "source": [
    "### Optional: Delete Assistant"
   ]
  },
  {
   "cell_type": "code",
   "execution_count": 29,
   "id": "37d16882-1ec8-484b-832c-592d64f9d6dd",
   "metadata": {},
   "outputs": [
    {
     "name": "stdout",
     "output_type": "stream",
     "text": [
      "[Assistant(id='asst_DCfLBgmUc6oz4ya1OfkMadAZ', created_at=1714590439, description=None, instructions='You use Python and Pandas code to perform graph visualization', metadata={}, model='gpt-3.5-turbo', name='Bot Analyst', object='assistant', tools=[CodeInterpreterTool(type='code_interpreter')], response_format='auto', temperature=1.0, tool_resources=ToolResources(code_interpreter=ToolResourcesCodeInterpreter(file_ids=[]), file_search=None), top_p=1.0), Assistant(id='asst_0kP8noXV2QqPl1WepqZEWM8E', created_at=1714551808, description=None, instructions='You use Python code to help answer questions about mortgage and interest payments.', metadata={}, model='gpt-3.5-turbo', name='Mortgage Bot', object='assistant', tools=[CodeInterpreterTool(type='code_interpreter')], response_format='auto', temperature=1.0, tool_resources=ToolResources(code_interpreter=ToolResourcesCodeInterpreter(file_ids=[]), file_search=None), top_p=1.0), Assistant(id='asst_kCHX8rGZcgXJE16aX08fQIGz', created_at=1714546267, description=None, instructions='You convert math problems into Python code and then run the code to show the answer', metadata={}, model='gpt-3.5-turbo', name='Math Tutor', object='assistant', tools=[CodeInterpreterTool(type='code_interpreter')], response_format='auto', temperature=1.0, tool_resources=ToolResources(code_interpreter=ToolResourcesCodeInterpreter(file_ids=[]), file_search=None), top_p=1.0), Assistant(id='asst_aysepRQBwzvxUtnvJjbkHdMh', created_at=1714205542, description=None, instructions='You are an expert in the field of astrological counseling. Use your knowledge base to answer questions related to astrology and its explanations.', metadata={}, model='gpt-4-turbo-2024-04-09', name=\"You're an astrological assistant\", object='assistant', tools=[FileSearchTool(type='file_search')], response_format='auto', temperature=1.0, tool_resources=ToolResources(code_interpreter=None, file_search=ToolResourcesFileSearch(vector_store_ids=['vs_otuZq5aewyJ1I2uImSApDrhU'])), top_p=1.0), Assistant(id='asst_tyaVIKZXK2Qgu0tSj0l6rSrQ', created_at=1709554453, description=None, instructions='You are a bot designed to answer questions about Vedic astrology', metadata={}, model='gpt-4-1106-preview', name='QA bot', object='assistant', tools=[FunctionTool(function=FunctionDefinition(name='summary_tool', description='Will be required for summarization questions related to general descriptions of astrological signs, and general astrological concepts.', parameters={'type': 'object', 'properties': {'input': {'title': 'Input', 'type': 'string'}}, 'required': ['input']}), type='function'), FunctionTool(function=FunctionDefinition(name='vector_tool', description='Subreddit to find a specific accurate context to answer specific questions about Vedic astrology.', parameters={'type': 'object', 'properties': {'input': {'title': 'Input', 'type': 'string'}}, 'required': ['input']}), type='function')], response_format='auto', temperature=1.0, tool_resources=ToolResources(code_interpreter=None, file_search=None), top_p=1.0), Assistant(id='asst_8QgWXbvUY6GdxEWfxWkR9T8Z', created_at=1709553516, description=None, instructions='You are a bot designed to answer questions about Vedic astrology', metadata={}, model='gpt-4-1106-preview', name='QA bot', object='assistant', tools=[FunctionTool(function=FunctionDefinition(name='summary_tool', description='Will be required for summarization questions related to general descriptions of astrological signs, and general astrological concepts.', parameters={'type': 'object', 'properties': {'input': {'title': 'Input', 'type': 'string'}}, 'required': ['input']}), type='function'), FunctionTool(function=FunctionDefinition(name='vector_tool', description='Subreddit to find a specific accurate context to answer specific questions about Vedic astrology.', parameters={'type': 'object', 'properties': {'input': {'title': 'Input', 'type': 'string'}}, 'required': ['input']}), type='function')], response_format='auto', temperature=1.0, tool_resources=ToolResources(code_interpreter=None, file_search=None), top_p=1.0), Assistant(id='asst_HdDKSRCO5N2KjTeQFgR7wO9z', created_at=1701955487, description=None, instructions='I am new to programming, I am currently writing a project and I need your help as a mentor. I will send you code and ask you questions about it and perform writing some code related to my project. Please note that I am a beginner and I need to explain and help, please do not shorten the code. And try before you write the code, write a text description of what this piece of code will do and then write the code.\\n ', metadata={}, model='gpt-4-turbo-2024-04-09', name='qwerty', object='assistant', tools=[], response_format='auto', temperature=1.0, tool_resources=ToolResources(code_interpreter=None, file_search=None), top_p=1.0)]\n"
     ]
    }
   ],
   "source": [
    "my_assistants = client.beta.assistants.list(\n",
    "    order=\"desc\",\n",
    "    limit=\"20\",\n",
    ")\n",
    "print(my_assistants.data)"
   ]
  },
  {
   "cell_type": "code",
   "execution_count": 30,
   "id": "f292a3ed-d91c-468b-bb06-3e3b7a522e33",
   "metadata": {},
   "outputs": [
    {
     "data": {
      "text/plain": [
       "'asst_0kP8noXV2QqPl1WepqZEWM8E'"
      ]
     },
     "execution_count": 30,
     "metadata": {},
     "output_type": "execute_result"
    }
   ],
   "source": [
    "my_assistants.data[1].id"
   ]
  },
  {
   "cell_type": "code",
   "execution_count": 31,
   "id": "5fb34dde-854d-4fc8-b509-ca56672b60b8",
   "metadata": {},
   "outputs": [
    {
     "name": "stdout",
     "output_type": "stream",
     "text": [
      "AssistantDeleted(id='asst_0kP8noXV2QqPl1WepqZEWM8E', deleted=True, object='assistant.deleted')\n"
     ]
    }
   ],
   "source": [
    "response = client.beta.assistants.delete(my_assistants.data[1].id)\n",
    "print(response)"
   ]
  },
  {
   "cell_type": "code",
   "execution_count": null,
   "id": "56d68e52-04e8-47fe-96dd-11458468417d",
   "metadata": {},
   "outputs": [],
   "source": []
  }
 ],
 "metadata": {
  "kernelspec": {
   "display_name": "Python 3 (ipykernel)",
   "language": "python",
   "name": "python3"
  },
  "language_info": {
   "codemirror_mode": {
    "name": "ipython",
    "version": 3
   },
   "file_extension": ".py",
   "mimetype": "text/x-python",
   "name": "python",
   "nbconvert_exporter": "python",
   "pygments_lexer": "ipython3",
   "version": "3.11.4"
  }
 },
 "nbformat": 4,
 "nbformat_minor": 5
}
