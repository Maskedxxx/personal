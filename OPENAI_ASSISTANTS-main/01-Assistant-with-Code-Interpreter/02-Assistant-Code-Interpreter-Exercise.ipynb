{
 "cells": [
  {
   "cell_type": "markdown",
   "id": "9b61ca09-df53-48a9-ae2b-b80ce5f8eea0",
   "metadata": {},
   "source": [
    "<center><a href=\"https://www.pieriantraining.com/\" ><img src=\"../PTCenteredPurple.png\" alt=\"Pierian Training Logo\" /></a></center>\n"
   ]
  },
  {
   "cell_type": "markdown",
   "id": "7706bce7-09b9-4127-a485-dfa2cacf4ebb",
   "metadata": {
    "tags": []
   },
   "source": [
    "# OpenAI Assistant с Code Interpreter - Упражнение  \n",
    "\n",
    "# ЗАДАНИЕ УПРАЖНЕНИЯ:\n",
    "\n",
    "**В этом упражнении вы создадите помощника, который сможет принимать длинное текстовое описание счета в ресторане и указывать, кто что заказал и сколько стоят предметы, а затем точно разделить счет между участниками.**\n",
    "\n",
    "----\n",
    "\n",
    "**ПРИМЕР ВВОДА:**\n",
    "\n",
    "    Мэри заказала бургер, картофель фри и колу. Я заказал только салат и колу.\n",
    "    Бургер стоит 10 долларов, картофель фри - 5 долларов, салат - 8 долларов, а кола - по 2 доллара.\n",
    "    Мы хотим оставить 18 % чаевых. Пожалуйста, разделите счет между мной и Мэри, сколько каждый из нас должен?\n",
    "\n",
    "\n",
    "**ОЖИДАЕМЫЙ РЕЗУЛЬТАТ:**\n",
    "\n",
    "     Чтобы разделить счет, нам нужно подсчитать общую стоимость еды и напитков, добавить 18 % чаевых, а затем разделить полученную сумму на 2, чтобы получить сумму, которую должен каждый человек.\n",
    "\n",
    "    Исходя из указанных цен, Мэри заказала бургер (10 долларов), картофель фри (5 долларов) и колу (2 доллара). Таким образом, общая стоимость ее заказа составляет $10 + $5 + $2 = $17.\n",
    "\n",
    "    Вы заказали салат ($8) и колу ($2). Таким образом, общая стоимость вашего заказа составляет $8 + $2 = $10.\n",
    "\n",
    "    Общий счет для вас обоих составляет $17 + $10 = $27.\n",
    "\n",
    "    Теперь нам нужно добавить 18 % чаевых к общему счету. Сумма чаевых составляет 18% от $27, то есть (18/100) * $27 = $4,86.\n",
    "\n",
    "    Наконец, мы можем разделить общий счет, включая чаевые, между вами двумя.\n",
    "\n",
    "\n",
    "    Каждый должен по $15,93.\n",
    "\n",
    "**Примечание: Мы продолжим разговор с этим дополнительным сообщением:**\n",
    "\n",
    "    **Не делите счет поровну. Пусть каждый заплатит только за то, что заказал, но не забудьте про чаевые.**\n",
    "\n",
    "\n",
    "**Затем получите на выходе что-то вроде:**\n",
    "\n",
    "     Чтобы разделить счет в зависимости от того, что каждый человек заказал, мы можем подсчитать общую стоимость заказа Мэри, общую стоимость вашего заказа, а затем добавить 18% чаевых к общему счету.\n",
    "\n",
    "    Общая стоимость заказа Мэри составляет 17 долларов, а ваша общая стоимость - 10 долларов. \n",
    "\n",
    "    Общий счет для вас обоих составляет $17 + $10 = $27.\n",
    "\n",
    "    Теперь нам нужно добавить 18 % чаевых к общему счету. Сумма чаевых составляет 18% от $27, то есть (18/100) * $27 = $4,86.\n",
    "\n",
    "    Наконец, мы можем добавить чаевые к общему счету и разделить их между вами, исходя из того, что каждый из вас заказал.\n",
    "\n",
    "\n",
    "    Учитывая, что Мэри заказала бургер, картофель фри и колу на общую сумму 17 долларов, а вы заказали салат и колу на общую сумму 10 долларов, счет будет разделен следующим образом:\n",
    "\n",
    "    Мэри должна $20,06, а вы - $11,80.\n",
    "    \n",
    "    \n",
    "**Выполните приведенные ниже задания, чтобы завершить упражнение!**\n",
    "\n",
    "---"
   ]
  },
  {
   "cell_type": "markdown",
   "id": "65634a4d-be3d-4ffd-9709-cc602cfa38e4",
   "metadata": {},
   "source": [
    "**Задание: Создайте клиентское соединение с OpenAI**."
   ]
  },
  {
   "cell_type": "code",
   "execution_count": 1,
   "id": "2092d969-cbf5-4f0f-b5fc-60aeef6cb63a",
   "metadata": {},
   "outputs": [],
   "source": [
    "from openai import OpenAI \n",
    "from pprint import pprint\n",
    "client = OpenAI()"
   ]
  },
  {
   "cell_type": "markdown",
   "id": "0daa2dba",
   "metadata": {},
   "source": [
    "**Задание: Создайте помощника. Убедитесь, что ваши инструкции понятны!**"
   ]
  },
  {
   "cell_type": "code",
   "execution_count": 2,
   "id": "efd1e394",
   "metadata": {},
   "outputs": [],
   "source": [
    "assistant = client.beta.assistants.create(\n",
    "    name=\"Bot accountant/calculator\",\n",
    "    instructions=\"You will be given various data with which you will have to perform all sorts of mathematical operations. Use Python functions to solve them.\",\n",
    "    tools=[{\"type\": \"code_interpreter\"}],\n",
    "    model=\"gpt-3.5-turbo-0125\"\n",
    ")"
   ]
  },
  {
   "cell_type": "markdown",
   "id": "926b5c0b-1e0c-42ac-9d0e-9f53017f4894",
   "metadata": {},
   "source": [
    "**Задание: Запустите новый поток**."
   ]
  },
  {
   "cell_type": "code",
   "execution_count": 3,
   "id": "3df385f4-9c08-4eb4-afbf-fb44cdd40ad5",
   "metadata": {},
   "outputs": [],
   "source": [
    "thread = client.beta.threads.create()"
   ]
  },
  {
   "cell_type": "markdown",
   "id": "379b6d4a-dc94-4fb3-95b1-4b75b74f6ee5",
   "metadata": {},
   "source": [
    "**Задание: Добавьте в поток новое сообщение пользователя. В качестве содержимого используйте строку ниже:**"
   ]
  },
  {
   "cell_type": "code",
   "execution_count": 4,
   "id": "bcdadf02-9ea5-436e-90f5-ef9ab8804ac1",
   "metadata": {},
   "outputs": [],
   "source": [
    "message = client.beta.threads.messages.create(\n",
    "    thread_id=thread.id,\n",
    "    role=\"user\",\n",
    "    content=\"Макс заказал стейк за 1200 руб, салат 700, закуски на 1000, виски на 1000 и кофе 350 руб. Маша заказала салат 700 руб, том-ям 1000 руб, креветки 1000, вино 2 бокала по 500, кофе 350 и десерт 500.\"\n",
    "    \"Так же они договорились оставить чайвые с общего счета 15%. Ваша задача рассчитать сначала общий счет что бы установить величену чайвых.\"\n",
    "    \"Далее сумму чайвых разделить на 2, это будут чайвые с каждого человека (Маша и Максим). Далее вам нужно будет посчитать индивидуальный счет каждого человека, то есть сколько должен каждый с учетом заказанных блюд + часть чайвых на каждого\",\n",
    "    metadata={\"task\": \"Расчет\",\"users\": \"Maks, Masha\"} \n",
    ")"
   ]
  },
  {
   "cell_type": "markdown",
   "id": "b232f7c7-2811-41c9-8dd2-c0b076b30809",
   "metadata": {},
   "source": [
    "**ЗАДАНИЕ: Запустите поток, используя созданный ранее помощник**."
   ]
  },
  {
   "cell_type": "code",
   "execution_count": 5,
   "id": "a0a3a6c4-bd79-48c7-824e-1790e16c9117",
   "metadata": {},
   "outputs": [],
   "source": [
    "run = client.beta.threads.runs.create(\n",
    "  thread_id=thread.id,\n",
    "  assistant_id=assistant.id,\n",
    "  temperature=0.1,\n",
    "  instructions=\"\",\n",
    "  metadata={\"task\": \"Индивидуальный расчет + чайвые\",\"users\": \"Maks, Masha\"} \n",
    ")"
   ]
  },
  {
   "cell_type": "code",
   "execution_count": 6,
   "id": "a3b48332",
   "metadata": {},
   "outputs": [
    {
     "name": "stdout",
     "output_type": "stream",
     "text": [
      "in_progress\n",
      "in_progress\n",
      "in_progress\n",
      "completed\n"
     ]
    }
   ],
   "source": [
    "import time\n",
    "\n",
    "while run.status != \"completed\":\n",
    "    run = client.beta.threads.runs.retrieve(\n",
    "          thread_id=thread.id,\n",
    "          run_id=run.id\n",
    "        )\n",
    "    \n",
    "    print(run.status)\n",
    "    \n",
    "    time.sleep(5)"
   ]
  },
  {
   "cell_type": "markdown",
   "id": "a0d9ddfc-201f-42bd-b800-d067cf4feb17",
   "metadata": {},
   "source": [
    "**ЗАДАНИЕ: Отобразите разговор между пользователем и помощником.**"
   ]
  },
  {
   "cell_type": "code",
   "execution_count": 7,
   "id": "63b549cd",
   "metadata": {},
   "outputs": [],
   "source": [
    "messages = client.beta.threads.messages.list(\n",
    "  thread_id=thread.id\n",
    ")"
   ]
  },
  {
   "cell_type": "code",
   "execution_count": 8,
   "id": "f3d637d0",
   "metadata": {},
   "outputs": [
    {
     "data": {
      "text/plain": [
       "SyncCursorPage[Message](data=[Message(id='msg_QxnGdzLnKdnMxk1LzEwZ1EgN', assistant_id='asst_DxMakEJd6Ow4rXpnbHMkasmS', attachments=[], completed_at=None, content=[TextContentBlock(text=Text(annotations=[], value='Индивидуальный счет Маши составляет 5210 рублей.\\n\\nИтак, мы рассчитали общий счет, чаевые, индивидуальные счета Макса и Маши. Если у вас есть еще какие-либо вопросы или задачи, пожалуйста, дайте знать.'), type='text')], created_at=1714635461, incomplete_at=None, incomplete_details=None, metadata={}, object='thread.message', role='assistant', run_id='run_bJoXa9qeOCuuijcU7rsqJQ0K', status=None, thread_id='thread_LhJ6DlQDVR763Lfxw8yIHIWx'), Message(id='msg_oTC7aJEllOe4oJ4hLBxHPz0Y', assistant_id='asst_DxMakEJd6Ow4rXpnbHMkasmS', attachments=[], completed_at=None, content=[TextContentBlock(text=Text(annotations=[], value='Индивидуальный счет Макса составляет 4910 рублей.\\n\\nТеперь посчитаем индивидуальный счет Маши.'), type='text')], created_at=1714635457, incomplete_at=None, incomplete_details=None, metadata={}, object='thread.message', role='assistant', run_id='run_bJoXa9qeOCuuijcU7rsqJQ0K', status=None, thread_id='thread_LhJ6DlQDVR763Lfxw8yIHIWx'), Message(id='msg_BfkGlzmb2WhtAF6PjYhu4Sel', assistant_id='asst_DxMakEJd6Ow4rXpnbHMkasmS', attachments=[], completed_at=None, content=[TextContentBlock(text=Text(annotations=[], value='Чаевые с каждого человека составляют 660 рублей.\\n\\nТеперь давайте посчитаем индивидуальный счет каждого человека, учитывая заказанные блюда и их долю чаевых. Начнем с Макса.'), type='text')], created_at=1714635455, incomplete_at=None, incomplete_details=None, metadata={}, object='thread.message', role='assistant', run_id='run_bJoXa9qeOCuuijcU7rsqJQ0K', status=None, thread_id='thread_LhJ6DlQDVR763Lfxw8yIHIWx'), Message(id='msg_2jsWbSOG5IxVVV5PMrZ8FWNA', assistant_id='asst_DxMakEJd6Ow4rXpnbHMkasmS', attachments=[], completed_at=None, content=[TextContentBlock(text=Text(annotations=[], value='Сумма чаевых составляет 1320 рублей.\\n\\nТеперь разделим эту сумму на два, чтобы получить чаевые с каждого человека.'), type='text')], created_at=1714635451, incomplete_at=None, incomplete_details=None, metadata={}, object='thread.message', role='assistant', run_id='run_bJoXa9qeOCuuijcU7rsqJQ0K', status=None, thread_id='thread_LhJ6DlQDVR763Lfxw8yIHIWx'), Message(id='msg_1R9rNqPTRUpLcp3pnHgwKcIv', assistant_id='asst_DxMakEJd6Ow4rXpnbHMkasmS', attachments=[], completed_at=None, content=[TextContentBlock(text=Text(annotations=[], value='Общая сумма заказов составляет 8800 рублей.\\n\\nТеперь давайте вычислим сумму чаевых, которую они решили оставить.'), type='text')], created_at=1714635448, incomplete_at=None, incomplete_details=None, metadata={}, object='thread.message', role='assistant', run_id='run_bJoXa9qeOCuuijcU7rsqJQ0K', status=None, thread_id='thread_LhJ6DlQDVR763Lfxw8yIHIWx'), Message(id='msg_k7TWNMmfiegvuRbyh9sfc4la', assistant_id='asst_DxMakEJd6Ow4rXpnbHMkasmS', attachments=[], completed_at=None, content=[TextContentBlock(text=Text(annotations=[], value='Давайте начнем с расчета общего счета. Для этого сложим все суммы заказов Макса и Маши, а затем вычислим 15% от этой суммы, которые будут чаевыми. После этого мы разделим сумму чаевых на 2, чтобы получить чаевые с каждого человека. Наконец, мы вычислим индивидуальный счет каждого человека, учитывая заказанные блюда и их долю чаевых.\\n\\nДавайте начнем с расчета общего счета.'), type='text')], created_at=1714635441, incomplete_at=None, incomplete_details=None, metadata={}, object='thread.message', role='assistant', run_id='run_bJoXa9qeOCuuijcU7rsqJQ0K', status=None, thread_id='thread_LhJ6DlQDVR763Lfxw8yIHIWx'), Message(id='msg_kw21PpT7UQ3THIRZhQx6LA9W', assistant_id=None, attachments=[], completed_at=None, content=[TextContentBlock(text=Text(annotations=[], value='Макс заказал стейк за 1200 руб, салат 700, закуски на 1000, виски на 1000 и кофе 350 руб. Маша заказала салат 700 руб, том-ям 1000 руб, креветки 1000, вино 2 бокала по 500, кофе 350 и десерт 500.Так же они договорились оставить чайвые с общего счета 15%. Ваша задача рассчитать сначала общий счет что бы установить величену чайвых.Далее сумму чайвых разделить на 2, это будут чайвые с каждого человека (Маша и Максим). Далее вам нужно будет посчитать индивидуальный счет каждого человека, то есть сколько должен каждый с учетом заказанных блюд + часть чайвых на каждого'), type='text')], created_at=1714635432, incomplete_at=None, incomplete_details=None, metadata={'task': 'Расчет', 'users': 'Maks, Masha'}, object='thread.message', role='user', run_id=None, status=None, thread_id='thread_LhJ6DlQDVR763Lfxw8yIHIWx')], object='list', first_id='msg_QxnGdzLnKdnMxk1LzEwZ1EgN', last_id='msg_kw21PpT7UQ3THIRZhQx6LA9W', has_more=False)"
      ]
     },
     "execution_count": 8,
     "metadata": {},
     "output_type": "execute_result"
    }
   ],
   "source": [
    "messages"
   ]
  },
  {
   "cell_type": "code",
   "execution_count": 9,
   "id": "6e7f7ffa",
   "metadata": {},
   "outputs": [
    {
     "name": "stdout",
     "output_type": "stream",
     "text": [
      "Макс заказал стейк за 1200 руб, салат 700, закуски на 1000, виски на 1000 и кофе 350 руб. Маша заказала салат 700 руб, том-ям 1000 руб, креветки 1000, вино 2 бокала по 500, кофе 350 и десерт 500.Так же они договорились оставить чайвые с общего счета 15%. Ваша задача рассчитать сначала общий счет что бы установить величену чайвых.Далее сумму чайвых разделить на 2, это будут чайвые с каждого человека (Маша и Максим). Далее вам нужно будет посчитать индивидуальный счет каждого человека, то есть сколько должен каждый с учетом заказанных блюд + часть чайвых на каждого\n",
      "\n",
      "\n",
      "Давайте начнем с расчета общего счета. Для этого сложим все суммы заказов Макса и Маши, а затем вычислим 15% от этой суммы, которые будут чаевыми. После этого мы разделим сумму чаевых на 2, чтобы получить чаевые с каждого человека. Наконец, мы вычислим индивидуальный счет каждого человека, учитывая заказанные блюда и их долю чаевых.\n",
      "\n",
      "Давайте начнем с расчета общего счета.\n",
      "\n",
      "\n",
      "Общая сумма заказов составляет 8800 рублей.\n",
      "\n",
      "Теперь давайте вычислим сумму чаевых, которую они решили оставить.\n",
      "\n",
      "\n",
      "Сумма чаевых составляет 1320 рублей.\n",
      "\n",
      "Теперь разделим эту сумму на два, чтобы получить чаевые с каждого человека.\n",
      "\n",
      "\n",
      "Чаевые с каждого человека составляют 660 рублей.\n",
      "\n",
      "Теперь давайте посчитаем индивидуальный счет каждого человека, учитывая заказанные блюда и их долю чаевых. Начнем с Макса.\n",
      "\n",
      "\n",
      "Индивидуальный счет Макса составляет 4910 рублей.\n",
      "\n",
      "Теперь посчитаем индивидуальный счет Маши.\n",
      "\n",
      "\n",
      "Индивидуальный счет Маши составляет 5210 рублей.\n",
      "\n",
      "Итак, мы рассчитали общий счет, чаевые, индивидуальные счета Макса и Маши. Если у вас есть еще какие-либо вопросы или задачи, пожалуйста, дайте знать.\n",
      "\n",
      "\n"
     ]
    }
   ],
   "source": [
    "for thread_message in messages.data[::-1]:\n",
    "    print(thread_message.content[0].text.value)\n",
    "    print('\\n')"
   ]
  },
  {
   "cell_type": "code",
   "execution_count": 10,
   "id": "738fbce4-10f0-485e-9112-32ce2b345f53",
   "metadata": {},
   "outputs": [],
   "source": [
    "def display_thread_messages(messages):\n",
    "    # ОЖИДАЕТ СООБЩЕНИЙ В ПОРЯДКЕ ВОЗРАСТАНИЯ!\n",
    "    for thread_message in messages.data:\n",
    "        print(thread_message.content[0].text.value)\n",
    "        print('\\n')"
   ]
  },
  {
   "cell_type": "code",
   "execution_count": 11,
   "id": "f84116ee-a546-4fa8-823c-2ff4cc681713",
   "metadata": {},
   "outputs": [],
   "source": [
    "def wait_on_run(run, thread):\n",
    "    '''\n",
    "    Простая функция, которая ожидает выполнения определенного потока.\n",
    "    Возвращает выполнение после того, как поток был запущен.\n",
    "    '''\n",
    "    while run.status == \"queued\" or run.status == \"in_progress\":\n",
    "        run = client.beta.threads.runs.retrieve(\n",
    "            thread_id=thread.id,\n",
    "            run_id=run.id,\n",
    "        )\n",
    "        time.sleep(0.5)\n",
    "    return run"
   ]
  },
  {
   "cell_type": "markdown",
   "id": "3872422c-be19-448c-ac05-fb4cbbbe7d22",
   "metadata": {},
   "source": [
    "**Задание: Если бот-помощник разделил счет поровну, добавьте новое сообщение с просьбой разделить счет в зависимости от того, что люди заказали. (Например, Мэри должна заплатить больше, так как она заказала больше). Затем снова запустите поток и отобразите все сообщения заново**."
   ]
  },
  {
   "cell_type": "code",
   "execution_count": 12,
   "id": "d1a8ce8a-74c5-4c9f-8a79-2577571166f9",
   "metadata": {},
   "outputs": [],
   "source": [
    "message = client.beta.threads.messages.create(\n",
    "    thread_id=thread.id, role=\"user\", content=\"Смотрите, теперь вот какие изменения. Чайвые оказывается не надо платить так как они включены в стоимость блюд. А так же в честь дня рождения сделали скидку на счет Маши 15%. Сделайте перерасчет\"\n",
    ")"
   ]
  },
  {
   "cell_type": "code",
   "execution_count": 13,
   "id": "39e23d03",
   "metadata": {},
   "outputs": [
    {
     "name": "stdout",
     "output_type": "stream",
     "text": [
      "Хорошо, давайте пересчитаем сумму заказов, учитывая, что чаевые не нужно платить, так как они уже включены в стоимость блюд, и что Маша получает скидку 15% на свой счет. Начнем с перерасчета общего счета.\n",
      "\n",
      "\n",
      "После пересчета:\n",
      "\n",
      "- Общая сумма заказов без чаевых составляет 7480 рублей.\n",
      "- Скидка Маши составляет 682.5 рублей.\n",
      "- Новая сумма заказа Маши после скидки равна 3867.5 рубля.\n",
      "- Итоговый счет Маши (без чаевых и со скидкой) равен 3867.5 рубля.\n",
      "- Общая сумма заказов с учетом изменений составляет 8117.5 рублей.\n",
      "\n",
      "Теперь, если вам нужно рассчитать индивидуальный счет Маши и Макса, пожалуйста, дайте мне знать.\n",
      "\n",
      "\n"
     ]
    }
   ],
   "source": [
    "# Выполнить наш запуск\n",
    "run = client.beta.threads.runs.create(\n",
    "    thread_id=thread.id,\n",
    "    assistant_id=assistant.id,\n",
    ")\n",
    "\n",
    "# Дождитесь завершения\n",
    "wait_on_run(run, thread)\n",
    "\n",
    "# Получите все сообщения, добавленные после последнего сообщения пользователя\n",
    "# МЫ МОЖЕМ ЗАПРОСИТЬ В ПОРЯДКЕ 'ASC'\n",
    "# МЫ ТАКЖЕ МОЖЕМ ЗАПРОСИТЬ ТОЛЬКО СООБЩЕНИЯ ПОСЛЕ ОПРЕДЕЛЕННОГО ИДЕНТИФИКАТОРА!\n",
    "messages = client.beta.threads.messages.list(\n",
    "    thread_id=thread.id, order=\"asc\", after=message.id\n",
    ")\n",
    "\n",
    "display_thread_messages(messages)"
   ]
  },
  {
   "cell_type": "code",
   "execution_count": 14,
   "id": "7a998c77",
   "metadata": {},
   "outputs": [],
   "source": [
    "message = client.beta.threads.messages.create(\n",
    "    thread_id=thread.id, role=\"user\", content=\"Да, теперь когда вам известны все условия, выполните раздельный счет для Маши и для Макса с учетом всех изменений. Предоставьте все итоговые расчеты\"\n",
    ")"
   ]
  },
  {
   "cell_type": "code",
   "execution_count": 15,
   "id": "8f3ed737",
   "metadata": {},
   "outputs": [
    {
     "name": "stdout",
     "output_type": "stream",
     "text": [
      "Для Маши мы уже рассчитали индивидуальный счет с учетом скидки. Теперь давайте пересчитаем индивидуальный счет для Макса. После этого мы предоставим итоговые расчеты для обоих.\n",
      "\n",
      "Давайте начнем с индивидуального счета для Макса.\n",
      "\n",
      "\n",
      "Итак, после всех изменений:\n",
      "\n",
      "- Индивидуальный счет Маши составляет 3867.5 рубля.\n",
      "- Индивидуальный счет Макса составляет 4250 рублей.\n",
      "\n",
      "Если у вас есть еще вопросы или нужно что-то еще рассчитать, пожалуйста, дайте мне знать.\n",
      "\n",
      "\n"
     ]
    }
   ],
   "source": [
    "# Выполнить наш запуск\n",
    "run = client.beta.threads.runs.create(\n",
    "    thread_id=thread.id,\n",
    "    assistant_id=assistant.id,\n",
    ")\n",
    "\n",
    "# Дождитесь завершения\n",
    "wait_on_run(run, thread)\n",
    "\n",
    "# Получите все сообщения, добавленные после последнего сообщения пользователя\n",
    "# МЫ МОЖЕМ ЗАПРОСИТЬ В ПОРЯДКЕ 'ASC'\n",
    "# МЫ ТАКЖЕ МОЖЕМ ЗАПРОСИТЬ ТОЛЬКО СООБЩЕНИЯ ПОСЛЕ ОПРЕДЕЛЕННОГО ИДЕНТИФИКАТОРА!\n",
    "messages = client.beta.threads.messages.list(\n",
    "    thread_id=thread.id, order=\"asc\", after=message.id\n",
    ")\n",
    "\n",
    "display_thread_messages(messages)"
   ]
  },
  {
   "cell_type": "code",
   "execution_count": 16,
   "id": "196b9915",
   "metadata": {},
   "outputs": [
    {
     "data": {
      "text/plain": [
       "SyncCursorPage[Run](data=[Run(id='run_W6tO8SQYfzDPag7HZIXHv7yq', assistant_id='asst_DxMakEJd6Ow4rXpnbHMkasmS', cancelled_at=None, completed_at=1714635766, created_at=1714635754, expires_at=None, failed_at=None, incomplete_details=None, instructions='You will be given various data with which you will have to perform all sorts of mathematical operations. Use Python functions to solve them.', last_error=None, max_completion_tokens=None, max_prompt_tokens=None, metadata={}, model='gpt-3.5-turbo-0125', object='thread.run', required_action=None, response_format='auto', started_at=1714635754, status='completed', thread_id='thread_LhJ6DlQDVR763Lfxw8yIHIWx', tool_choice='auto', tools=[CodeInterpreterTool(type='code_interpreter')], truncation_strategy=TruncationStrategy(type='auto', last_messages=None), usage=Usage(completion_tokens=262, prompt_tokens=6061, total_tokens=6323), temperature=1.0, top_p=1.0, tool_resources={}), Run(id='run_a780P3DKiOUhckt6wzuQ5A1s', assistant_id='asst_DxMakEJd6Ow4rXpnbHMkasmS', cancelled_at=None, completed_at=1714635629, created_at=1714635617, expires_at=None, failed_at=None, incomplete_details=None, instructions='You will be given various data with which you will have to perform all sorts of mathematical operations. Use Python functions to solve them.', last_error=None, max_completion_tokens=None, max_prompt_tokens=None, metadata={}, model='gpt-3.5-turbo-0125', object='thread.run', required_action=None, response_format='auto', started_at=1714635618, status='completed', thread_id='thread_LhJ6DlQDVR763Lfxw8yIHIWx', tool_choice='auto', tools=[CodeInterpreterTool(type='code_interpreter')], truncation_strategy=TruncationStrategy(type='auto', last_messages=None), usage=Usage(completion_tokens=481, prompt_tokens=4435, total_tokens=4916), temperature=1.0, top_p=1.0, tool_resources={}), Run(id='run_bJoXa9qeOCuuijcU7rsqJQ0K', assistant_id='asst_DxMakEJd6Ow4rXpnbHMkasmS', cancelled_at=None, completed_at=1714635462, created_at=1714635441, expires_at=None, failed_at=None, incomplete_details=None, instructions='You will be given various data with which you will have to perform all sorts of mathematical operations. Use Python functions to solve them.', last_error=None, max_completion_tokens=None, max_prompt_tokens=None, metadata={'task': 'Индивидуальный расчет + чайвые', 'users': 'Maks, Masha'}, model='gpt-3.5-turbo-0125', object='thread.run', required_action=None, response_format='auto', started_at=1714635441, status='completed', thread_id='thread_LhJ6DlQDVR763Lfxw8yIHIWx', tool_choice='auto', tools=[CodeInterpreterTool(type='code_interpreter')], truncation_strategy=TruncationStrategy(type='auto', last_messages=None), usage=Usage(completion_tokens=790, prompt_tokens=9121, total_tokens=9911), temperature=0.1, top_p=1.0, tool_resources={})], object='list', first_id='run_W6tO8SQYfzDPag7HZIXHv7yq', last_id='run_bJoXa9qeOCuuijcU7rsqJQ0K', has_more=False)"
      ]
     },
     "execution_count": 16,
     "metadata": {},
     "output_type": "execute_result"
    }
   ],
   "source": [
    "client.beta.threads.runs.list(thread.id)"
   ]
  },
  {
   "cell_type": "code",
   "execution_count": 17,
   "id": "5e06d5b8",
   "metadata": {},
   "outputs": [],
   "source": [
    "run_steps = client.beta.threads.runs.steps.list(\n",
    "    thread_id=thread.id,\n",
    "    run_id=run.id\n",
    ")"
   ]
  },
  {
   "cell_type": "code",
   "execution_count": 18,
   "id": "9c754647",
   "metadata": {},
   "outputs": [
    {
     "name": "stdout",
     "output_type": "stream",
     "text": [
      "MessageCreationStepDetails(message_creation=MessageCreation(message_id='msg_Qfs0w2Xpr01kPNwtmLtY5QdM'), type='message_creation')\n",
      "\n",
      "\n",
      "ToolCallsStepDetails(tool_calls=[CodeInterpreterToolCall(id='call_WWzasCLtYCMlZAGvcBysu1tN', code_interpreter=CodeInterpreter(input='# Индивидуальный счет Макса (без чаевых и со скидкой)\\nmax_total_new = max_order\\n\\nmasha_total_new, max_total_new', outputs=[CodeInterpreterOutputLogs(logs='(3867.5, 4250)', type='logs')]), type='code_interpreter')], type='tool_calls')\n",
      "\n",
      "\n",
      "MessageCreationStepDetails(message_creation=MessageCreation(message_id='msg_lP5t72nhlNJd0JZDFXjsjHBd'), type='message_creation')\n",
      "\n",
      "\n"
     ]
    }
   ],
   "source": [
    "for step in run_steps:\n",
    "    print(step.step_details)\n",
    "    print('\\n')"
   ]
  },
  {
   "cell_type": "markdown",
   "id": "15e43433-cb43-48da-9118-8e5b55ce9528",
   "metadata": {},
   "source": [
    "**TASK: Delete your assistant.**"
   ]
  },
  {
   "cell_type": "code",
   "execution_count": 36,
   "id": "db65d8df",
   "metadata": {},
   "outputs": [
    {
     "name": "stdout",
     "output_type": "stream",
     "text": [
      "ID: asst_HdDKSRCO5N2KjTeQFgR7wO9z - Инструкции: I am new to programming, I am currently writing a \n"
     ]
    }
   ],
   "source": [
    "my_assistants = client.beta.assistants.list(\n",
    "    order=\"desc\",\n",
    "    limit=\"20\",\n",
    ")\n",
    "#print(my_assistants.data)\n",
    "for assistant in my_assistants.data:\n",
    "    short_instructions = assistant.instructions[:50]  # Ограничение 30 символов\n",
    "    print(f\"ID: {assistant.id} - Инструкции: {short_instructions}\")"
   ]
  },
  {
   "cell_type": "code",
   "execution_count": 25,
   "id": "5d75f9b2-786c-404b-aa0b-e32ef34ef439",
   "metadata": {},
   "outputs": [
    {
     "data": {
      "text/plain": [
       "'asst_DxMakEJd6Ow4rXpnbHMkasmS'"
      ]
     },
     "execution_count": 25,
     "metadata": {},
     "output_type": "execute_result"
    }
   ],
   "source": [
    "my_assistants.data[0].id"
   ]
  },
  {
   "cell_type": "code",
   "execution_count": 34,
   "id": "eda934fd-6547-4163-848b-146a069862bd",
   "metadata": {},
   "outputs": [
    {
     "name": "stdout",
     "output_type": "stream",
     "text": [
      "AssistantDeleted(id='asst_8QgWXbvUY6GdxEWfxWkR9T8Z', deleted=True, object='assistant.deleted')\n"
     ]
    }
   ],
   "source": [
    "response = client.beta.assistants.delete(my_assistants.data[7].id)\n",
    "print(response)"
   ]
  },
  {
   "cell_type": "markdown",
   "id": "ad682988-5fcf-48dc-9e9c-6bd08622cac9",
   "metadata": {},
   "source": [
    "---"
   ]
  }
 ],
 "metadata": {
  "kernelspec": {
   "display_name": "Python 3 (ipykernel)",
   "language": "python",
   "name": "python3"
  },
  "language_info": {
   "codemirror_mode": {
    "name": "ipython",
    "version": 3
   },
   "file_extension": ".py",
   "mimetype": "text/x-python",
   "name": "python",
   "nbconvert_exporter": "python",
   "pygments_lexer": "ipython3",
   "version": "3.11.4"
  }
 },
 "nbformat": 4,
 "nbformat_minor": 5
}
