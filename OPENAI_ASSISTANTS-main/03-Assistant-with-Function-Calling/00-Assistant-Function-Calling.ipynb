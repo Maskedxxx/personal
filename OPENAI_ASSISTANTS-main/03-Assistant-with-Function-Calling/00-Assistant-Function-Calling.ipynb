{
 "cells": [
  {
   "cell_type": "markdown",
   "id": "9b61ca09-df53-48a9-ae2b-b80ce5f8eea0",
   "metadata": {},
   "source": [
    "<center><a href=\"https://www.pieriantraining.com/\" ><img src=\"../PTCenteredPurple.png\" alt=\"Pierian Training Logo\" /></a></center>\n"
   ]
  },
  {
   "cell_type": "markdown",
   "id": "99254f40-5a61-40fd-ac06-9a897f8776c8",
   "metadata": {},
   "source": [
    "# Вызов функций с помощью помощников\n",
    "\n",
    "Бывает, что пользовательская функциональность не может быть выполнена LLM Assistant, но LLM Assistant достаточно \"умный\", чтобы знать, как заполнить функцию Python для этой задачи. В этом случае мы можем предоставить пользовательскую функцию, которая будет выполняться на нашей стороне и работать совместно с помощником. Это мощный инструмент, потому что теперь у вас есть мощь OpenAI LLM, но с полной гибкостью любого кода Python, который вы можете запустить на своей стороне. Давайте разберем пример:"
   ]
  },
  {
   "cell_type": "markdown",
   "id": "920b6090-72b8-472b-9489-b2406b2c20e7",
   "metadata": {},
   "source": [
    "## Шаг 1: Определите свою пользовательскую функцию"
   ]
  },
  {
   "cell_type": "code",
   "execution_count": 1,
   "id": "3ec025d6-7e52-453c-aec2-4f1b8cd762d3",
   "metadata": {},
   "outputs": [],
   "source": [
    "def word_definition_quiz(word,definition_options):\n",
    "    '''\n",
    "    INPUTS: \n",
    "        word str = Одиночная строка, представляющая слово\n",
    "        definition_options list[str] = Список из 4 потенциальных определений, из которых только одно является правильным!\n",
    "    OUTPUTS:\n",
    "        ответ str = Выбранное пользователем определение\n",
    "    '''\n",
    "    print(\"Привет! Давайте проверим ваши знания о словах.\")\n",
    "    print(f\"Какое правильное определение этого слова {word}\\n\")\n",
    "    \n",
    "    for num,option in enumerate(definition_options):\n",
    "        print('\\n')\n",
    "        print(f\"Определение #{num} это: {option}\")\n",
    "    \n",
    "    print('\\n')\n",
    "    num_choice = input(\"Каков ваш выбор? (Верните вариант с одним числом.)\")\n",
    "    \n",
    "    return definition_options[int(num_choice)]"
   ]
  },
  {
   "cell_type": "markdown",
   "id": "cf2e5631-b0cc-4245-b874-1f66020f66ac",
   "metadata": {},
   "source": [
    "**Test the function.**"
   ]
  },
  {
   "cell_type": "code",
   "execution_count": 2,
   "id": "6339a308-2d9e-44e0-87d2-9919e2e0bcf8",
   "metadata": {},
   "outputs": [
    {
     "name": "stdout",
     "output_type": "stream",
     "text": [
      "Привет! Давайте проверим ваши знания о словах.\n",
      "Какое правильное определение этого слова серендипность\n",
      "\n",
      "\n",
      "\n",
      "Определение #0 это: Случайное появление событий счастливым или благоприятным образом.\n",
      "\n",
      "\n",
      "Определение #1 это: Чувство сильного страха, шока или отвращения\n",
      "\n",
      "\n",
      "Определение #2 это: Метод живописи с использованием непрозрачных пигментов, размолотых в воде и загущенных клеящим веществом\n",
      "\n",
      "\n",
      "Определение #3 это: Действие, связанное с задержкой или откладыванием чего-либо.\n",
      "\n",
      "\n"
     ]
    }
   ],
   "source": [
    "word = \"серендипность\"\n",
    "definition_options = [\n",
    "    \"Случайное появление событий счастливым или благоприятным образом.\",\n",
    "    \"Чувство сильного страха, шока или отвращения\",\n",
    "    \"Метод живописи с использованием непрозрачных пигментов, размолотых в воде и загущенных клеящим веществом\",\n",
    "    \"Действие, связанное с задержкой или откладыванием чего-либо.\"\n",
    "]\n",
    "\n",
    "# Вызовите функцию с этими аргументами\n",
    "response = word_definition_quiz(word, definition_options)\n"
   ]
  },
  {
   "cell_type": "code",
   "execution_count": 3,
   "id": "93572753-cb4a-4dde-8a74-e3a1ff8aeb84",
   "metadata": {},
   "outputs": [
    {
     "data": {
      "text/plain": [
       "'Чувство сильного страха, шока или отвращения'"
      ]
     },
     "execution_count": 3,
     "metadata": {},
     "output_type": "execute_result"
    }
   ],
   "source": [
    "response"
   ]
  },
  {
   "cell_type": "markdown",
   "id": "cde6224a-8d72-4ea3-a89e-a261406b29fd",
   "metadata": {},
   "source": [
    "## Шаг 2: Определите пользовательскую функцию в формате JSON.\n",
    "\n",
    "Вот пример формата, в котором должна быть определена функция Python, наиболее актуальную информацию можно найти в документации OpenAI: https://platform.openai.com/docs/assistants/tools/function-calling.\n",
    "\n",
    "\n",
    "**ОБЩИЙ ФОРМАТ ОПРЕДЕЛЕНИЯ ИНСТРУМЕНТОВ В ФОРМАТЕ JSON:**"
   ]
  },
  {
   "cell_type": "markdown",
   "id": "02b83031-1db6-4500-b8c2-dc97dd24d2af",
   "metadata": {},
   "source": [
    "    tool = {'type':'function',\n",
    "                'function':{\n",
    "                    'name': 'my_function_name',\n",
    "                    'parameters':{\n",
    "                        \"type\":\"object\",\n",
    "                          \"properties\":{\n",
    "                              \"parameter_one\": {'type':'string','description':\"A text description for the LLM of what this parameter should be. Note the JSON type.\"},\n",
    "                              \"parameter_two\":{'type':'integer','description':\"A text description for the LLM of this parameter, note the JSON type.\"}\n",
    "                          },\n",
    "                        'required' : ['parameter_one','parameter_two']\n",
    "                    }\n",
    "\n",
    "        }\n",
    "    } "
   ]
  },
  {
   "cell_type": "code",
   "execution_count": 6,
   "id": "7fcbcc7a-4c03-492c-9641-e88ae510ed04",
   "metadata": {},
   "outputs": [],
   "source": [
    "tool = {'type':'function',\n",
    "            'function':{\n",
    "                'name': 'my_function_name',\n",
    "                'parameters':{\n",
    "                    \"type\":\"object\",\n",
    "                      \"properties\":{\n",
    "                          \"parameter_one\": {'type':'string','description':\"A text description for the LLM of what this parameter should be. Note the JSON type.\"},\n",
    "                          \"parameter_two\":{'type':'integer','description':\"A text description for the LLM of this parameter, note the JSON type.\"}\n",
    "                      },\n",
    "                    'required' : ['parameter_one','parameter_two']\n",
    "                }\n",
    "\n",
    "    }\n",
    "} "
   ]
  },
  {
   "cell_type": "code",
   "execution_count": 4,
   "id": "ec34461e-2cad-4838-927e-64e0b3ec2518",
   "metadata": {},
   "outputs": [],
   "source": [
    "# https://community.openai.com/t/function-calling-passing-a-list-of-values/369032\n",
    "function_json = {'type':'function',\n",
    "            'function':{\n",
    "                'name': 'word_definition_quiz',\n",
    "                'parameters':{\n",
    "                    \"type\":\"object\",\n",
    "                    \"properties\":{\n",
    "                          \"word\": {'type':'string','description':\"Одно слово\"},\n",
    "                          \"definitions_list\":{'type':'array',\n",
    "                                        'items':{'type':'string'},\n",
    "                                        'description':\"Python list строк определений, в котором только одно правильное определение относится к параметру 'word'. Только string определения.\"}\n",
    "                      },\n",
    "                    'required' : [\"word\",\"definitions_list\"]\n",
    "                }\n",
    "\n",
    "    }\n",
    "} "
   ]
  },
  {
   "cell_type": "markdown",
   "id": "db57b771-28d6-4ab5-bc15-de6bba4a2eeb",
   "metadata": {},
   "source": [
    "## Шаг 3: Создайте помощника с помощью инструмента вызова функций"
   ]
  },
  {
   "cell_type": "code",
   "execution_count": 5,
   "id": "1a6eaf6c-fbe4-4596-bac3-b249f46e8667",
   "metadata": {},
   "outputs": [],
   "source": [
    "from openai import OpenAI\n",
    "client = OpenAI()"
   ]
  },
  {
   "cell_type": "code",
   "execution_count": 7,
   "id": "1cbdfe24-513d-420e-8606-6c5ef2c006ba",
   "metadata": {},
   "outputs": [],
   "source": [
    "assistant = client.beta.assistants.update(\n",
    "  assistant_id=\"asst_AeWhKBH9uqoaHjJkVasyNITT\",\n",
    "  name=\"Бот для теста функций \",\n",
    "  temperature=0,\n",
    "  instructions=\"Вы помогаете создать тест для проверки определений слов, предоставляя слово, а затем несколько вариантов определений, где только один вариант является правильным.\",\n",
    "  model=\"gpt-3.5-turbo-0125\",\n",
    "  tools=[function_json]\n",
    ")"
   ]
  },
  {
   "cell_type": "markdown",
   "id": "a7634161-3696-424a-9f61-369f525ad6fa",
   "metadata": {},
   "source": [
    "## Шаг 4: Создайте поток, сообщение и запуск"
   ]
  },
  {
   "cell_type": "code",
   "execution_count": 8,
   "id": "1c5a138a-554e-439d-81a7-c8775e0d418f",
   "metadata": {},
   "outputs": [],
   "source": [
    "thread = client.beta.threads.create()"
   ]
  },
  {
   "cell_type": "code",
   "execution_count": 30,
   "id": "e09a6390",
   "metadata": {},
   "outputs": [
    {
     "name": "stdout",
     "output_type": "stream",
     "text": [
      "SyncCursorPage[Message](data=[Message(id='msg_bsKbGAITaY8EL34xQG8IhAKV', assistant_id='asst_AeWhKBH9uqoaHjJkVasyNITT', attachments=[], completed_at=None, content=[TextContentBlock(text=Text(annotations=[], value='Ответ неверный. Правильное определение слова \"abate\" - \"to reduce in amount, degree, or intensity\".'), type='text')], created_at=1715976469, incomplete_at=None, incomplete_details=None, metadata={}, object='thread.message', role='assistant', run_id='run_MQvkJtkHdsfwa2N0Lv6SzScK', status=None, thread_id='thread_vZdRkNxIYvP2kJxSbqKTgRIH'), Message(id='msg_fkv7z3ECQZSYB1CQE69VYTgE', assistant_id=None, attachments=[], completed_at=None, content=[TextContentBlock(text=Text(annotations=[], value='Создайте новый список слов и определений вопроса викторины. Затем сообщите мне, является ли полученный ответ правильным.'), type='text')], created_at=1715975844, incomplete_at=None, incomplete_details=None, metadata={}, object='thread.message', role='user', run_id=None, status=None, thread_id='thread_vZdRkNxIYvP2kJxSbqKTgRIH')], object='list', first_id='msg_bsKbGAITaY8EL34xQG8IhAKV', last_id='msg_fkv7z3ECQZSYB1CQE69VYTgE', has_more=False)\n"
     ]
    }
   ],
   "source": [
    "thread_messages = client.beta.threads.messages.list(thread_id=thread.id)\n",
    "print(thread_messages)\n"
   ]
  },
  {
   "cell_type": "code",
   "execution_count": 12,
   "id": "6ce74902-511e-4b18-8fe7-62ecf395ed8b",
   "metadata": {},
   "outputs": [],
   "source": [
    "message = client.beta.threads.messages.create(\n",
    "    thread_id=thread.id,\n",
    "    role=\"user\",\n",
    "    content=\"Создайте новый список слов и определений вопроса викторины. Затем сообщите мне, является ли полученный ответ правильным.\",\n",
    ")"
   ]
  },
  {
   "cell_type": "code",
   "execution_count": 14,
   "id": "d65a2234",
   "metadata": {},
   "outputs": [],
   "source": [
    "run = client.beta.threads.runs.create(\n",
    "  thread_id=thread.id,\n",
    "  assistant_id=assistant.id,\n",
    "  tools=[function_json]\n",
    "  )"
   ]
  },
  {
   "cell_type": "code",
   "execution_count": 15,
   "id": "88286dbf-11aa-4b12-84aa-2a3cfb6718f8",
   "metadata": {},
   "outputs": [],
   "source": [
    "import time\n",
    "\n",
    "def wait_on_run(run, thread):\n",
    "    while run.status == \"queued\" or run.status == \"in_progress\":\n",
    "        run = client.beta.threads.runs.retrieve(\n",
    "            thread_id=thread.id,\n",
    "            run_id=run.id,\n",
    "        )\n",
    "        print(run.status)\n",
    "        time.sleep(0.5)\n",
    "    return run"
   ]
  },
  {
   "cell_type": "code",
   "execution_count": 16,
   "id": "cd28b3fe-3e43-4791-84c3-536ce5175e05",
   "metadata": {},
   "outputs": [
    {
     "name": "stdout",
     "output_type": "stream",
     "text": [
      "requires_action\n"
     ]
    }
   ],
   "source": [
    "run_1 = wait_on_run(run,thread)"
   ]
  },
  {
   "cell_type": "code",
   "execution_count": 18,
   "id": "9b795106",
   "metadata": {},
   "outputs": [
    {
     "name": "stdout",
     "output_type": "stream",
     "text": [
      "Run(id='run_MQvkJtkHdsfwa2N0Lv6SzScK', assistant_id='asst_AeWhKBH9uqoaHjJkVasyNITT', cancelled_at=None, completed_at=None, created_at=1715975960, expires_at=1715976560, failed_at=None, incomplete_details=None, instructions='Вы помогаете создать тест для проверки определений слов, предоставляя слово, а затем несколько вариантов определений, где только один вариант является правильным.', last_error=None, max_completion_tokens=None, max_prompt_tokens=None, metadata={}, model='gpt-3.5-turbo-0125', object='thread.run', required_action=RequiredAction(submit_tool_outputs=RequiredActionSubmitToolOutputs(tool_calls=[RequiredActionFunctionToolCall(id='call_5a6SKhp9IFHUjZzrQY7KepIR', function=Function(arguments='{\"word\":\"abate\",\"definitions_list\":[\"to reduce in amount, degree, or intensity\",\"to increase in amount, degree, or intensity\",\"to stay the same in amount, degree, or intensity\"]}', name='word_definition_quiz'), type='function')]), type='submit_tool_outputs'), response_format='auto', started_at=1715975961, status='requires_action', thread_id='thread_vZdRkNxIYvP2kJxSbqKTgRIH', tool_choice='auto', tools=[FunctionTool(function=FunctionDefinition(name='word_definition_quiz', description=None, parameters={'type': 'object', 'properties': {'word': {'type': 'string', 'description': 'Одно слово'}, 'definitions_list': {'type': 'array', 'items': {'type': 'string'}, 'description': \"Python list строк определений, в котором только одно правильное определение относится к параметру 'word'. Только string определения.\"}}, 'required': ['word', 'definitions_list']}), type='function')], truncation_strategy=TruncationStrategy(type='auto', last_messages=None), usage=None, temperature=0.0, top_p=1.0, tool_resources={})\n"
     ]
    }
   ],
   "source": [
    "print(run_1)"
   ]
  },
  {
   "cell_type": "markdown",
   "id": "17ebe0dc-a713-4fb9-b22e-c34ec591beaa",
   "metadata": {},
   "source": [
    "## Step 5: Take Run Results and Call Function Locally"
   ]
  },
  {
   "cell_type": "code",
   "execution_count": 20,
   "id": "4e8ae741-d53e-4e79-9c58-9c008b445968",
   "metadata": {},
   "outputs": [
    {
     "name": "stdout",
     "output_type": "stream",
     "text": [
      "Function Name: word_definition_quiz\n",
      "Function Arguments:\n"
     ]
    },
    {
     "data": {
      "text/plain": [
       "{'word': 'abate',\n",
       " 'definitions_list': ['to reduce in amount, degree, or intensity',\n",
       "  'to increase in amount, degree, or intensity',\n",
       "  'to stay the same in amount, degree, or intensity']}"
      ]
     },
     "execution_count": 20,
     "metadata": {},
     "output_type": "execute_result"
    }
   ],
   "source": [
    "import json\n",
    "\n",
    "# Extract single tool call\n",
    "tool_call = run_1.required_action.submit_tool_outputs.tool_calls[0]\n",
    "name = tool_call.function.name\n",
    "arguments = json.loads(tool_call.function.arguments)\n",
    "\n",
    "print(\"Function Name:\", name)\n",
    "print(\"Function Arguments:\")\n",
    "arguments"
   ]
  },
  {
   "cell_type": "code",
   "execution_count": 21,
   "id": "4efb3f81-7e3c-40c5-9bd9-820d8b97ca2e",
   "metadata": {},
   "outputs": [
    {
     "name": "stdout",
     "output_type": "stream",
     "text": [
      "Привет! Давайте проверим ваши знания о словах.\n",
      "Какое правильное определение этого слова abate\n",
      "\n",
      "\n",
      "\n",
      "Определение #0 это: to reduce in amount, degree, or intensity\n",
      "\n",
      "\n",
      "Определение #1 это: to increase in amount, degree, or intensity\n",
      "\n",
      "\n",
      "Определение #2 это: to stay the same in amount, degree, or intensity\n",
      "\n",
      "\n"
     ]
    }
   ],
   "source": [
    "answer = word_definition_quiz(arguments['word'],arguments['definitions_list'])"
   ]
  },
  {
   "cell_type": "code",
   "execution_count": 22,
   "id": "4af86723-6137-4c6b-8bf7-2d6869214b9e",
   "metadata": {},
   "outputs": [
    {
     "data": {
      "text/plain": [
       "'to increase in amount, degree, or intensity'"
      ]
     },
     "execution_count": 22,
     "metadata": {},
     "output_type": "execute_result"
    }
   ],
   "source": [
    "answer"
   ]
  },
  {
   "cell_type": "markdown",
   "id": "a8085730-40f8-4461-9bb8-63cbcae743e9",
   "metadata": {},
   "source": [
    "## Step 6: Return Local Function Response to the Tool in the Assistant"
   ]
  },
  {
   "cell_type": "code",
   "execution_count": 25,
   "id": "ad40f063-c2f8-4a4f-a2ae-875e520371d2",
   "metadata": {},
   "outputs": [
    {
     "ename": "BadRequestError",
     "evalue": "Error code: 400 - {'error': {'message': 'Runs in status \"completed\" do not accept tool outputs.', 'type': 'invalid_request_error', 'param': None, 'code': None}}",
     "output_type": "error",
     "traceback": [
      "\u001b[0;31m---------------------------------------------------------------------------\u001b[0m",
      "\u001b[0;31mBadRequestError\u001b[0m                           Traceback (most recent call last)",
      "Cell \u001b[0;32mIn[25], line 1\u001b[0m\n\u001b[0;32m----> 1\u001b[0m run \u001b[38;5;241m=\u001b[39m \u001b[43mclient\u001b[49m\u001b[38;5;241;43m.\u001b[39;49m\u001b[43mbeta\u001b[49m\u001b[38;5;241;43m.\u001b[39;49m\u001b[43mthreads\u001b[49m\u001b[38;5;241;43m.\u001b[39;49m\u001b[43mruns\u001b[49m\u001b[38;5;241;43m.\u001b[39;49m\u001b[43msubmit_tool_outputs\u001b[49m\u001b[43m(\u001b[49m\n\u001b[1;32m      2\u001b[0m \u001b[43m    \u001b[49m\u001b[43mthread_id\u001b[49m\u001b[38;5;241;43m=\u001b[39;49m\u001b[43mthread\u001b[49m\u001b[38;5;241;43m.\u001b[39;49m\u001b[43mid\u001b[49m\u001b[43m,\u001b[49m\n\u001b[1;32m      3\u001b[0m \u001b[43m    \u001b[49m\u001b[43mrun_id\u001b[49m\u001b[38;5;241;43m=\u001b[39;49m\u001b[43mrun\u001b[49m\u001b[38;5;241;43m.\u001b[39;49m\u001b[43mid\u001b[49m\u001b[43m,\u001b[49m\n\u001b[1;32m      4\u001b[0m \u001b[43m    \u001b[49m\u001b[43mtool_outputs\u001b[49m\u001b[38;5;241;43m=\u001b[39;49m\u001b[43m[\u001b[49m\n\u001b[1;32m      5\u001b[0m \u001b[43m        \u001b[49m\u001b[43m{\u001b[49m\n\u001b[1;32m      6\u001b[0m \u001b[43m            \u001b[49m\u001b[38;5;124;43m\"\u001b[39;49m\u001b[38;5;124;43mtool_call_id\u001b[39;49m\u001b[38;5;124;43m\"\u001b[39;49m\u001b[43m:\u001b[49m\u001b[43m \u001b[49m\u001b[43mtool_call\u001b[49m\u001b[38;5;241;43m.\u001b[39;49m\u001b[43mid\u001b[49m\u001b[43m,\u001b[49m\n\u001b[1;32m      7\u001b[0m \u001b[43m            \u001b[49m\u001b[38;5;124;43m\"\u001b[39;49m\u001b[38;5;124;43moutput\u001b[39;49m\u001b[38;5;124;43m\"\u001b[39;49m\u001b[43m:\u001b[49m\u001b[43m \u001b[49m\u001b[43mjson\u001b[49m\u001b[38;5;241;43m.\u001b[39;49m\u001b[43mdumps\u001b[49m\u001b[43m(\u001b[49m\u001b[43manswer\u001b[49m\u001b[43m)\u001b[49m\u001b[43m,\u001b[49m\n\u001b[1;32m      8\u001b[0m \u001b[43m        \u001b[49m\u001b[43m}\u001b[49m\n\u001b[1;32m      9\u001b[0m \u001b[43m    \u001b[49m\u001b[43m]\u001b[49m\u001b[43m,\u001b[49m\n\u001b[1;32m     10\u001b[0m \u001b[43m)\u001b[49m\n",
      "File \u001b[0;32m~/Documents/Chat_GPT_Stable diffusion_laerning/OpenAI_Assistant_test_notebooks/venv/lib/python3.11/site-packages/openai/_utils/_utils.py:277\u001b[0m, in \u001b[0;36mrequired_args.<locals>.inner.<locals>.wrapper\u001b[0;34m(*args, **kwargs)\u001b[0m\n\u001b[1;32m    275\u001b[0m             msg \u001b[38;5;241m=\u001b[39m \u001b[38;5;124mf\u001b[39m\u001b[38;5;124m\"\u001b[39m\u001b[38;5;124mMissing required argument: \u001b[39m\u001b[38;5;132;01m{\u001b[39;00mquote(missing[\u001b[38;5;241m0\u001b[39m])\u001b[38;5;132;01m}\u001b[39;00m\u001b[38;5;124m\"\u001b[39m\n\u001b[1;32m    276\u001b[0m     \u001b[38;5;28;01mraise\u001b[39;00m \u001b[38;5;167;01mTypeError\u001b[39;00m(msg)\n\u001b[0;32m--> 277\u001b[0m \u001b[38;5;28;01mreturn\u001b[39;00m \u001b[43mfunc\u001b[49m\u001b[43m(\u001b[49m\u001b[38;5;241;43m*\u001b[39;49m\u001b[43margs\u001b[49m\u001b[43m,\u001b[49m\u001b[43m \u001b[49m\u001b[38;5;241;43m*\u001b[39;49m\u001b[38;5;241;43m*\u001b[39;49m\u001b[43mkwargs\u001b[49m\u001b[43m)\u001b[49m\n",
      "File \u001b[0;32m~/Documents/Chat_GPT_Stable diffusion_laerning/OpenAI_Assistant_test_notebooks/venv/lib/python3.11/site-packages/openai/resources/beta/threads/runs/runs.py:1443\u001b[0m, in \u001b[0;36mRuns.submit_tool_outputs\u001b[0;34m(self, run_id, thread_id, tool_outputs, stream, extra_headers, extra_query, extra_body, timeout)\u001b[0m\n\u001b[1;32m   1441\u001b[0m     \u001b[38;5;28;01mraise\u001b[39;00m \u001b[38;5;167;01mValueError\u001b[39;00m(\u001b[38;5;124mf\u001b[39m\u001b[38;5;124m\"\u001b[39m\u001b[38;5;124mExpected a non-empty value for `run_id` but received \u001b[39m\u001b[38;5;132;01m{\u001b[39;00mrun_id\u001b[38;5;132;01m!r}\u001b[39;00m\u001b[38;5;124m\"\u001b[39m)\n\u001b[1;32m   1442\u001b[0m extra_headers \u001b[38;5;241m=\u001b[39m {\u001b[38;5;124m\"\u001b[39m\u001b[38;5;124mOpenAI-Beta\u001b[39m\u001b[38;5;124m\"\u001b[39m: \u001b[38;5;124m\"\u001b[39m\u001b[38;5;124massistants=v2\u001b[39m\u001b[38;5;124m\"\u001b[39m, \u001b[38;5;241m*\u001b[39m\u001b[38;5;241m*\u001b[39m(extra_headers \u001b[38;5;129;01mor\u001b[39;00m {})}\n\u001b[0;32m-> 1443\u001b[0m \u001b[38;5;28;01mreturn\u001b[39;00m \u001b[38;5;28;43mself\u001b[39;49m\u001b[38;5;241;43m.\u001b[39;49m\u001b[43m_post\u001b[49m\u001b[43m(\u001b[49m\n\u001b[1;32m   1444\u001b[0m \u001b[43m    \u001b[49m\u001b[38;5;124;43mf\u001b[39;49m\u001b[38;5;124;43m\"\u001b[39;49m\u001b[38;5;124;43m/threads/\u001b[39;49m\u001b[38;5;132;43;01m{\u001b[39;49;00m\u001b[43mthread_id\u001b[49m\u001b[38;5;132;43;01m}\u001b[39;49;00m\u001b[38;5;124;43m/runs/\u001b[39;49m\u001b[38;5;132;43;01m{\u001b[39;49;00m\u001b[43mrun_id\u001b[49m\u001b[38;5;132;43;01m}\u001b[39;49;00m\u001b[38;5;124;43m/submit_tool_outputs\u001b[39;49m\u001b[38;5;124;43m\"\u001b[39;49m\u001b[43m,\u001b[49m\n\u001b[1;32m   1445\u001b[0m \u001b[43m    \u001b[49m\u001b[43mbody\u001b[49m\u001b[38;5;241;43m=\u001b[39;49m\u001b[43mmaybe_transform\u001b[49m\u001b[43m(\u001b[49m\n\u001b[1;32m   1446\u001b[0m \u001b[43m        \u001b[49m\u001b[43m{\u001b[49m\n\u001b[1;32m   1447\u001b[0m \u001b[43m            \u001b[49m\u001b[38;5;124;43m\"\u001b[39;49m\u001b[38;5;124;43mtool_outputs\u001b[39;49m\u001b[38;5;124;43m\"\u001b[39;49m\u001b[43m:\u001b[49m\u001b[43m \u001b[49m\u001b[43mtool_outputs\u001b[49m\u001b[43m,\u001b[49m\n\u001b[1;32m   1448\u001b[0m \u001b[43m            \u001b[49m\u001b[38;5;124;43m\"\u001b[39;49m\u001b[38;5;124;43mstream\u001b[39;49m\u001b[38;5;124;43m\"\u001b[39;49m\u001b[43m:\u001b[49m\u001b[43m \u001b[49m\u001b[43mstream\u001b[49m\u001b[43m,\u001b[49m\n\u001b[1;32m   1449\u001b[0m \u001b[43m        \u001b[49m\u001b[43m}\u001b[49m\u001b[43m,\u001b[49m\n\u001b[1;32m   1450\u001b[0m \u001b[43m        \u001b[49m\u001b[43mrun_submit_tool_outputs_params\u001b[49m\u001b[38;5;241;43m.\u001b[39;49m\u001b[43mRunSubmitToolOutputsParams\u001b[49m\u001b[43m,\u001b[49m\n\u001b[1;32m   1451\u001b[0m \u001b[43m    \u001b[49m\u001b[43m)\u001b[49m\u001b[43m,\u001b[49m\n\u001b[1;32m   1452\u001b[0m \u001b[43m    \u001b[49m\u001b[43moptions\u001b[49m\u001b[38;5;241;43m=\u001b[39;49m\u001b[43mmake_request_options\u001b[49m\u001b[43m(\u001b[49m\n\u001b[1;32m   1453\u001b[0m \u001b[43m        \u001b[49m\u001b[43mextra_headers\u001b[49m\u001b[38;5;241;43m=\u001b[39;49m\u001b[43mextra_headers\u001b[49m\u001b[43m,\u001b[49m\u001b[43m \u001b[49m\u001b[43mextra_query\u001b[49m\u001b[38;5;241;43m=\u001b[39;49m\u001b[43mextra_query\u001b[49m\u001b[43m,\u001b[49m\u001b[43m \u001b[49m\u001b[43mextra_body\u001b[49m\u001b[38;5;241;43m=\u001b[39;49m\u001b[43mextra_body\u001b[49m\u001b[43m,\u001b[49m\u001b[43m \u001b[49m\u001b[43mtimeout\u001b[49m\u001b[38;5;241;43m=\u001b[39;49m\u001b[43mtimeout\u001b[49m\n\u001b[1;32m   1454\u001b[0m \u001b[43m    \u001b[49m\u001b[43m)\u001b[49m\u001b[43m,\u001b[49m\n\u001b[1;32m   1455\u001b[0m \u001b[43m    \u001b[49m\u001b[43mcast_to\u001b[49m\u001b[38;5;241;43m=\u001b[39;49m\u001b[43mRun\u001b[49m\u001b[43m,\u001b[49m\n\u001b[1;32m   1456\u001b[0m \u001b[43m    \u001b[49m\u001b[43mstream\u001b[49m\u001b[38;5;241;43m=\u001b[39;49m\u001b[43mstream\u001b[49m\u001b[43m \u001b[49m\u001b[38;5;129;43;01mor\u001b[39;49;00m\u001b[43m \u001b[49m\u001b[38;5;28;43;01mFalse\u001b[39;49;00m\u001b[43m,\u001b[49m\n\u001b[1;32m   1457\u001b[0m \u001b[43m    \u001b[49m\u001b[43mstream_cls\u001b[49m\u001b[38;5;241;43m=\u001b[39;49m\u001b[43mStream\u001b[49m\u001b[43m[\u001b[49m\u001b[43mAssistantStreamEvent\u001b[49m\u001b[43m]\u001b[49m\u001b[43m,\u001b[49m\n\u001b[1;32m   1458\u001b[0m \u001b[43m\u001b[49m\u001b[43m)\u001b[49m\n",
      "File \u001b[0;32m~/Documents/Chat_GPT_Stable diffusion_laerning/OpenAI_Assistant_test_notebooks/venv/lib/python3.11/site-packages/openai/_base_client.py:1240\u001b[0m, in \u001b[0;36mSyncAPIClient.post\u001b[0;34m(self, path, cast_to, body, options, files, stream, stream_cls)\u001b[0m\n\u001b[1;32m   1226\u001b[0m \u001b[38;5;28;01mdef\u001b[39;00m \u001b[38;5;21mpost\u001b[39m(\n\u001b[1;32m   1227\u001b[0m     \u001b[38;5;28mself\u001b[39m,\n\u001b[1;32m   1228\u001b[0m     path: \u001b[38;5;28mstr\u001b[39m,\n\u001b[0;32m   (...)\u001b[0m\n\u001b[1;32m   1235\u001b[0m     stream_cls: \u001b[38;5;28mtype\u001b[39m[_StreamT] \u001b[38;5;241m|\u001b[39m \u001b[38;5;28;01mNone\u001b[39;00m \u001b[38;5;241m=\u001b[39m \u001b[38;5;28;01mNone\u001b[39;00m,\n\u001b[1;32m   1236\u001b[0m ) \u001b[38;5;241m-\u001b[39m\u001b[38;5;241m>\u001b[39m ResponseT \u001b[38;5;241m|\u001b[39m _StreamT:\n\u001b[1;32m   1237\u001b[0m     opts \u001b[38;5;241m=\u001b[39m FinalRequestOptions\u001b[38;5;241m.\u001b[39mconstruct(\n\u001b[1;32m   1238\u001b[0m         method\u001b[38;5;241m=\u001b[39m\u001b[38;5;124m\"\u001b[39m\u001b[38;5;124mpost\u001b[39m\u001b[38;5;124m\"\u001b[39m, url\u001b[38;5;241m=\u001b[39mpath, json_data\u001b[38;5;241m=\u001b[39mbody, files\u001b[38;5;241m=\u001b[39mto_httpx_files(files), \u001b[38;5;241m*\u001b[39m\u001b[38;5;241m*\u001b[39moptions\n\u001b[1;32m   1239\u001b[0m     )\n\u001b[0;32m-> 1240\u001b[0m     \u001b[38;5;28;01mreturn\u001b[39;00m cast(ResponseT, \u001b[38;5;28;43mself\u001b[39;49m\u001b[38;5;241;43m.\u001b[39;49m\u001b[43mrequest\u001b[49m\u001b[43m(\u001b[49m\u001b[43mcast_to\u001b[49m\u001b[43m,\u001b[49m\u001b[43m \u001b[49m\u001b[43mopts\u001b[49m\u001b[43m,\u001b[49m\u001b[43m \u001b[49m\u001b[43mstream\u001b[49m\u001b[38;5;241;43m=\u001b[39;49m\u001b[43mstream\u001b[49m\u001b[43m,\u001b[49m\u001b[43m \u001b[49m\u001b[43mstream_cls\u001b[49m\u001b[38;5;241;43m=\u001b[39;49m\u001b[43mstream_cls\u001b[49m\u001b[43m)\u001b[49m)\n",
      "File \u001b[0;32m~/Documents/Chat_GPT_Stable diffusion_laerning/OpenAI_Assistant_test_notebooks/venv/lib/python3.11/site-packages/openai/_base_client.py:921\u001b[0m, in \u001b[0;36mSyncAPIClient.request\u001b[0;34m(self, cast_to, options, remaining_retries, stream, stream_cls)\u001b[0m\n\u001b[1;32m    912\u001b[0m \u001b[38;5;28;01mdef\u001b[39;00m \u001b[38;5;21mrequest\u001b[39m(\n\u001b[1;32m    913\u001b[0m     \u001b[38;5;28mself\u001b[39m,\n\u001b[1;32m    914\u001b[0m     cast_to: Type[ResponseT],\n\u001b[0;32m   (...)\u001b[0m\n\u001b[1;32m    919\u001b[0m     stream_cls: \u001b[38;5;28mtype\u001b[39m[_StreamT] \u001b[38;5;241m|\u001b[39m \u001b[38;5;28;01mNone\u001b[39;00m \u001b[38;5;241m=\u001b[39m \u001b[38;5;28;01mNone\u001b[39;00m,\n\u001b[1;32m    920\u001b[0m ) \u001b[38;5;241m-\u001b[39m\u001b[38;5;241m>\u001b[39m ResponseT \u001b[38;5;241m|\u001b[39m _StreamT:\n\u001b[0;32m--> 921\u001b[0m     \u001b[38;5;28;01mreturn\u001b[39;00m \u001b[38;5;28;43mself\u001b[39;49m\u001b[38;5;241;43m.\u001b[39;49m\u001b[43m_request\u001b[49m\u001b[43m(\u001b[49m\n\u001b[1;32m    922\u001b[0m \u001b[43m        \u001b[49m\u001b[43mcast_to\u001b[49m\u001b[38;5;241;43m=\u001b[39;49m\u001b[43mcast_to\u001b[49m\u001b[43m,\u001b[49m\n\u001b[1;32m    923\u001b[0m \u001b[43m        \u001b[49m\u001b[43moptions\u001b[49m\u001b[38;5;241;43m=\u001b[39;49m\u001b[43moptions\u001b[49m\u001b[43m,\u001b[49m\n\u001b[1;32m    924\u001b[0m \u001b[43m        \u001b[49m\u001b[43mstream\u001b[49m\u001b[38;5;241;43m=\u001b[39;49m\u001b[43mstream\u001b[49m\u001b[43m,\u001b[49m\n\u001b[1;32m    925\u001b[0m \u001b[43m        \u001b[49m\u001b[43mstream_cls\u001b[49m\u001b[38;5;241;43m=\u001b[39;49m\u001b[43mstream_cls\u001b[49m\u001b[43m,\u001b[49m\n\u001b[1;32m    926\u001b[0m \u001b[43m        \u001b[49m\u001b[43mremaining_retries\u001b[49m\u001b[38;5;241;43m=\u001b[39;49m\u001b[43mremaining_retries\u001b[49m\u001b[43m,\u001b[49m\n\u001b[1;32m    927\u001b[0m \u001b[43m    \u001b[49m\u001b[43m)\u001b[49m\n",
      "File \u001b[0;32m~/Documents/Chat_GPT_Stable diffusion_laerning/OpenAI_Assistant_test_notebooks/venv/lib/python3.11/site-packages/openai/_base_client.py:1020\u001b[0m, in \u001b[0;36mSyncAPIClient._request\u001b[0;34m(self, cast_to, options, remaining_retries, stream, stream_cls)\u001b[0m\n\u001b[1;32m   1017\u001b[0m         err\u001b[38;5;241m.\u001b[39mresponse\u001b[38;5;241m.\u001b[39mread()\n\u001b[1;32m   1019\u001b[0m     log\u001b[38;5;241m.\u001b[39mdebug(\u001b[38;5;124m\"\u001b[39m\u001b[38;5;124mRe-raising status error\u001b[39m\u001b[38;5;124m\"\u001b[39m)\n\u001b[0;32m-> 1020\u001b[0m     \u001b[38;5;28;01mraise\u001b[39;00m \u001b[38;5;28mself\u001b[39m\u001b[38;5;241m.\u001b[39m_make_status_error_from_response(err\u001b[38;5;241m.\u001b[39mresponse) \u001b[38;5;28;01mfrom\u001b[39;00m \u001b[38;5;28;01mNone\u001b[39;00m\n\u001b[1;32m   1022\u001b[0m \u001b[38;5;28;01mreturn\u001b[39;00m \u001b[38;5;28mself\u001b[39m\u001b[38;5;241m.\u001b[39m_process_response(\n\u001b[1;32m   1023\u001b[0m     cast_to\u001b[38;5;241m=\u001b[39mcast_to,\n\u001b[1;32m   1024\u001b[0m     options\u001b[38;5;241m=\u001b[39moptions,\n\u001b[0;32m   (...)\u001b[0m\n\u001b[1;32m   1027\u001b[0m     stream_cls\u001b[38;5;241m=\u001b[39mstream_cls,\n\u001b[1;32m   1028\u001b[0m )\n",
      "\u001b[0;31mBadRequestError\u001b[0m: Error code: 400 - {'error': {'message': 'Runs in status \"completed\" do not accept tool outputs.', 'type': 'invalid_request_error', 'param': None, 'code': None}}"
     ]
    }
   ],
   "source": [
    "run = client.beta.threads.runs.submit_tool_outputs(\n",
    "    thread_id=thread.id,\n",
    "    run_id=run.id,\n",
    "    tool_outputs=[\n",
    "        {\n",
    "            \"tool_call_id\": tool_call.id,\n",
    "            \"output\": json.dumps(answer),\n",
    "        }\n",
    "    ],\n",
    ")"
   ]
  },
  {
   "cell_type": "code",
   "execution_count": 26,
   "id": "7a8fcce5-4bd7-43fc-8619-69069b3ce681",
   "metadata": {},
   "outputs": [
    {
     "name": "stdout",
     "output_type": "stream",
     "text": [
      "completed\n"
     ]
    }
   ],
   "source": [
    "run = wait_on_run(run, thread)"
   ]
  },
  {
   "cell_type": "code",
   "execution_count": 27,
   "id": "5b741ded-b592-4254-b7cc-451e607afb35",
   "metadata": {},
   "outputs": [
    {
     "data": {
      "text/plain": [
       "'completed'"
      ]
     },
     "execution_count": 27,
     "metadata": {},
     "output_type": "execute_result"
    }
   ],
   "source": [
    "run.status"
   ]
  },
  {
   "cell_type": "markdown",
   "id": "081325e0-f466-4401-85c1-abf91f44692d",
   "metadata": {},
   "source": [
    "## Step 7: Retrieve Messages"
   ]
  },
  {
   "cell_type": "code",
   "execution_count": 28,
   "id": "b67e9508-e6cf-4ebd-981f-8fd912a4ca82",
   "metadata": {},
   "outputs": [],
   "source": [
    "messages = client.beta.threads.messages.list(thread.id)"
   ]
  },
  {
   "cell_type": "code",
   "execution_count": 29,
   "id": "1865380f-2c58-4650-bea2-e212e90b3663",
   "metadata": {},
   "outputs": [
    {
     "name": "stdout",
     "output_type": "stream",
     "text": [
      "Ответ неверный. Правильное определение слова \"abate\" - \"to reduce in amount, degree, or intensity\".\n",
      "\n",
      "\n",
      "Создайте новый список слов и определений вопроса викторины. Затем сообщите мне, является ли полученный ответ правильным.\n",
      "\n",
      "\n"
     ]
    }
   ],
   "source": [
    "for thread_message in messages:\n",
    "    print(thread_message.content[0].text.value)\n",
    "    print('\\n')"
   ]
  },
  {
   "cell_type": "markdown",
   "id": "0011d4df-a85a-4ad7-9702-798b9ffd1f91",
   "metadata": {},
   "source": [
    "## Optional: Delete Assistant"
   ]
  },
  {
   "cell_type": "code",
   "execution_count": 39,
   "id": "8d1f15f7-014e-48ff-9d9a-51391d403911",
   "metadata": {},
   "outputs": [
    {
     "name": "stdout",
     "output_type": "stream",
     "text": [
      "AssistantDeleted(id='asst_7cVv7JptjJuNQWiA8mTTeDMb', deleted=True, object='assistant.deleted')\n"
     ]
    }
   ],
   "source": [
    "my_assistants = client.beta.assistants.list(\n",
    "    order=\"desc\",\n",
    "    limit=\"20\",\n",
    ")\n",
    "response = client.beta.assistants.delete(my_assistants.data[0].id)\n",
    "print(response)"
   ]
  },
  {
   "cell_type": "code",
   "execution_count": null,
   "id": "24470ff9-1c0e-4853-b124-10e84b177430",
   "metadata": {},
   "outputs": [],
   "source": []
  }
 ],
 "metadata": {
  "kernelspec": {
   "display_name": "Python 3 (ipykernel)",
   "language": "python",
   "name": "python3"
  },
  "language_info": {
   "codemirror_mode": {
    "name": "ipython",
    "version": 3
   },
   "file_extension": ".py",
   "mimetype": "text/x-python",
   "name": "python",
   "nbconvert_exporter": "python",
   "pygments_lexer": "ipython3",
   "version": "3.11.4"
  }
 },
 "nbformat": 4,
 "nbformat_minor": 5
}
