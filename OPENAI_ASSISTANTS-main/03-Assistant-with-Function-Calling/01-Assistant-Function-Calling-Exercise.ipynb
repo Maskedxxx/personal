{
 "cells": [
  {
   "cell_type": "markdown",
   "id": "9b61ca09-df53-48a9-ae2b-b80ce5f8eea0",
   "metadata": {},
   "source": [
    "<center><a href=\"https://www.pieriantraining.com/\" ><img src=\"../PTCenteredPurple.png\" alt=\"Pierian Training Logo\" /></a></center>\n"
   ]
  },
  {
   "cell_type": "markdown",
   "id": "99254f40-5a61-40fd-ac06-9a897f8776c8",
   "metadata": {},
   "source": [
    "# Вызов функций с помощью помощников - упражнение  "
   ]
  },
  {
   "cell_type": "markdown",
   "id": "7d36549f-b6b2-48ac-ae80-5f31271dc813",
   "metadata": {},
   "source": [
    "**ОБЩЕЕ ЗАДАНИЕ: учитывая функцию, показанную ниже, создайте помощника, который сможет создавать аргументы для функции, отправлять их обратно через сообщение, а затем запускать функцию, чтобы получить пользовательский ввод и отправить эту информацию обратно помощнику, а затем получить от помощника окончательный ответ о проверке ответа**"
   ]
  },
  {
   "cell_type": "code",
   "execution_count": 1,
   "id": "7906f49c",
   "metadata": {},
   "outputs": [],
   "source": [
    "from openai import OpenAI\n",
    "client = OpenAI()"
   ]
  },
  {
   "cell_type": "markdown",
   "id": "36628022",
   "metadata": {},
   "source": [
    "## Удаление всех ассистентов"
   ]
  },
  {
   "cell_type": "markdown",
   "id": "aaed7572-b58f-4e97-abb9-cc31fc9838c3",
   "metadata": {},
   "source": [
    "----"
   ]
  },
  {
   "cell_type": "code",
   "execution_count": 2,
   "id": "6d9d32de",
   "metadata": {},
   "outputs": [],
   "source": [
    "def delete_all_assistants(client):\n",
    "    \"\"\"\n",
    "    Удаляет всех ассистентов, связанных с вашим аккаунтом OpenAI.\n",
    "\n",
    "    Args:\n",
    "        client: Экземпляр клиента OpenAI.\n",
    "    \"\"\"\n",
    "\n",
    "    assistants = client.beta.assistants.list()  # Получаем список всех ассистентов\n",
    "\n",
    "    for assistant in assistants.data:\n",
    "        assistant_id = assistant.id\n",
    "        print(f\"Удаление ассистента: {assistant_id}\")\n",
    "        try:\n",
    "            client.beta.assistants.delete(assistant_id)  # Удаляем ассистента\n",
    "        except Exception as e:\n",
    "            print(f\"Ошибка при удалении ассистента {assistant_id}: {e}\")\n"
   ]
  },
  {
   "cell_type": "code",
   "execution_count": null,
   "id": "e2a2f520",
   "metadata": {},
   "outputs": [],
   "source": [
    "delete_all_assistants(client)"
   ]
  },
  {
   "cell_type": "markdown",
   "id": "5c6b0d61-97e8-4dd2-b25b-095286791835",
   "metadata": {},
   "source": [
    "**ЗАДАНИЕ: Просмотрите приведенную ниже функцию и убедитесь, что вы ее поняли.**"
   ]
  },
  {
   "cell_type": "code",
   "execution_count": null,
   "id": "3d898d23",
   "metadata": {},
   "outputs": [],
   "source": []
  },
  {
   "cell_type": "code",
   "execution_count": 23,
   "id": "50a350bd-d091-48ff-b6d6-9b4451059a18",
   "metadata": {},
   "outputs": [],
   "source": [
    "def president_home_state(president,state_options):\n",
    "    '''\n",
    "    INPUTS:\n",
    "        president str = Строковое имя президента США\n",
    "        state_options list[str] = Список возможных штатов, в которых родился президент, причем один из них должен быть верным!\n",
    "    \n",
    "    OUTPUTS:\n",
    "        response str = Ответ, который пользователь выбрал в качестве правильного штата места рождения.\n",
    "    \n",
    "    '''\n",
    "    print(\"Привет! Давайте проверим ваши знания о штатах, где родились президенты США!\")\n",
    "    print(f\"В каком штате родился этот президент: {president}\\n\")\n",
    "    \n",
    "    for num,option in enumerate(state_options):\n",
    "        print('\\n')\n",
    "        print(f\"Определение #{num} это: {option}\")\n",
    "    \n",
    "    print('\\n')\n",
    "    num_choice = input(\"Каков ваш выбор? (Верните вариант с одним числом)\")\n",
    "    \n",
    "    return state_options[int(num_choice)]\n",
    "    "
   ]
  },
  {
   "cell_type": "code",
   "execution_count": 24,
   "id": "a6b651e9-6b84-408d-abe9-8714afdd15da",
   "metadata": {},
   "outputs": [
    {
     "name": "stdout",
     "output_type": "stream",
     "text": [
      "Привет! Давайте проверим ваши знания о штатах, где родились президенты США!\n",
      "В каком штате родился этот президент: George Washington\n",
      "\n",
      "\n",
      "\n",
      "Определение #0 это: Virginia\n",
      "\n",
      "\n",
      "Определение #1 это: New York\n",
      "\n",
      "\n",
      "Определение #2 это: Massachusetts\n",
      "\n",
      "\n"
     ]
    },
    {
     "data": {
      "text/plain": [
       "'New York'"
      ]
     },
     "execution_count": 24,
     "metadata": {},
     "output_type": "execute_result"
    }
   ],
   "source": [
    "president_home_state(\"George Washington\", [\"Virginia\", \"New York\", \"Massachusetts\"])\n"
   ]
  },
  {
   "cell_type": "markdown",
   "id": "4d503338-b463-4c45-866d-145d015a5933",
   "metadata": {},
   "source": [
    "**TASK: Convert the Python function above into a JSON Description. Here is a general guide to help you:**\n",
    "\n",
    "     tool = {'type':'function',\n",
    "                    'function':{\n",
    "                        'name': 'my_function_name',\n",
    "                        'parameters':{\n",
    "                            \"type\":\"object\",\n",
    "                              \"properties\":{\n",
    "                                  \"parameter_one\": {'type':'string','description':\"A text description for the LLM of what this parameter should be. Note the JSON type.\"},\n",
    "                                  \"parameter_two\":{'type':'integer','description':\"A text description for the LLM of this parameter, note the JSON type.\"}\n",
    "                              },\n",
    "                            'required' : ['parameter_one','parameter_two']\n",
    "                        }\n",
    "\n",
    "            }\n",
    "        } "
   ]
  },
  {
   "cell_type": "code",
   "execution_count": 3,
   "id": "963a0417-c96f-4bd9-997f-03d3f130c926",
   "metadata": {},
   "outputs": [],
   "source": [
    "# CODE HERE\n",
    "function_json = {\n",
    "            'type':'function',\n",
    "            'function':{\n",
    "                'name': 'president_home_state',\n",
    "                'description': 'Функция создает интерактивный тест с вопросом о месте рождения президента США и предоставляет список вариантов ответов для выбора.',\n",
    "                'parameters':{\n",
    "                    \"type\":\"object\",\n",
    "                    \"properties\":{\n",
    "                        'president': {\n",
    "                            \"type\": \"string\",\n",
    "                            \"description\": \"Имя бывшего или действующего президента США, о котором задается вопрос в тесте.\",\n",
    "                        },\n",
    "                        \"state_options\": {\n",
    "                            'type':'array', \n",
    "                                \"items\":{'type':'string'},\n",
    "                                'description':\"Список возможных штатов, в которых мог родиться президент. Один из вариантов должен быть правильным.\"}\n",
    "                        },\n",
    "                    'required' : [\"president\",\"state_options\"]\n",
    "                }\n",
    "            }\n",
    "        }\n",
    "                \n",
    "                        "
   ]
  },
  {
   "cell_type": "markdown",
   "id": "7410adf8-0084-4e9c-8f1f-dd20a9f0ff16",
   "metadata": {},
   "source": [
    "**TASK: Create the OpenAI API Client Connection**"
   ]
  },
  {
   "cell_type": "code",
   "execution_count": 4,
   "id": "9ef71549-5df2-4d86-94a6-2e45c0102430",
   "metadata": {},
   "outputs": [],
   "source": [
    "assistant = client.beta.assistants.create(\n",
    "    model=\"gpt-3.5-turbo-0125\",\n",
    "    name=\"Помощник в составлении тестов для проверки знаний людей\",\n",
    "    description=\"Тестовый бот, для вызова функций\",\n",
    "    instructions=\"Вы помогаете создать тест для проверки определений слов, предоставляя слово, а затем несколько вариантов определений, где только один вариант является правильным. Пишите только на РУССКОМ ЯЗЫКЕ\",\n",
    "    temperature=0,\n",
    "    tools=[function_json]\n",
    ")"
   ]
  },
  {
   "cell_type": "markdown",
   "id": "20ea4fd3-cb77-4c6e-91ff-d3fcbe5c5213",
   "metadata": {},
   "source": [
    "**TASK: Create the Assistant with the Function Calling Tool**"
   ]
  },
  {
   "cell_type": "code",
   "execution_count": 31,
   "id": "88589939-b9d9-4378-9aeb-e522e1c37959",
   "metadata": {},
   "outputs": [],
   "source": [
    "run = client.beta.threads.create_and_run(\n",
    "    assistant_id=assistant.id,\n",
    "    thread = {\n",
    "    \"messages\": [\n",
    "        {\n",
    "            \"role\": \"user\",  # \"user\" or \"assistant\"\n",
    "            \"content\": \"Создайте новый список слов и определений вопроса викторины. Затем сообщите мне, является ли полученный ответ правильным.\",  # Text content of the message\n",
    "            \"attachments\": [],  # (Optional) List of file attachments\n",
    "        }\n",
    "        # Add more message objects as needed\n",
    "    ]\n",
    "    }\n",
    "    \n",
    ")\n"
   ]
  },
  {
   "cell_type": "code",
   "execution_count": 32,
   "id": "430d9ead",
   "metadata": {},
   "outputs": [
    {
     "data": {
      "text/plain": [
       "Run(id='run_uKvSjHACINqtNAeZtANTepd9', assistant_id='asst_yEqI1lwfIUVkrRAJ114rfd7e', cancelled_at=None, completed_at=None, created_at=1716027194, expires_at=1716027794, failed_at=None, incomplete_details=None, instructions='Вы помогаете создать тест для проверки определений слов, предоставляя слово, а затем несколько вариантов определений, где только один вариант является правильным. Пишите только на РУССКОМ ЯЗЫКЕ', last_error=None, max_completion_tokens=None, max_prompt_tokens=None, metadata={}, model='gpt-3.5-turbo-0125', object='thread.run', required_action=None, response_format='auto', started_at=None, status='queued', thread_id='thread_Bvko9KrC4tFVCm34TitlDPSG', tool_choice='auto', tools=[FunctionTool(function=FunctionDefinition(name='president_home_state', description='Функция создает интерактивный тест с вопросом о месте рождения президента США и предоставляет список вариантов ответов для выбора.', parameters={'type': 'object', 'properties': {'president': {'type': 'string', 'description': 'Имя бывшего или действующего президента США, о котором задается вопрос в тесте.'}, 'state_options': {'type': 'array', 'items': {'type': 'string'}, 'description': 'Список возможных штатов, в которых мог родиться президент. Один из вариантов должен быть правильным.'}}, 'required': ['president', 'state_options']}), type='function')], truncation_strategy=TruncationStrategy(type='auto', last_messages=None), usage=None, temperature=0.0, top_p=1.0, tool_resources={})"
      ]
     },
     "execution_count": 32,
     "metadata": {},
     "output_type": "execute_result"
    }
   ],
   "source": [
    "run"
   ]
  },
  {
   "cell_type": "code",
   "execution_count": 33,
   "id": "03821dde",
   "metadata": {},
   "outputs": [],
   "source": [
    "thread_id=\"thread_Bvko9KrC4tFVCm34TitlDPSG\""
   ]
  },
  {
   "cell_type": "markdown",
   "id": "9bef1476-8567-49b8-90d2-fb5d121b60ce",
   "metadata": {},
   "source": [
    "**TASK: Create a new thread.**"
   ]
  },
  {
   "cell_type": "code",
   "execution_count": 34,
   "id": "203d9c10-de3f-4870-ba22-c57c53765b04",
   "metadata": {},
   "outputs": [],
   "source": [
    "# CODE HERE\n",
    "import time\n",
    "\n",
    "def wait_on_run(run, thread):\n",
    "    while run.status == \"queued\" or run.status == \"in_progress\":\n",
    "        run = client.beta.threads.runs.retrieve(\n",
    "            thread_id=thread,\n",
    "            run_id=run.id,\n",
    "        )\n",
    "        print(run.status)\n",
    "        time.sleep(0.5)\n",
    "    return run"
   ]
  },
  {
   "cell_type": "code",
   "execution_count": 35,
   "id": "2c19a9da-c946-4f08-9263-78393cf87495",
   "metadata": {},
   "outputs": [
    {
     "name": "stdout",
     "output_type": "stream",
     "text": [
      "requires_action\n"
     ]
    }
   ],
   "source": [
    "run = wait_on_run(run,thread_id)"
   ]
  },
  {
   "cell_type": "code",
   "execution_count": 19,
   "id": "eea3b311",
   "metadata": {},
   "outputs": [
    {
     "data": {
      "text/plain": [
       "Run(id='run_LoJImShTDayez14zqAKAHH4e', assistant_id='asst_yEqI1lwfIUVkrRAJ114rfd7e', cancelled_at=None, completed_at=None, created_at=1716026205, expires_at=1716026805, failed_at=None, incomplete_details=None, instructions='Вы помогаете создать тест для проверки определений слов, предоставляя слово, а затем несколько вариантов определений, где только один вариант является правильным. Пишите только на РУССКОМ ЯЗЫКЕ', last_error=None, max_completion_tokens=None, max_prompt_tokens=None, metadata={}, model='gpt-3.5-turbo-0125', object='thread.run', required_action=RequiredAction(submit_tool_outputs=RequiredActionSubmitToolOutputs(tool_calls=[RequiredActionFunctionToolCall(id='call_yuMEcBM0oxhnZfiK1oY2BE6t', function=Function(arguments='{\"president\": \"Джордж Вашингтон\", \"state_options\": [\"Вирджиния\", \"Техас\", \"Флорида\", \"Калифорния\"]}', name='president_home_state'), type='function'), RequiredActionFunctionToolCall(id='call_xio6HG7PsAYW4twmG2QHzZUz', function=Function(arguments='{\"president\": \"Авраам Линкольн\", \"state_options\": [\"Иллинойс\", \"Огайо\", \"Пенсильвания\", \"Мичиган\"]}', name='president_home_state'), type='function'), RequiredActionFunctionToolCall(id='call_OHf9nAioKJ28TMtul2GXvLad', function=Function(arguments='{\"president\": \"Джон Кеннеди\", \"state_options\": [\"Массачусетс\", \"Техас\", \"Нью-Йорк\", \"Калифорния\"]}', name='president_home_state'), type='function')]), type='submit_tool_outputs'), response_format='auto', started_at=1716026206, status='requires_action', thread_id='thread_QTNl5VcPxSoSlbkAeOlYQmW2', tool_choice='auto', tools=[FunctionTool(function=FunctionDefinition(name='president_home_state', description='Функция создает интерактивный тест с вопросом о месте рождения президента США и предоставляет список вариантов ответов для выбора.', parameters={'type': 'object', 'properties': {'president': {'type': 'string', 'description': 'Имя бывшего или действующего президента США, о котором задается вопрос в тесте.'}, 'state_options': {'type': 'array', 'items': {'type': 'string'}, 'description': 'Список возможных штатов, в которых мог родиться президент. Один из вариантов должен быть правильным.'}}, 'required': ['president', 'state_options']}), type='function')], truncation_strategy=TruncationStrategy(type='auto', last_messages=None), usage=None, temperature=0.0, top_p=1.0, tool_resources={})"
      ]
     },
     "execution_count": 19,
     "metadata": {},
     "output_type": "execute_result"
    }
   ],
   "source": [
    "run"
   ]
  },
  {
   "cell_type": "markdown",
   "id": "a0924a41-0db9-41c5-a0d8-9275da34f29d",
   "metadata": {},
   "source": [
    "**Задание: Создайте новое сообщение с запросом на нового президента США и список вариантов штатов. Затем сообщите модели, что позже отправите ответ, и попросите помощника проверить правильность сообщения**."
   ]
  },
  {
   "cell_type": "code",
   "execution_count": 36,
   "id": "3925f440-840c-4586-8022-a0ade1cc2eba",
   "metadata": {},
   "outputs": [
    {
     "ename": "AttributeError",
     "evalue": "'list' object has no attribute 'function'",
     "output_type": "error",
     "traceback": [
      "\u001b[0;31m---------------------------------------------------------------------------\u001b[0m",
      "\u001b[0;31mAttributeError\u001b[0m                            Traceback (most recent call last)",
      "Cell \u001b[0;32mIn[36], line 5\u001b[0m\n\u001b[1;32m      3\u001b[0m \u001b[38;5;66;03m# Extract single tool call\u001b[39;00m\n\u001b[1;32m      4\u001b[0m tool_call \u001b[38;5;241m=\u001b[39m run\u001b[38;5;241m.\u001b[39mrequired_action\u001b[38;5;241m.\u001b[39msubmit_tool_outputs\u001b[38;5;241m.\u001b[39mtool_calls\n\u001b[0;32m----> 5\u001b[0m name \u001b[38;5;241m=\u001b[39m \u001b[43mtool_call\u001b[49m\u001b[38;5;241;43m.\u001b[39;49m\u001b[43mfunction\u001b[49m\u001b[38;5;241m.\u001b[39mname\n\u001b[1;32m      6\u001b[0m arguments \u001b[38;5;241m=\u001b[39m json\u001b[38;5;241m.\u001b[39mloads(tool_call\u001b[38;5;241m.\u001b[39mfunction\u001b[38;5;241m.\u001b[39marguments)\n\u001b[1;32m      8\u001b[0m \u001b[38;5;28mprint\u001b[39m(\u001b[38;5;124m\"\u001b[39m\u001b[38;5;124mFunction Name:\u001b[39m\u001b[38;5;124m\"\u001b[39m, name)\n",
      "\u001b[0;31mAttributeError\u001b[0m: 'list' object has no attribute 'function'"
     ]
    }
   ],
   "source": [
    "import json\n",
    "\n",
    "# Extract single tool call\n",
    "tool_call = run.required_action.submit_tool_outputs.tool_calls[1]\n",
    "name = tool_call.function.name\n",
    "arguments = json.loads(tool_call.function.arguments)\n",
    "\n",
    "print(\"Function Name:\", name)\n",
    "print(\"Function Arguments:\")\n",
    "arguments"
   ]
  },
  {
   "cell_type": "code",
   "execution_count": 25,
   "id": "74735112-6fe0-4aea-9e8e-51042391ea1c",
   "metadata": {},
   "outputs": [
    {
     "name": "stdout",
     "output_type": "stream",
     "text": [
      "Привет! Давайте проверим ваши знания о штатах, где родились президенты США!\n",
      "В каком штате родился этот президент: Джордж Вашингтон\n",
      "\n",
      "\n",
      "\n",
      "Определение #0 это: Вирджиния\n",
      "\n",
      "\n",
      "Определение #1 это: Техас\n",
      "\n",
      "\n",
      "Определение #2 это: Флорида\n",
      "\n",
      "\n",
      "Определение #3 это: Калифорния\n",
      "\n",
      "\n"
     ]
    }
   ],
   "source": [
    "answer = president_home_state(arguments['president'],arguments['state_options'])"
   ]
  },
  {
   "cell_type": "markdown",
   "id": "1746b630-9afa-42bf-a636-ad88a148e0f5",
   "metadata": {},
   "source": [
    "**TASK: Run the thread with the assistant.**"
   ]
  },
  {
   "cell_type": "code",
   "execution_count": 26,
   "id": "b72dc2dc-6d6e-4668-a0d9-eb9a82221051",
   "metadata": {},
   "outputs": [
    {
     "data": {
      "text/plain": [
       "'Техас'"
      ]
     },
     "execution_count": 26,
     "metadata": {},
     "output_type": "execute_result"
    }
   ],
   "source": [
    "answer"
   ]
  },
  {
   "cell_type": "code",
   "execution_count": null,
   "id": "5a783a13",
   "metadata": {},
   "outputs": [],
   "source": [
    "import json\n",
    "\n",
    "tool_calls = run.required_action.submit_tool_outputs.tool_calls\n",
    "tool_outputs = []\n",
    "\n",
    "# Обрабатываем каждый вызов функции\n",
    "for tool_call in tool_calls:\n",
    "    function_name = tool_call.function.name\n",
    "    function_args = json.loads(tool_call.function.arguments)\n",
    "    \n",
    "    # Вызываем функцию и получаем результат\n",
    "    result = president_home_state(**function_args) \n",
    "    \n",
    "    # Получаем ответ пользователя и проверяем его\n",
    "    user_answer = input(\"Ваш ответ: \")\n",
    "    correct_answer = function_args[\"state_options\"][0] \n",
    "    is_correct = user_answer.lower() == correct_answer.lower()\n",
    "    \n",
    "    tool_outputs.append(\n",
    "        {\n",
    "            \"tool_call_id\": tool_call.id,\n",
    "            \"output\": json.dumps({\"answer\": result, \"is_correct\": is_correct}), \n",
    "        }\n",
    "    )\n",
    "\n",
    "# Отправляем результаты всех вызовов функций\n",
    "run = client.beta.threads.runs.submit_tool_outputs(\n",
    "    thread_id=thread_id,\n",
    "    run_id=run.id,\n",
    "    tool_outputs=tool_outputs\n",
    ")\n"
   ]
  },
  {
   "cell_type": "code",
   "execution_count": 39,
   "id": "da916ca0",
   "metadata": {},
   "outputs": [
    {
     "data": {
      "text/plain": [
       "[RequiredActionFunctionToolCall(id='call_YevN3L96mK0Fv1Idopl9gTM7', function=Function(arguments='{\"president\": \"Джордж Вашингтон\", \"state_options\": [\"Вирджиния\", \"Техас\", \"Флорида\", \"Калифорния\"]}', name='president_home_state'), type='function'),\n",
       " RequiredActionFunctionToolCall(id='call_a2Jiiisasy8emYfP27zclsTF', function=Function(arguments='{\"president\": \"Авраам Линкольн\", \"state_options\": [\"Иллинойс\", \"Огайо\", \"Пенсильвания\", \"Мичиган\"]}', name='president_home_state'), type='function'),\n",
       " RequiredActionFunctionToolCall(id='call_AgHWcC1CYAz572GqJqMrmhFz', function=Function(arguments='{\"president\": \"Джон Кеннеди\", \"state_options\": [\"Массачусетс\", \"Вашингтон\", \"Нью-Йорк\", \"Техас\"]}', name='president_home_state'), type='function')]"
      ]
     },
     "execution_count": 39,
     "metadata": {},
     "output_type": "execute_result"
    }
   ],
   "source": [
    "tool_calls"
   ]
  },
  {
   "cell_type": "code",
   "execution_count": 38,
   "id": "27a2a639-b7f1-4cea-bafc-5c3a4dae8970",
   "metadata": {},
   "outputs": [
    {
     "ename": "BadRequestError",
     "evalue": "Error code: 400 - {'error': {'message': \"Expected tool outputs for call_ids ['call_YevN3L96mK0Fv1Idopl9gTM7', 'call_a2Jiiisasy8emYfP27zclsTF', 'call_AgHWcC1CYAz572GqJqMrmhFz'], got ['call_AgHWcC1CYAz572GqJqMrmhFz']\", 'type': 'invalid_request_error', 'param': None, 'code': None}}",
     "output_type": "error",
     "traceback": [
      "\u001b[0;31m---------------------------------------------------------------------------\u001b[0m",
      "\u001b[0;31mBadRequestError\u001b[0m                           Traceback (most recent call last)",
      "Cell \u001b[0;32mIn[38], line 1\u001b[0m\n\u001b[0;32m----> 1\u001b[0m run \u001b[38;5;241m=\u001b[39m \u001b[43mclient\u001b[49m\u001b[38;5;241;43m.\u001b[39;49m\u001b[43mbeta\u001b[49m\u001b[38;5;241;43m.\u001b[39;49m\u001b[43mthreads\u001b[49m\u001b[38;5;241;43m.\u001b[39;49m\u001b[43mruns\u001b[49m\u001b[38;5;241;43m.\u001b[39;49m\u001b[43msubmit_tool_outputs\u001b[49m\u001b[43m(\u001b[49m\n\u001b[1;32m      2\u001b[0m \u001b[43m    \u001b[49m\u001b[43mthread_id\u001b[49m\u001b[38;5;241;43m=\u001b[39;49m\u001b[43mthread_id\u001b[49m\u001b[43m,\u001b[49m\n\u001b[1;32m      3\u001b[0m \u001b[43m    \u001b[49m\u001b[43mrun_id\u001b[49m\u001b[38;5;241;43m=\u001b[39;49m\u001b[43mrun\u001b[49m\u001b[38;5;241;43m.\u001b[39;49m\u001b[43mid\u001b[49m\u001b[43m,\u001b[49m\n\u001b[1;32m      4\u001b[0m \u001b[43m    \u001b[49m\u001b[43mtool_outputs\u001b[49m\u001b[38;5;241;43m=\u001b[39;49m\u001b[43m[\u001b[49m\n\u001b[1;32m      5\u001b[0m \u001b[43m        \u001b[49m\u001b[43m{\u001b[49m\n\u001b[1;32m      6\u001b[0m \u001b[43m            \u001b[49m\u001b[38;5;124;43m\"\u001b[39;49m\u001b[38;5;124;43mtool_call_id\u001b[39;49m\u001b[38;5;124;43m\"\u001b[39;49m\u001b[43m:\u001b[49m\u001b[43m \u001b[49m\u001b[43mtool_call\u001b[49m\u001b[38;5;241;43m.\u001b[39;49m\u001b[43mid\u001b[49m\u001b[43m,\u001b[49m\n\u001b[1;32m      7\u001b[0m \u001b[43m            \u001b[49m\u001b[38;5;124;43m\"\u001b[39;49m\u001b[38;5;124;43moutput\u001b[39;49m\u001b[38;5;124;43m\"\u001b[39;49m\u001b[43m:\u001b[49m\u001b[43m \u001b[49m\u001b[43mjson\u001b[49m\u001b[38;5;241;43m.\u001b[39;49m\u001b[43mdumps\u001b[49m\u001b[43m(\u001b[49m\u001b[43manswer\u001b[49m\u001b[43m)\u001b[49m\u001b[43m,\u001b[49m\n\u001b[1;32m      8\u001b[0m \u001b[43m        \u001b[49m\u001b[43m}\u001b[49m\n\u001b[1;32m      9\u001b[0m \u001b[43m    \u001b[49m\u001b[43m]\u001b[49m\u001b[43m,\u001b[49m\n\u001b[1;32m     10\u001b[0m \u001b[43m)\u001b[49m\n",
      "File \u001b[0;32m~/Documents/Chat_GPT_Stable diffusion_laerning/OpenAI_Assistant_test_notebooks/venv/lib/python3.11/site-packages/openai/_utils/_utils.py:277\u001b[0m, in \u001b[0;36mrequired_args.<locals>.inner.<locals>.wrapper\u001b[0;34m(*args, **kwargs)\u001b[0m\n\u001b[1;32m    275\u001b[0m             msg \u001b[38;5;241m=\u001b[39m \u001b[38;5;124mf\u001b[39m\u001b[38;5;124m\"\u001b[39m\u001b[38;5;124mMissing required argument: \u001b[39m\u001b[38;5;132;01m{\u001b[39;00mquote(missing[\u001b[38;5;241m0\u001b[39m])\u001b[38;5;132;01m}\u001b[39;00m\u001b[38;5;124m\"\u001b[39m\n\u001b[1;32m    276\u001b[0m     \u001b[38;5;28;01mraise\u001b[39;00m \u001b[38;5;167;01mTypeError\u001b[39;00m(msg)\n\u001b[0;32m--> 277\u001b[0m \u001b[38;5;28;01mreturn\u001b[39;00m \u001b[43mfunc\u001b[49m\u001b[43m(\u001b[49m\u001b[38;5;241;43m*\u001b[39;49m\u001b[43margs\u001b[49m\u001b[43m,\u001b[49m\u001b[43m \u001b[49m\u001b[38;5;241;43m*\u001b[39;49m\u001b[38;5;241;43m*\u001b[39;49m\u001b[43mkwargs\u001b[49m\u001b[43m)\u001b[49m\n",
      "File \u001b[0;32m~/Documents/Chat_GPT_Stable diffusion_laerning/OpenAI_Assistant_test_notebooks/venv/lib/python3.11/site-packages/openai/resources/beta/threads/runs/runs.py:1443\u001b[0m, in \u001b[0;36mRuns.submit_tool_outputs\u001b[0;34m(self, run_id, thread_id, tool_outputs, stream, extra_headers, extra_query, extra_body, timeout)\u001b[0m\n\u001b[1;32m   1441\u001b[0m     \u001b[38;5;28;01mraise\u001b[39;00m \u001b[38;5;167;01mValueError\u001b[39;00m(\u001b[38;5;124mf\u001b[39m\u001b[38;5;124m\"\u001b[39m\u001b[38;5;124mExpected a non-empty value for `run_id` but received \u001b[39m\u001b[38;5;132;01m{\u001b[39;00mrun_id\u001b[38;5;132;01m!r}\u001b[39;00m\u001b[38;5;124m\"\u001b[39m)\n\u001b[1;32m   1442\u001b[0m extra_headers \u001b[38;5;241m=\u001b[39m {\u001b[38;5;124m\"\u001b[39m\u001b[38;5;124mOpenAI-Beta\u001b[39m\u001b[38;5;124m\"\u001b[39m: \u001b[38;5;124m\"\u001b[39m\u001b[38;5;124massistants=v2\u001b[39m\u001b[38;5;124m\"\u001b[39m, \u001b[38;5;241m*\u001b[39m\u001b[38;5;241m*\u001b[39m(extra_headers \u001b[38;5;129;01mor\u001b[39;00m {})}\n\u001b[0;32m-> 1443\u001b[0m \u001b[38;5;28;01mreturn\u001b[39;00m \u001b[38;5;28;43mself\u001b[39;49m\u001b[38;5;241;43m.\u001b[39;49m\u001b[43m_post\u001b[49m\u001b[43m(\u001b[49m\n\u001b[1;32m   1444\u001b[0m \u001b[43m    \u001b[49m\u001b[38;5;124;43mf\u001b[39;49m\u001b[38;5;124;43m\"\u001b[39;49m\u001b[38;5;124;43m/threads/\u001b[39;49m\u001b[38;5;132;43;01m{\u001b[39;49;00m\u001b[43mthread_id\u001b[49m\u001b[38;5;132;43;01m}\u001b[39;49;00m\u001b[38;5;124;43m/runs/\u001b[39;49m\u001b[38;5;132;43;01m{\u001b[39;49;00m\u001b[43mrun_id\u001b[49m\u001b[38;5;132;43;01m}\u001b[39;49;00m\u001b[38;5;124;43m/submit_tool_outputs\u001b[39;49m\u001b[38;5;124;43m\"\u001b[39;49m\u001b[43m,\u001b[49m\n\u001b[1;32m   1445\u001b[0m \u001b[43m    \u001b[49m\u001b[43mbody\u001b[49m\u001b[38;5;241;43m=\u001b[39;49m\u001b[43mmaybe_transform\u001b[49m\u001b[43m(\u001b[49m\n\u001b[1;32m   1446\u001b[0m \u001b[43m        \u001b[49m\u001b[43m{\u001b[49m\n\u001b[1;32m   1447\u001b[0m \u001b[43m            \u001b[49m\u001b[38;5;124;43m\"\u001b[39;49m\u001b[38;5;124;43mtool_outputs\u001b[39;49m\u001b[38;5;124;43m\"\u001b[39;49m\u001b[43m:\u001b[49m\u001b[43m \u001b[49m\u001b[43mtool_outputs\u001b[49m\u001b[43m,\u001b[49m\n\u001b[1;32m   1448\u001b[0m \u001b[43m            \u001b[49m\u001b[38;5;124;43m\"\u001b[39;49m\u001b[38;5;124;43mstream\u001b[39;49m\u001b[38;5;124;43m\"\u001b[39;49m\u001b[43m:\u001b[49m\u001b[43m \u001b[49m\u001b[43mstream\u001b[49m\u001b[43m,\u001b[49m\n\u001b[1;32m   1449\u001b[0m \u001b[43m        \u001b[49m\u001b[43m}\u001b[49m\u001b[43m,\u001b[49m\n\u001b[1;32m   1450\u001b[0m \u001b[43m        \u001b[49m\u001b[43mrun_submit_tool_outputs_params\u001b[49m\u001b[38;5;241;43m.\u001b[39;49m\u001b[43mRunSubmitToolOutputsParams\u001b[49m\u001b[43m,\u001b[49m\n\u001b[1;32m   1451\u001b[0m \u001b[43m    \u001b[49m\u001b[43m)\u001b[49m\u001b[43m,\u001b[49m\n\u001b[1;32m   1452\u001b[0m \u001b[43m    \u001b[49m\u001b[43moptions\u001b[49m\u001b[38;5;241;43m=\u001b[39;49m\u001b[43mmake_request_options\u001b[49m\u001b[43m(\u001b[49m\n\u001b[1;32m   1453\u001b[0m \u001b[43m        \u001b[49m\u001b[43mextra_headers\u001b[49m\u001b[38;5;241;43m=\u001b[39;49m\u001b[43mextra_headers\u001b[49m\u001b[43m,\u001b[49m\u001b[43m \u001b[49m\u001b[43mextra_query\u001b[49m\u001b[38;5;241;43m=\u001b[39;49m\u001b[43mextra_query\u001b[49m\u001b[43m,\u001b[49m\u001b[43m \u001b[49m\u001b[43mextra_body\u001b[49m\u001b[38;5;241;43m=\u001b[39;49m\u001b[43mextra_body\u001b[49m\u001b[43m,\u001b[49m\u001b[43m \u001b[49m\u001b[43mtimeout\u001b[49m\u001b[38;5;241;43m=\u001b[39;49m\u001b[43mtimeout\u001b[49m\n\u001b[1;32m   1454\u001b[0m \u001b[43m    \u001b[49m\u001b[43m)\u001b[49m\u001b[43m,\u001b[49m\n\u001b[1;32m   1455\u001b[0m \u001b[43m    \u001b[49m\u001b[43mcast_to\u001b[49m\u001b[38;5;241;43m=\u001b[39;49m\u001b[43mRun\u001b[49m\u001b[43m,\u001b[49m\n\u001b[1;32m   1456\u001b[0m \u001b[43m    \u001b[49m\u001b[43mstream\u001b[49m\u001b[38;5;241;43m=\u001b[39;49m\u001b[43mstream\u001b[49m\u001b[43m \u001b[49m\u001b[38;5;129;43;01mor\u001b[39;49;00m\u001b[43m \u001b[49m\u001b[38;5;28;43;01mFalse\u001b[39;49;00m\u001b[43m,\u001b[49m\n\u001b[1;32m   1457\u001b[0m \u001b[43m    \u001b[49m\u001b[43mstream_cls\u001b[49m\u001b[38;5;241;43m=\u001b[39;49m\u001b[43mStream\u001b[49m\u001b[43m[\u001b[49m\u001b[43mAssistantStreamEvent\u001b[49m\u001b[43m]\u001b[49m\u001b[43m,\u001b[49m\n\u001b[1;32m   1458\u001b[0m \u001b[43m\u001b[49m\u001b[43m)\u001b[49m\n",
      "File \u001b[0;32m~/Documents/Chat_GPT_Stable diffusion_laerning/OpenAI_Assistant_test_notebooks/venv/lib/python3.11/site-packages/openai/_base_client.py:1240\u001b[0m, in \u001b[0;36mSyncAPIClient.post\u001b[0;34m(self, path, cast_to, body, options, files, stream, stream_cls)\u001b[0m\n\u001b[1;32m   1226\u001b[0m \u001b[38;5;28;01mdef\u001b[39;00m \u001b[38;5;21mpost\u001b[39m(\n\u001b[1;32m   1227\u001b[0m     \u001b[38;5;28mself\u001b[39m,\n\u001b[1;32m   1228\u001b[0m     path: \u001b[38;5;28mstr\u001b[39m,\n\u001b[0;32m   (...)\u001b[0m\n\u001b[1;32m   1235\u001b[0m     stream_cls: \u001b[38;5;28mtype\u001b[39m[_StreamT] \u001b[38;5;241m|\u001b[39m \u001b[38;5;28;01mNone\u001b[39;00m \u001b[38;5;241m=\u001b[39m \u001b[38;5;28;01mNone\u001b[39;00m,\n\u001b[1;32m   1236\u001b[0m ) \u001b[38;5;241m-\u001b[39m\u001b[38;5;241m>\u001b[39m ResponseT \u001b[38;5;241m|\u001b[39m _StreamT:\n\u001b[1;32m   1237\u001b[0m     opts \u001b[38;5;241m=\u001b[39m FinalRequestOptions\u001b[38;5;241m.\u001b[39mconstruct(\n\u001b[1;32m   1238\u001b[0m         method\u001b[38;5;241m=\u001b[39m\u001b[38;5;124m\"\u001b[39m\u001b[38;5;124mpost\u001b[39m\u001b[38;5;124m\"\u001b[39m, url\u001b[38;5;241m=\u001b[39mpath, json_data\u001b[38;5;241m=\u001b[39mbody, files\u001b[38;5;241m=\u001b[39mto_httpx_files(files), \u001b[38;5;241m*\u001b[39m\u001b[38;5;241m*\u001b[39moptions\n\u001b[1;32m   1239\u001b[0m     )\n\u001b[0;32m-> 1240\u001b[0m     \u001b[38;5;28;01mreturn\u001b[39;00m cast(ResponseT, \u001b[38;5;28;43mself\u001b[39;49m\u001b[38;5;241;43m.\u001b[39;49m\u001b[43mrequest\u001b[49m\u001b[43m(\u001b[49m\u001b[43mcast_to\u001b[49m\u001b[43m,\u001b[49m\u001b[43m \u001b[49m\u001b[43mopts\u001b[49m\u001b[43m,\u001b[49m\u001b[43m \u001b[49m\u001b[43mstream\u001b[49m\u001b[38;5;241;43m=\u001b[39;49m\u001b[43mstream\u001b[49m\u001b[43m,\u001b[49m\u001b[43m \u001b[49m\u001b[43mstream_cls\u001b[49m\u001b[38;5;241;43m=\u001b[39;49m\u001b[43mstream_cls\u001b[49m\u001b[43m)\u001b[49m)\n",
      "File \u001b[0;32m~/Documents/Chat_GPT_Stable diffusion_laerning/OpenAI_Assistant_test_notebooks/venv/lib/python3.11/site-packages/openai/_base_client.py:921\u001b[0m, in \u001b[0;36mSyncAPIClient.request\u001b[0;34m(self, cast_to, options, remaining_retries, stream, stream_cls)\u001b[0m\n\u001b[1;32m    912\u001b[0m \u001b[38;5;28;01mdef\u001b[39;00m \u001b[38;5;21mrequest\u001b[39m(\n\u001b[1;32m    913\u001b[0m     \u001b[38;5;28mself\u001b[39m,\n\u001b[1;32m    914\u001b[0m     cast_to: Type[ResponseT],\n\u001b[0;32m   (...)\u001b[0m\n\u001b[1;32m    919\u001b[0m     stream_cls: \u001b[38;5;28mtype\u001b[39m[_StreamT] \u001b[38;5;241m|\u001b[39m \u001b[38;5;28;01mNone\u001b[39;00m \u001b[38;5;241m=\u001b[39m \u001b[38;5;28;01mNone\u001b[39;00m,\n\u001b[1;32m    920\u001b[0m ) \u001b[38;5;241m-\u001b[39m\u001b[38;5;241m>\u001b[39m ResponseT \u001b[38;5;241m|\u001b[39m _StreamT:\n\u001b[0;32m--> 921\u001b[0m     \u001b[38;5;28;01mreturn\u001b[39;00m \u001b[38;5;28;43mself\u001b[39;49m\u001b[38;5;241;43m.\u001b[39;49m\u001b[43m_request\u001b[49m\u001b[43m(\u001b[49m\n\u001b[1;32m    922\u001b[0m \u001b[43m        \u001b[49m\u001b[43mcast_to\u001b[49m\u001b[38;5;241;43m=\u001b[39;49m\u001b[43mcast_to\u001b[49m\u001b[43m,\u001b[49m\n\u001b[1;32m    923\u001b[0m \u001b[43m        \u001b[49m\u001b[43moptions\u001b[49m\u001b[38;5;241;43m=\u001b[39;49m\u001b[43moptions\u001b[49m\u001b[43m,\u001b[49m\n\u001b[1;32m    924\u001b[0m \u001b[43m        \u001b[49m\u001b[43mstream\u001b[49m\u001b[38;5;241;43m=\u001b[39;49m\u001b[43mstream\u001b[49m\u001b[43m,\u001b[49m\n\u001b[1;32m    925\u001b[0m \u001b[43m        \u001b[49m\u001b[43mstream_cls\u001b[49m\u001b[38;5;241;43m=\u001b[39;49m\u001b[43mstream_cls\u001b[49m\u001b[43m,\u001b[49m\n\u001b[1;32m    926\u001b[0m \u001b[43m        \u001b[49m\u001b[43mremaining_retries\u001b[49m\u001b[38;5;241;43m=\u001b[39;49m\u001b[43mremaining_retries\u001b[49m\u001b[43m,\u001b[49m\n\u001b[1;32m    927\u001b[0m \u001b[43m    \u001b[49m\u001b[43m)\u001b[49m\n",
      "File \u001b[0;32m~/Documents/Chat_GPT_Stable diffusion_laerning/OpenAI_Assistant_test_notebooks/venv/lib/python3.11/site-packages/openai/_base_client.py:1020\u001b[0m, in \u001b[0;36mSyncAPIClient._request\u001b[0;34m(self, cast_to, options, remaining_retries, stream, stream_cls)\u001b[0m\n\u001b[1;32m   1017\u001b[0m         err\u001b[38;5;241m.\u001b[39mresponse\u001b[38;5;241m.\u001b[39mread()\n\u001b[1;32m   1019\u001b[0m     log\u001b[38;5;241m.\u001b[39mdebug(\u001b[38;5;124m\"\u001b[39m\u001b[38;5;124mRe-raising status error\u001b[39m\u001b[38;5;124m\"\u001b[39m)\n\u001b[0;32m-> 1020\u001b[0m     \u001b[38;5;28;01mraise\u001b[39;00m \u001b[38;5;28mself\u001b[39m\u001b[38;5;241m.\u001b[39m_make_status_error_from_response(err\u001b[38;5;241m.\u001b[39mresponse) \u001b[38;5;28;01mfrom\u001b[39;00m \u001b[38;5;28;01mNone\u001b[39;00m\n\u001b[1;32m   1022\u001b[0m \u001b[38;5;28;01mreturn\u001b[39;00m \u001b[38;5;28mself\u001b[39m\u001b[38;5;241m.\u001b[39m_process_response(\n\u001b[1;32m   1023\u001b[0m     cast_to\u001b[38;5;241m=\u001b[39mcast_to,\n\u001b[1;32m   1024\u001b[0m     options\u001b[38;5;241m=\u001b[39moptions,\n\u001b[0;32m   (...)\u001b[0m\n\u001b[1;32m   1027\u001b[0m     stream_cls\u001b[38;5;241m=\u001b[39mstream_cls,\n\u001b[1;32m   1028\u001b[0m )\n",
      "\u001b[0;31mBadRequestError\u001b[0m: Error code: 400 - {'error': {'message': \"Expected tool outputs for call_ids ['call_YevN3L96mK0Fv1Idopl9gTM7', 'call_a2Jiiisasy8emYfP27zclsTF', 'call_AgHWcC1CYAz572GqJqMrmhFz'], got ['call_AgHWcC1CYAz572GqJqMrmhFz']\", 'type': 'invalid_request_error', 'param': None, 'code': None}}"
     ]
    }
   ],
   "source": [
    "run = client.beta.threads.runs.submit_tool_outputs(\n",
    "    thread_id=thread_id,\n",
    "    run_id=run.id,\n",
    "    tool_outputs=[\n",
    "        {\n",
    "            \"tool_call_id\": tool_call.id,\n",
    "            \"output\": json.dumps(answer),\n",
    "        }\n",
    "    ],\n",
    ")"
   ]
  },
  {
   "cell_type": "markdown",
   "id": "0b899900-cb11-4462-90d8-1c77223a3948",
   "metadata": {},
   "source": [
    "**TASK: Confirm that the run.status requires action**"
   ]
  },
  {
   "cell_type": "code",
   "execution_count": 5,
   "id": "d82a0790-ae13-4268-9521-41c9fa264032",
   "metadata": {},
   "outputs": [],
   "source": [
    "#CODE HERE"
   ]
  },
  {
   "cell_type": "code",
   "execution_count": null,
   "id": "1bd08ec3-7095-44b4-9124-a4a3b59f5b44",
   "metadata": {},
   "outputs": [],
   "source": []
  },
  {
   "cell_type": "code",
   "execution_count": 66,
   "id": "d5a0a8f0-7211-4fa4-a659-34b31b8c9323",
   "metadata": {},
   "outputs": [],
   "source": []
  },
  {
   "cell_type": "code",
   "execution_count": 67,
   "id": "3c43327b-2684-4004-980a-a62681d754ea",
   "metadata": {},
   "outputs": [
    {
     "data": {
      "text/plain": [
       "'requires_action'"
      ]
     },
     "execution_count": 67,
     "metadata": {},
     "output_type": "execute_result"
    }
   ],
   "source": []
  },
  {
   "cell_type": "markdown",
   "id": "495b275c-894c-4f9c-a291-1cba3320c341",
   "metadata": {},
   "source": [
    "**TASK: Retrieve the Run result arguments for the tool and pass them into the president_home_state() function**"
   ]
  },
  {
   "cell_type": "code",
   "execution_count": 6,
   "id": "b6f9fe8b-f410-4ad2-9815-6686777997d1",
   "metadata": {},
   "outputs": [],
   "source": [
    "#CODE HERE"
   ]
  },
  {
   "cell_type": "code",
   "execution_count": 69,
   "id": "deb781de-f273-49e4-a8f1-c783d0402b68",
   "metadata": {},
   "outputs": [
    {
     "name": "stdout",
     "output_type": "stream",
     "text": [
      "Function Name: president_home_state\n",
      "Function Arguments:\n"
     ]
    },
    {
     "data": {
      "text/plain": [
       "{'president': 'Thomas Jefferson',\n",
       " 'state_options': ['Virginia', 'New York', 'California', 'Texas']}"
      ]
     },
     "execution_count": 69,
     "metadata": {},
     "output_type": "execute_result"
    }
   ],
   "source": []
  },
  {
   "cell_type": "code",
   "execution_count": 70,
   "id": "596f3546-4864-45e8-946f-21951afca1bd",
   "metadata": {},
   "outputs": [
    {
     "name": "stdout",
     "output_type": "stream",
     "text": [
      "Hello! Let's test your knowledge of the home states of US Presidents!\n",
      "In what state was this president born: Thomas Jefferson\n",
      "\n",
      "\n",
      "\n",
      "Definition #0 is: Virginia\n",
      "\n",
      "\n",
      "Definition #1 is: New York\n",
      "\n",
      "\n",
      "Definition #2 is: California\n",
      "\n",
      "\n",
      "Definition #3 is: Texas\n",
      "\n",
      "\n"
     ]
    },
    {
     "name": "stdout",
     "output_type": "stream",
     "text": [
      "What is your choice? (Return the single number option) 0\n"
     ]
    }
   ],
   "source": []
  },
  {
   "cell_type": "code",
   "execution_count": 71,
   "id": "d8ba15de-3144-411c-89f8-6bf6d48b3538",
   "metadata": {},
   "outputs": [
    {
     "data": {
      "text/plain": [
       "'Virginia'"
      ]
     },
     "execution_count": 71,
     "metadata": {},
     "output_type": "execute_result"
    }
   ],
   "source": []
  },
  {
   "cell_type": "markdown",
   "id": "cc8bf90d-e3f1-4d37-8152-3d7983fef954",
   "metadata": {},
   "source": [
    "**TASK: Return the local function response to the tool in the assistant.**"
   ]
  },
  {
   "cell_type": "code",
   "execution_count": 72,
   "id": "ccb548e4-07a6-4d35-91a1-76f65bd5d5e3",
   "metadata": {},
   "outputs": [],
   "source": [
    "#CODE HERE"
   ]
  },
  {
   "cell_type": "code",
   "execution_count": 73,
   "id": "309cc700-95d2-404e-a708-3696104dd6be",
   "metadata": {},
   "outputs": [],
   "source": []
  },
  {
   "cell_type": "code",
   "execution_count": 74,
   "id": "53399cc2-bada-467b-b441-b622bf6b87db",
   "metadata": {},
   "outputs": [],
   "source": []
  },
  {
   "cell_type": "code",
   "execution_count": 75,
   "id": "cc3103f9-c5fc-4dfa-90c8-54ceeaeaabcb",
   "metadata": {},
   "outputs": [
    {
     "data": {
      "text/plain": [
       "'completed'"
      ]
     },
     "execution_count": 75,
     "metadata": {},
     "output_type": "execute_result"
    }
   ],
   "source": []
  },
  {
   "cell_type": "markdown",
   "id": "60dd8c98-b289-4204-9479-c8c5b51bee2c",
   "metadata": {},
   "source": [
    "**TASK: Retrieve the Messages and see if you got the state correct!**"
   ]
  },
  {
   "cell_type": "code",
   "execution_count": 76,
   "id": "60ded469-bacf-426d-879d-2f31f43e1cc5",
   "metadata": {},
   "outputs": [],
   "source": [
    "#CODE HERE"
   ]
  },
  {
   "cell_type": "code",
   "execution_count": 77,
   "id": "8ca6df09-46d4-40dc-8a55-5ba6ae4bba95",
   "metadata": {},
   "outputs": [],
   "source": []
  },
  {
   "cell_type": "code",
   "execution_count": 78,
   "id": "76bf222a-7203-41a4-a49a-e1de8d715d0a",
   "metadata": {},
   "outputs": [
    {
     "name": "stdout",
     "output_type": "stream",
     "text": [
      "Yes, Thomas Jefferson was indeed born in Virginia. Well done!\n",
      "\n",
      "\n",
      "Was Thomas Jefferson born in Virginia?\n",
      "\n",
      "\n",
      "Create a new quiz question with a US President and a list of options for the home state of birth. Then I will reply with a single state and let me know if I got it right.\n",
      "\n",
      "\n"
     ]
    }
   ],
   "source": []
  },
  {
   "cell_type": "markdown",
   "id": "c0a94088-9f72-4e34-882a-170b99cc75dc",
   "metadata": {},
   "source": [
    "**TASK: Delete the Assistant**"
   ]
  },
  {
   "cell_type": "code",
   "execution_count": null,
   "id": "8a04c1f8-a785-4c15-b907-c9933280a628",
   "metadata": {},
   "outputs": [],
   "source": [
    "#CODE HERE"
   ]
  },
  {
   "cell_type": "code",
   "execution_count": null,
   "id": "9dd8bf24-1684-4d97-b62c-419c4945a927",
   "metadata": {},
   "outputs": [],
   "source": []
  },
  {
   "cell_type": "code",
   "execution_count": null,
   "id": "ad6a29f8-5215-4cda-ad27-72e9624a7bfd",
   "metadata": {},
   "outputs": [],
   "source": []
  }
 ],
 "metadata": {
  "kernelspec": {
   "display_name": "Python 3 (ipykernel)",
   "language": "python",
   "name": "python3"
  },
  "language_info": {
   "codemirror_mode": {
    "name": "ipython",
    "version": 3
   },
   "file_extension": ".py",
   "mimetype": "text/x-python",
   "name": "python",
   "nbconvert_exporter": "python",
   "pygments_lexer": "ipython3",
   "version": "3.11.4"
  }
 },
 "nbformat": 4,
 "nbformat_minor": 5
}
