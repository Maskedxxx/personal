{
 "cells": [
  {
   "cell_type": "markdown",
   "id": "9b61ca09-df53-48a9-ae2b-b80ce5f8eea0",
   "metadata": {},
   "source": [
    "<center><a href=\"https://www.pieriantraining.com/\" ><img src=\"../PTCenteredPurple.png\" alt=\"Pierian Training Logo\" /></a></center>\n"
   ]
  },
  {
   "cell_type": "markdown",
   "id": "57d7168f-2a41-4db5-9c24-6d57327de3e4",
   "metadata": {},
   "source": [
    "# Помощник с несколькими файлами\n",
    "\n",
    "Давайте представим, что вас только что взяли в команду руководителей новой компании: ACME Dog Food Corporation. Чтобы помочь ответить на вопросы, давайте создадим помощника с доступом к базе знаний, состоящей из множества корпоративных документов."
   ]
  },
  {
   "cell_type": "code",
   "execution_count": 1,
   "id": "f898d062-1611-46d4-9d63-ebd9e8d037c6",
   "metadata": {},
   "outputs": [],
   "source": [
    "from openai import OpenAI"
   ]
  },
  {
   "cell_type": "code",
   "execution_count": 3,
   "id": "db389007-29e3-45a4-b3ff-3c3e255b16a8",
   "metadata": {},
   "outputs": [],
   "source": [
    "client = OpenAI()"
   ]
  },
  {
   "cell_type": "markdown",
   "id": "050e7271-11fa-4f01-9b8e-0705d019183b",
   "metadata": {},
   "source": [
    "## Uploading Files"
   ]
  },
  {
   "cell_type": "code",
   "execution_count": 4,
   "id": "4c381293-de5a-4c26-9b4a-3d6de8e2f311",
   "metadata": {},
   "outputs": [],
   "source": [
    "import os"
   ]
  },
  {
   "cell_type": "code",
   "execution_count": 4,
   "id": "b6d7f796-b7be-4f48-919e-3d6c317a1bf2",
   "metadata": {},
   "outputs": [
    {
     "data": {
      "text/plain": [
       "['ACME Advertising Policy.pdf',\n",
       " 'ACME_Dog_Food_Ingredients.pdf',\n",
       " 'Corporate Travel Policy.pdf']"
      ]
     },
     "execution_count": 4,
     "metadata": {},
     "output_type": "execute_result"
    }
   ],
   "source": [
    "os.listdir('02-Multiple-Files/')"
   ]
  },
  {
   "cell_type": "code",
   "execution_count": 17,
   "id": "e35a1919-70fa-46c0-8b22-0128af019eb6",
   "metadata": {},
   "outputs": [],
   "source": [
    "files_to_upload = ['plan_in_sign.docx',\n",
    " 'plan_upay.docx',\n",
    " 'signs.docx']"
   ]
  },
  {
   "cell_type": "code",
   "execution_count": 18,
   "id": "eb386ab5-d7dc-4f3e-8202-7d556210b5c3",
   "metadata": {},
   "outputs": [],
   "source": [
    "def upload_assistant_file(filename):\n",
    "    file = client.files.create(\n",
    "      file=open('02-Assistant-with-Knowledge-Retrieval/'+filename, \"rb\"),\n",
    "      purpose='assistants'\n",
    "    )\n",
    "    print(file.id)"
   ]
  },
  {
   "cell_type": "code",
   "execution_count": 19,
   "id": "c69395c1-18ac-4d70-9b4d-6c6e88879399",
   "metadata": {},
   "outputs": [
    {
     "name": "stdout",
     "output_type": "stream",
     "text": [
      "file-cUcDly7V6HXXtlqNKpZ8fZgj\n",
      "file-rT4AxNGvSHIx3aHpXp9TICuk\n",
      "file-fkfew1ulliZgW2Fq8bVxgWFa\n"
     ]
    }
   ],
   "source": [
    "for file in files_to_upload:\n",
    "    upload_assistant_file(file)"
   ]
  },
  {
   "cell_type": "code",
   "execution_count": 20,
   "id": "a9ce1fe0-3ffe-45c4-9a39-180880dca162",
   "metadata": {},
   "outputs": [
    {
     "name": "stdout",
     "output_type": "stream",
     "text": [
      "Имя файла: signs.docx, ID файла: file-fkfew1ulliZgW2Fq8bVxgWFa\n",
      "Имя файла: plan_upay.docx, ID файла: file-rT4AxNGvSHIx3aHpXp9TICuk\n",
      "Имя файла: plan_in_sign.docx, ID файла: file-cUcDly7V6HXXtlqNKpZ8fZgj\n"
     ]
    }
   ],
   "source": [
    "for file in client.files.list():\n",
    "    print(f\"Имя файла: {file.filename}, ID файла: {file.id}\")"
   ]
  },
  {
   "cell_type": "code",
   "execution_count": 21,
   "id": "97493c65",
   "metadata": {},
   "outputs": [],
   "source": [
    "file_ids = [\n",
    "    \"file-fkfew1ulliZgW2Fq8bVxgWFa\",\n",
    "    \"file-rT4AxNGvSHIx3aHpXp9TICuk\",\n",
    "    \"file-cUcDly7V6HXXtlqNKpZ8fZgj\"\n",
    "]\n",
    "\n",
    "vector_store = client.beta.vector_stores.create(\n",
    "  name=\"Астрологические интерпритации\"\n",
    ")"
   ]
  },
  {
   "cell_type": "code",
   "execution_count": 38,
   "id": "94621036",
   "metadata": {},
   "outputs": [],
   "source": [
    "vs_id=(vector_store.id)"
   ]
  },
  {
   "cell_type": "code",
   "execution_count": 24,
   "id": "50a4aefa",
   "metadata": {},
   "outputs": [],
   "source": [
    "from datetime import datetime\n",
    "\n",
    "def load_files_to_vector_store(vector_store_id, file_ids):\n",
    "    \"\"\"\n",
    "    Загружает файлы в хранилище векторов.\n",
    "\n",
    "    Args:\n",
    "        vector_store_id: ID хранилища векторов.\n",
    "        file_ids: Список ID файлов.\n",
    "\n",
    "    Returns:\n",
    "        Объект ответа от API 'vector_stores.file_batches.create'.\n",
    "    \"\"\"\n",
    "    batch_name = f\"Загрузка файлов - {datetime.now().isoformat()}\"\n",
    "    print(f\"Начинаем загрузку файлов в хранилище векторов '{vector_store_id}' под названием '{batch_name}'.\")\n",
    "\n",
    "    batch = client.beta.vector_stores.file_batches.create(\n",
    "        vector_store_id=vector_store_id,\n",
    "        file_ids=file_ids\n",
    "    )\n",
    "\n",
    "    print(batch_name)\n",
    "    print(f\"Статус загрузки: {batch.status}\")\n",
    "    print(f\"Количество файлов в пакете: {batch.file_counts.total}\")\n",
    "    return batch\n"
   ]
  },
  {
   "cell_type": "code",
   "execution_count": 25,
   "id": "0ab0b4a5",
   "metadata": {},
   "outputs": [
    {
     "name": "stdout",
     "output_type": "stream",
     "text": [
      "Начинаем загрузку файлов в хранилище векторов 'vs_0iQPPjC37SiR3j0SfZpBi0FF' под названием 'Загрузка файлов - 2024-05-11T22:55:35.699846'.\n",
      "Загрузка файлов - 2024-05-11T22:55:35.699846\n",
      "Статус загрузки: in_progress\n",
      "Количество файлов в пакете: 3\n"
     ]
    }
   ],
   "source": [
    "batch = load_files_to_vector_store(vs_id, file_ids)"
   ]
  },
  {
   "cell_type": "code",
   "execution_count": 27,
   "id": "105bda35",
   "metadata": {},
   "outputs": [
    {
     "name": "stdout",
     "output_type": "stream",
     "text": [
      "Файлы успешно загружены!\n"
     ]
    }
   ],
   "source": [
    "def check_file_batch_status(vector_store_id, batch_id):\n",
    "  \"\"\"\n",
    "  Проверяет статус загрузки файлов в хранилище векторов.\n",
    "\n",
    "  Args:\n",
    "    vector_store_id: ID хранилища векторов.\n",
    "    batch_id: ID пакета загрузки файлов.\n",
    "\n",
    "  Returns:\n",
    "    Статус загрузки (например, \"completed\", \"in_progress\", \"failed\").\n",
    "  \"\"\"\n",
    "\n",
    "  vector_store_retrieve_file_batch = client.beta.vector_stores.file_batches.retrieve(\n",
    "      vector_store_id=vector_store_id,\n",
    "      batch_id=batch_id\n",
    "  )\n",
    "\n",
    "  return vector_store_retrieve_file_batch.status\n",
    "\n",
    "# Пример использования\n",
    "vector_store_id = \"vs_0iQPPjC37SiR3j0SfZpBi0FF\"\n",
    "batch_id = batch.id\n",
    "\n",
    "status = check_file_batch_status(vs_id, batch_id)\n",
    "\n",
    "if status == \"completed\":\n",
    "  print(\"Файлы успешно загружены!\")\n",
    "else:\n",
    "  print(f\"Результат: {status}\")"
   ]
  },
  {
   "cell_type": "markdown",
   "id": "b466fc91",
   "metadata": {},
   "source": [
    "## Проверяем что в нашей ВекБД хранятся именно наши файлы"
   ]
  },
  {
   "cell_type": "code",
   "execution_count": 50,
   "id": "95089edb",
   "metadata": {},
   "outputs": [
    {
     "name": "stdout",
     "output_type": "stream",
     "text": [
      "VectorStoreFileBatch(id='vsfb_dd3b90edf3a54a27a68f9cea35fca329', created_at=1715457582, file_counts=FileCounts(cancelled=0, completed=3, failed=0, in_progress=0, total=3), object='vector_store.file_batch', status='completed', vector_store_id='vs_0iQPPjC37SiR3j0SfZpBi0FF')\n"
     ]
    }
   ],
   "source": [
    "vector_store_file_batch = client.beta.vector_stores.file_batches.retrieve(\n",
    "  vector_store_id=vs_id,\n",
    "  batch_id=batch.id\n",
    ")\n",
    "print(vector_store_file_batch)"
   ]
  },
  {
   "cell_type": "markdown",
   "id": "0a5faa8d-fa70-4388-990d-1e65c01ceb73",
   "metadata": {},
   "source": [
    "## Adding Files for the Assistant \n",
    "\n",
    "1. **Assistant-Level Attachment**: When you attach a file at this level, it becomes a part of the Assistant's general knowledge base. This means the Assistant can access this information when responding to any query."
   ]
  },
  {
   "cell_type": "markdown",
   "id": "9b5bae4e",
   "metadata": {},
   "source": [
    "## Проверяем список своих агентов"
   ]
  },
  {
   "cell_type": "code",
   "execution_count": 70,
   "id": "42ddef1b",
   "metadata": {},
   "outputs": [
    {
     "name": "stdout",
     "output_type": "stream",
     "text": [
      "Assistant ID: asst_F3h4FrIhhkN9gpzfvK3aWxKd\n",
      "Instructions: Вы отвечаете на вопросы по тексту прелоставленных вам докуменов, отвечайте развернуто.\n",
      "Name: None\n",
      "---\n",
      "Assistant ID: asst_5wao97wKjIYCw2l0g0nS4cxI\n",
      "Instructions: Вы помощник в программировании языка Python и помогаете настроить VSCode,dds общаетесь с новичками в программировании.\n",
      "Name: помощник\n",
      "---\n",
      "Assistant ID: asst_yOEj5bDErckIQmWM0zgMdSVj\n",
      "Instructions: Вы отвечаете развернуто по вопросам ведической астрологии, ваш ответ строиться строго на предоставленных вам текстовых документах\n",
      "Name: Бот ведической астрологии\n",
      "---\n"
     ]
    }
   ],
   "source": [
    "from openai import OpenAI\n",
    "\n",
    "def print_assistant_info():\n",
    "\n",
    "    my_assistants = client.beta.assistants.list(\n",
    "        order=\"desc\",\n",
    "        limit=\"20\",\n",
    "    )\n",
    "\n",
    "    for assistant in my_assistants.data:\n",
    "        assistant_id = assistant.id\n",
    "        assistant_instructions = assistant.instructions\n",
    "        assistant_name = assistant.name\n",
    "\n",
    "        print(f\"Assistant ID: {assistant_id}\")\n",
    "        print(f\"Instructions: {assistant_instructions}\")\n",
    "        print(f\"Name: {assistant_name}\")\n",
    "        print(\"---\")\n",
    "\n",
    "# Вызов функции для вывода информации об ассистентах\n",
    "print_assistant_info()"
   ]
  },
  {
   "cell_type": "markdown",
   "id": "1d6cdf63",
   "metadata": {},
   "source": [
    "## Удаление ассистентов"
   ]
  },
  {
   "cell_type": "code",
   "execution_count": 35,
   "id": "095dcef4",
   "metadata": {},
   "outputs": [],
   "source": [
    "assistant_ids = [\"asst_OywtDLNTG9xNIr9uzgBqIxdo\", \"asst_id9UIqBRt68Ucthq2VJ7J80s\"]"
   ]
  },
  {
   "cell_type": "code",
   "execution_count": 36,
   "id": "9eb24cab",
   "metadata": {},
   "outputs": [
    {
     "name": "stdout",
     "output_type": "stream",
     "text": [
      "AssistantDeleted(id='asst_OywtDLNTG9xNIr9uzgBqIxdo', deleted=True, object='assistant.deleted')\n",
      "AssistantDeleted(id='asst_id9UIqBRt68Ucthq2VJ7J80s', deleted=True, object='assistant.deleted')\n"
     ]
    }
   ],
   "source": [
    "for assistant_id in assistant_ids:\n",
    "    response = client.beta.assistants.delete(assistant_id)\n",
    "    print(response)"
   ]
  },
  {
   "cell_type": "markdown",
   "id": "b1a09d49",
   "metadata": {},
   "source": [
    "## Создаем ассистента по нашу задачу, или делайем обновление предыдущего"
   ]
  },
  {
   "cell_type": "code",
   "execution_count": 48,
   "id": "5fe984b7-7897-473f-b31b-6dd2e3ed4f1c",
   "metadata": {},
   "outputs": [],
   "source": [
    "# Add the file to the assistant\n",
    "assistant = client.beta.assistants.update(\n",
    "  'asst_F3h4FrIhhkN9gpzfvK3aWxKd',\n",
    "  description=\" Агент RAG по документам астрологии\",\n",
    "  instructions=\"Вы отвечаете на вопросы по тексту прелоставленных вам докуменов, отвечайте развернуто.\",\n",
    "  model=\"gpt-3.5-turbo-1106\", # CHECK FOR ERROR IF YOU PROVIDE THE WRONG MODEL\n",
    "  tools=[{\"type\": \"file_search\"}],\n",
    "  tool_resources={\"file_search\": {\"vector_store_ids\": [vs_id]}},\n",
    "  temperature=0.3\n",
    ")"
   ]
  },
  {
   "cell_type": "markdown",
   "id": "10ca2ee1-5f5a-4de1-a4e3-8aec5a3b569b",
   "metadata": {},
   "source": [
    "## Run a Thread"
   ]
  },
  {
   "cell_type": "code",
   "execution_count": 51,
   "id": "b7de7048-854a-4123-9982-d16284061f98",
   "metadata": {},
   "outputs": [],
   "source": [
    "thread = client.beta.threads.create(\n",
    "    messages=[\n",
    "    {\n",
    "      \"role\": \"user\",\n",
    "      \"content\": \"Здравстуйте, вам сейчас будут заданы вопросы об астрологии.\",\n",
    "    },\n",
    "    {\n",
    "      \"role\": \"assistant\",\n",
    "      \"content\": \"Привет, я очень рад помочь, пожалуйста я жду ваши вопросы.\",\n",
    "    }\n",
    "  ],\n",
    "    tool_resources={\"file_search\": {\"vector_store_ids\": [vs_id]}},\n",
    ")"
   ]
  },
  {
   "cell_type": "code",
   "execution_count": 52,
   "id": "7b90ac64-4779-4182-a4eb-0b471b820e47",
   "metadata": {},
   "outputs": [],
   "source": [
    "message = client.beta.threads.messages.create(\n",
    "    thread_id=thread.id,\n",
    "    role=\"user\",\n",
    "    content=\"РАсскажите мне про планету ЛУНУ в Козероге, а так же какие Упайи для Луны требуются?\"\n",
    ")   "
   ]
  },
  {
   "cell_type": "code",
   "execution_count": 53,
   "id": "738b29c1-1008-4bdf-9f36-eac0cd36d427",
   "metadata": {},
   "outputs": [],
   "source": [
    "run = client.beta.threads.runs.create(\n",
    "  thread_id=thread.id,\n",
    "  assistant_id=assistant.id,\n",
    ")"
   ]
  },
  {
   "cell_type": "code",
   "execution_count": 54,
   "id": "a019c509-324b-42bb-9601-be425cc3461e",
   "metadata": {},
   "outputs": [
    {
     "name": "stdout",
     "output_type": "stream",
     "text": [
      "completed\n"
     ]
    }
   ],
   "source": [
    "run = client.beta.threads.runs.retrieve(\n",
    "  thread_id=thread.id,\n",
    "  run_id=run.id,\n",
    ")\n",
    "print(run.status)"
   ]
  },
  {
   "cell_type": "markdown",
   "id": "1e4109fa-134b-4212-8064-e5b68d3e56b4",
   "metadata": {},
   "source": [
    "Once the run is completed, let's get the messages"
   ]
  },
  {
   "cell_type": "code",
   "execution_count": 55,
   "id": "efff742f-baaf-4881-8d4e-2020deed8811",
   "metadata": {},
   "outputs": [],
   "source": [
    "messages = client.beta.threads.messages.list(\n",
    "    thread_id=thread.id, order=\"asc\",\n",
    ")"
   ]
  },
  {
   "cell_type": "code",
   "execution_count": 56,
   "id": "f828c888-0344-407b-8083-eb41e128958f",
   "metadata": {},
   "outputs": [
    {
     "name": "stdout",
     "output_type": "stream",
     "text": [
      "Message(id='msg_aS7t6b9euncZ0mFA2e0tj5pD', assistant_id=None, attachments=[], completed_at=None, content=[TextContentBlock(text=Text(annotations=[], value='Здравстуйте, вам сейчас будут заданы вопросы об астрологии.'), type='text')], created_at=1715504392, incomplete_at=None, incomplete_details=None, metadata={}, object='thread.message', role='user', run_id=None, status=None, thread_id='thread_03uu8MmiyzFpDiskBoIX19jO')\n",
      "\n",
      "\n",
      "Message(id='msg_yXfbDrEyZYWYo7rQgYPz6c4s', assistant_id=None, attachments=[], completed_at=None, content=[TextContentBlock(text=Text(annotations=[], value='Привет, я очень рад помочь, пожалуйста я жду ваши вопросы.'), type='text')], created_at=1715504392, incomplete_at=None, incomplete_details=None, metadata={}, object='thread.message', role='assistant', run_id=None, status=None, thread_id='thread_03uu8MmiyzFpDiskBoIX19jO')\n",
      "\n",
      "\n",
      "Message(id='msg_mfPtkrt81Hxx0pw6340gduWe', assistant_id=None, attachments=[], completed_at=None, content=[TextContentBlock(text=Text(annotations=[], value='РАсскажите мне про планету ЛУНУ в Козероге, а так же какие Упайи для Луны требуются?'), type='text')], created_at=1715504682, incomplete_at=None, incomplete_details=None, metadata={}, object='thread.message', role='user', run_id=None, status=None, thread_id='thread_03uu8MmiyzFpDiskBoIX19jO')\n",
      "\n",
      "\n",
      "Message(id='msg_jic0ARrmIZm44VPlPIqWp1PZ', assistant_id='asst_F3h4FrIhhkN9gpzfvK3aWxKd', attachments=[], completed_at=None, content=[TextContentBlock(text=Text(annotations=[], value='Планета Луна в знаке Козерога указывает на то, что человек может проявляться как холодный, расчетливый и независимый, но в то же время он может быть заботливым, добрым и организованным. Луна в этом положении также указывает на важность мнения и поддержки матери в сфере социальных достижений, а также на стремление доказать свою профессиональность и получить поддержку от матери в карьере .\\n\\nЧто касается Упайи для Луны, рекомендуется делать упайи по понедельникам, читать мантру \"ом намо бхагаватэ васудэвайя\" 108 раз с утра, поститься по понедельникам, употреблять масло гхи и теплое молоко на ночь, проявлять почтительное уважение к матери и детям, делать пожертвования в детские дома, сажать молочные деревья, носить серебро, лунный камень жемчуг и цвета: молочный, светлый, белый, серебристый, перламутровый, а также употреблять соленую еду  .\\n\\nЭти практики направлены на улучшение и усиление влияния Луны, а также на развитие позитивных качеств, свойственных этой планете.'), type='text')], created_at=1715504837, incomplete_at=None, incomplete_details=None, metadata={}, object='thread.message', role='assistant', run_id='run_SLtHCnDYlIRyu8od36J1tswo', status=None, thread_id='thread_03uu8MmiyzFpDiskBoIX19jO')\n",
      "\n",
      "\n"
     ]
    }
   ],
   "source": [
    "for message in messages:\n",
    "    print(message)\n",
    "    print('\\n')"
   ]
  },
  {
   "cell_type": "code",
   "execution_count": 68,
   "id": "b29c64d6",
   "metadata": {},
   "outputs": [],
   "source": [
    "run_steps = client.beta.threads.runs.steps.list(\n",
    "    thread_id=thread.id,\n",
    "    run_id=run.id\n",
    ")"
   ]
  },
  {
   "cell_type": "code",
   "execution_count": 69,
   "id": "1a12669d",
   "metadata": {},
   "outputs": [
    {
     "name": "stdout",
     "output_type": "stream",
     "text": [
      "{\n",
      "  \"data\": [\n",
      "    {\n",
      "      \"id\": \"step_GpF4QLRo5qYfO3NX0znw0ZYw\",\n",
      "      \"assistant_id\": \"asst_F3h4FrIhhkN9gpzfvK3aWxKd\",\n",
      "      \"cancelled_at\": null,\n",
      "      \"completed_at\": 1715506210,\n",
      "      \"created_at\": 1715506204,\n",
      "      \"failed_at\": null,\n",
      "      \"last_error\": null,\n",
      "      \"object\": \"thread.run.step\",\n",
      "      \"run_id\": \"run_uibEj7JSt0Md7pmtvy2v6Ya0\",\n",
      "      \"status\": \"completed\",\n",
      "      \"step_details\": {\n",
      "        \"message_creation\": {\n",
      "          \"message_id\": \"msg_m04ydSPUR0FeLAFEqrAuhmYu\"\n",
      "        },\n",
      "        \"type\": \"message_creation\"\n",
      "      },\n",
      "      \"thread_id\": \"thread_03uu8MmiyzFpDiskBoIX19jO\",\n",
      "      \"type\": \"message_creation\",\n",
      "      \"usage\": {\n",
      "        \"completion_tokens\": 661,\n",
      "        \"prompt_tokens\": 4976,\n",
      "        \"total_tokens\": 5637\n",
      "      },\n",
      "      \"expires_at\": null\n",
      "    },\n",
      "    {\n",
      "      \"id\": \"step_SVL45BWPd7ASQRrL2kAKdQM3\",\n",
      "      \"assistant_id\": \"asst_F3h4FrIhhkN9gpzfvK3aWxKd\",\n",
      "      \"cancelled_at\": null,\n",
      "      \"completed_at\": 1715506204,\n",
      "      \"created_at\": 1715506202,\n",
      "      \"failed_at\": null,\n",
      "      \"last_error\": null,\n",
      "      \"object\": \"thread.run.step\",\n",
      "      \"run_id\": \"run_uibEj7JSt0Md7pmtvy2v6Ya0\",\n",
      "      \"status\": \"completed\",\n",
      "      \"step_details\": {\n",
      "        \"tool_calls\": [\n",
      "          {\n",
      "            \"id\": \"call_jDEIPZ9VLCq08ckZnGqw2yPF\",\n",
      "            \"file_search\": {},\n",
      "            \"type\": \"file_search\"\n",
      "          }\n",
      "        ],\n",
      "        \"type\": \"tool_calls\"\n",
      "      },\n",
      "      \"thread_id\": \"thread_03uu8MmiyzFpDiskBoIX19jO\",\n",
      "      \"type\": \"tool_calls\",\n",
      "      \"usage\": {\n",
      "        \"completion_tokens\": 30,\n",
      "        \"prompt_tokens\": 1301,\n",
      "        \"total_tokens\": 1331\n",
      "      },\n",
      "      \"expires_at\": null\n",
      "    }\n",
      "  ],\n",
      "  \"object\": \"list\",\n",
      "  \"first_id\": \"step_GpF4QLRo5qYfO3NX0znw0ZYw\",\n",
      "  \"last_id\": \"step_SVL45BWPd7ASQRrL2kAKdQM3\",\n",
      "  \"has_more\": false\n",
      "}\n"
     ]
    }
   ],
   "source": [
    "import json\n",
    "print(json.dumps(run_steps.to_dict(), indent=2))"
   ]
  },
  {
   "cell_type": "code",
   "execution_count": 57,
   "id": "7e466f1c-0bbe-4838-8f9b-39c21801cc9d",
   "metadata": {},
   "outputs": [],
   "source": [
    "def display_thread_messages(messages):\n",
    "    # EXPECTS MESSAGES IN ASC ORDER!\n",
    "    for thread_message in messages.data:\n",
    "        print(thread_message.content[0].text.value)\n",
    "        print('\\n')"
   ]
  },
  {
   "cell_type": "code",
   "execution_count": 58,
   "id": "b861eb4b-5f86-4eb8-b11f-04a802078ed9",
   "metadata": {},
   "outputs": [
    {
     "name": "stdout",
     "output_type": "stream",
     "text": [
      "Здравстуйте, вам сейчас будут заданы вопросы об астрологии.\n",
      "\n",
      "\n",
      "Привет, я очень рад помочь, пожалуйста я жду ваши вопросы.\n",
      "\n",
      "\n",
      "РАсскажите мне про планету ЛУНУ в Козероге, а так же какие Упайи для Луны требуются?\n",
      "\n",
      "\n",
      "Планета Луна в знаке Козерога указывает на то, что человек может проявляться как холодный, расчетливый и независимый, но в то же время он может быть заботливым, добрым и организованным. Луна в этом положении также указывает на важность мнения и поддержки матери в сфере социальных достижений, а также на стремление доказать свою профессиональность и получить поддержку от матери в карьере .\n",
      "\n",
      "Что касается Упайи для Луны, рекомендуется делать упайи по понедельникам, читать мантру \"ом намо бхагаватэ васудэвайя\" 108 раз с утра, поститься по понедельникам, употреблять масло гхи и теплое молоко на ночь, проявлять почтительное уважение к матери и детям, делать пожертвования в детские дома, сажать молочные деревья, носить серебро, лунный камень жемчуг и цвета: молочный, светлый, белый, серебристый, перламутровый, а также употреблять соленую еду  .\n",
      "\n",
      "Эти практики направлены на улучшение и усиление влияния Луны, а также на развитие позитивных качеств, свойственных этой планете.\n",
      "\n",
      "\n"
     ]
    }
   ],
   "source": [
    "display_thread_messages(messages)"
   ]
  },
  {
   "cell_type": "markdown",
   "id": "9211122c",
   "metadata": {},
   "source": [
    "## Вытаскивание аннотаций (чанки которые испольщовались для ответа модели). Пок еще API в бета тестировании и они часто отсутствуют"
   ]
  },
  {
   "cell_type": "code",
   "execution_count": 59,
   "id": "6226790c",
   "metadata": {},
   "outputs": [],
   "source": [
    "# Retrieve the message object\n",
    "message = client.beta.threads.messages.retrieve(\n",
    "  thread_id=thread.id,\n",
    "  message_id=\"msg_jic0ARrmIZm44VPlPIqWp1PZ\"\n",
    ")\n",
    "# Extract the message content\n",
    "message_content = message.content[0].text\n",
    "annotations = message_content.annotations\n",
    "citations = []\n",
    "# Iterate over the annotations and add footnotes\n",
    "for index, annotation in enumerate(annotations):\n",
    "    # Replace the text with a footnote\n",
    "    message_content.value = message_content.value.replace(annotation.text, f' [{index}]')\n",
    "    # Gather citations based on annotation attributes\n",
    "    if (file_citation := getattr(annotation, 'file_citation', None)):\n",
    "        cited_file = client.files.retrieve(file_citation.file_id)\n",
    "        citations.append(f'[{index}] {file_citation.quote} from {cited_file.filename}')\n",
    "    elif (file_path := getattr(annotation, 'file_path', None)):\n",
    "        cited_file = client.files.retrieve(file_path.file_id)\n",
    "        citations.append(f'[{index}] Click <here> to download {cited_file.filename}')\n",
    "        # Note: File download functionality not implemented above for brevity\n",
    "# Add footnotes to the end of the message before displaying to user\n",
    "message_content.value += '\\n' + '\\n'.join(citations)"
   ]
  },
  {
   "cell_type": "markdown",
   "id": "9e0bb9f7-f548-4fc4-b45d-fcc8ff7d56f8",
   "metadata": {},
   "source": [
    "### Важное замечание о цитировании:  \n",
    "\n",
    "На момент съемок/создания блокнота аннотации все еще часто остаются пустыми, но в будущем вы сможете получить к ним доступ, как описано в документации:\n",
    "\n",
    "\n",
    "https://platform.openai.com/docs/assistants/how-it-works/managing-threads-and-messages\n",
    "\n",
    "For example:\n",
    "\n",
    "    # Retrieve the message object\n",
    "    message = client.beta.threads.messages.retrieve(\n",
    "      thread_id=\"...\",\n",
    "      message_id=\"...\"\n",
    "    )\n",
    "\n",
    "    # Extract the message content\n",
    "    message_content = message.content[0].text\n",
    "    annotations = message_content.annotations\n",
    "    citations = []\n",
    "\n",
    "    # Iterate over the annotations and add footnotes\n",
    "    for index, annotation in enumerate(annotations):\n",
    "        # Replace the text with a footnote\n",
    "        message_content.value = message_content.value.replace(annotation.text, f' [{index}]')\n",
    "\n",
    "        # Gather citations based on annotation attributes\n",
    "        if (file_citation := getattr(annotation, 'file_citation', None)):\n",
    "            cited_file = client.files.retrieve(file_citation.file_id)\n",
    "            citations.append(f'[{index}] {file_citation.quote} from {cited_file.filename}')\n",
    "        elif (file_path := getattr(annotation, 'file_path', None)):\n",
    "            cited_file = client.files.retrieve(file_path.file_id)\n",
    "            citations.append(f'[{index}] Click <here> to download {cited_file.filename}')\n",
    "            # Note: File download functionality not implemented above for brevity\n",
    "\n",
    "    # Add footnotes to the end of the message before displaying to user\n",
    "    message_content.value += '\\n' + '\\n'.join(citations)"
   ]
  },
  {
   "cell_type": "markdown",
   "id": "0167b1e0-2142-432a-ba76-9d20524725cc",
   "metadata": {},
   "source": [
    "# Ask another message"
   ]
  },
  {
   "cell_type": "code",
   "execution_count": 63,
   "id": "b97c7af1-9590-444c-9c2b-16a4e6dba93c",
   "metadata": {},
   "outputs": [],
   "source": [
    "message = client.beta.threads.messages.create(\n",
    "    thread_id=thread.id,\n",
    "    role=\"user\",\n",
    "    content=\"РАсскажи мне про знак Скорпион в общих чертах, а так же про упайи Сатурна\"\n",
    ")"
   ]
  },
  {
   "cell_type": "code",
   "execution_count": 64,
   "id": "3f7226c3-3ddf-45a0-83f2-4fdfef2c93ad",
   "metadata": {},
   "outputs": [],
   "source": [
    "run = client.beta.threads.runs.create(\n",
    "  thread_id=thread.id,\n",
    "  assistant_id=assistant.id,\n",
    ")"
   ]
  },
  {
   "cell_type": "code",
   "execution_count": 66,
   "id": "cd8bf249-9536-4b65-8246-e17ed9bb7c56",
   "metadata": {},
   "outputs": [
    {
     "name": "stdout",
     "output_type": "stream",
     "text": [
      "completed\n"
     ]
    }
   ],
   "source": [
    "run = client.beta.threads.runs.retrieve(\n",
    "  thread_id=thread.id,\n",
    "  run_id=run.id,\n",
    ")\n",
    "print(run.status)"
   ]
  },
  {
   "cell_type": "code",
   "execution_count": 67,
   "id": "985dfe8c-e145-44a7-a1a0-77c18de71311",
   "metadata": {},
   "outputs": [
    {
     "name": "stdout",
     "output_type": "stream",
     "text": [
      "Здравстуйте, вам сейчас будут заданы вопросы об астрологии.\n",
      "\n",
      "\n",
      "Привет, я очень рад помочь, пожалуйста я жду ваши вопросы.\n",
      "\n",
      "\n",
      "РАсскажите мне про планету ЛУНУ в Козероге, а так же какие Упайи для Луны требуются?\n",
      "\n",
      "\n",
      "Планета Луна в знаке Козерога указывает на то, что человек может проявляться как холодный, расчетливый и независимый, но в то же время он может быть заботливым, добрым и организованным. Луна в этом положении также указывает на важность мнения и поддержки матери в сфере социальных достижений, а также на стремление доказать свою профессиональность и получить поддержку от матери в карьере .\n",
      "\n",
      "Что касается Упайи для Луны, рекомендуется делать упайи по понедельникам, читать мантру \"ом намо бхагаватэ васудэвайя\" 108 раз с утра, поститься по понедельникам, употреблять масло гхи и теплое молоко на ночь, проявлять почтительное уважение к матери и детям, делать пожертвования в детские дома, сажать молочные деревья, носить серебро, лунный камень жемчуг и цвета: молочный, светлый, белый, серебристый, перламутровый, а также употреблять соленую еду  .\n",
      "\n",
      "Эти практики направлены на улучшение и усиление влияния Луны, а также на развитие позитивных качеств, свойственных этой планете.\n",
      "\n",
      "\n",
      "РАсскажи мне про знак Скорпион в общих чертах, а так же про упайи Сатурна\n",
      "\n",
      "\n",
      "Знак Скорпион обычно описывается как страстный, решительный, настойчивый, энергичный и интенсивный. Люди с этим знаком часто обладают глубокой внутренней силой, стремятся к трансформации и могут проявлять мистические и оккультные тенденции. Скорпионы также могут быть склонны к манипуляциям, ревности, мстительности и интенсивным эмоциональным переживаниям. Однако они также обладают интуицией, способностью к трансформации, философским складом ума и внутренним магнетизмом. Физические особенности могут включать средний рост, сильное и крепкое тело, а также темное лицо с проницательным взглядом и специфической походкой .\n",
      "\n",
      "Что касается упайи для Сатурна, рекомендуется выполнять физические практики, такие как упражнения в йоге, долгие прогулки, чистку тела, употребление влажной и теплой пищи, а также выращивание определенных растений. Ментальные и социальные практики включают работу с внутренними страхами, прощение себя и других, посещение психолога, а также очистку и уборку в определенные дни. Духовные практики включают чтение мантр, участие в благотворительных мероприятиях и пожертвования, упражнения пранаямы и статические упражнения .\n",
      "\n",
      "Эти рекомендации направлены на гармонизацию влияния планеты Сатурн и улучшение позитивного проявления ее качеств.\n",
      "\n",
      "Вы можете найти более подробную информацию в источниках, предоставленных в этих документах.\n",
      "\n",
      "\n"
     ]
    }
   ],
   "source": [
    "messages = client.beta.threads.messages.list(\n",
    "    thread_id=thread.id, order=\"asc\",\n",
    ")\n",
    "\n",
    "display_thread_messages(messages)"
   ]
  },
  {
   "cell_type": "markdown",
   "id": "1cb75094-af79-4e74-be2b-d85805dd0a97",
   "metadata": {},
   "source": [
    "----"
   ]
  },
  {
   "cell_type": "markdown",
   "id": "c8264124-4424-45a2-a5dd-6f8516b29466",
   "metadata": {},
   "source": [
    "# Optional: Delete Assistant and All Files"
   ]
  },
  {
   "cell_type": "code",
   "execution_count": 92,
   "id": "5eb64cef-bda8-4349-93bb-602024d8d67d",
   "metadata": {},
   "outputs": [
    {
     "name": "stdout",
     "output_type": "stream",
     "text": [
      "AssistantDeleted(id='asst_lbz8tHzLjrR84E1NvZOWB4Az', deleted=True, object='assistant.deleted')\n"
     ]
    }
   ],
   "source": [
    "my_assistants = client.beta.assistants.list(\n",
    "    order=\"desc\",\n",
    "    limit=\"20\",\n",
    ")\n",
    "response = client.beta.assistants.delete(my_assistants.data[0].id)\n",
    "print(response)"
   ]
  },
  {
   "cell_type": "code",
   "execution_count": 93,
   "id": "4aea4da2-19b1-4d28-a751-b918f002ec02",
   "metadata": {},
   "outputs": [],
   "source": [
    "for file in client.files.list():\n",
    "    client.files.delete(file.id)"
   ]
  },
  {
   "cell_type": "code",
   "execution_count": 94,
   "id": "2c46b51a-98ac-4eba-868e-5d8d0266906d",
   "metadata": {},
   "outputs": [
    {
     "data": {
      "text/plain": [
       "SyncPage[FileObject](data=[], object='list', has_more=False)"
      ]
     },
     "execution_count": 94,
     "metadata": {},
     "output_type": "execute_result"
    }
   ],
   "source": [
    "client.files.list()"
   ]
  },
  {
   "cell_type": "code",
   "execution_count": null,
   "id": "d1acdedd-ae7e-417f-8eef-de97f3d895ca",
   "metadata": {},
   "outputs": [],
   "source": []
  }
 ],
 "metadata": {
  "kernelspec": {
   "display_name": "Python 3 (ipykernel)",
   "language": "python",
   "name": "python3"
  },
  "language_info": {
   "codemirror_mode": {
    "name": "ipython",
    "version": 3
   },
   "file_extension": ".py",
   "mimetype": "text/x-python",
   "name": "python",
   "nbconvert_exporter": "python",
   "pygments_lexer": "ipython3",
   "version": "3.11.4"
  }
 },
 "nbformat": 4,
 "nbformat_minor": 5
}
